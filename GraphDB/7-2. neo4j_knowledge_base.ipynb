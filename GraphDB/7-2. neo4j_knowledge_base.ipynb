{
 "cells": [
  {
   "cell_type": "code",
   "execution_count": 1,
   "metadata": {},
   "outputs": [],
   "source": [
    "from neo4j import GraphDatabase"
   ]
  },
  {
   "cell_type": "code",
   "execution_count": 16,
   "metadata": {},
   "outputs": [],
   "source": [
    "uri = 'neo4j://localhost:7687'\n",
    "user = 'neo4j'\n",
    "password = '1111'"
   ]
  },
  {
   "cell_type": "code",
   "execution_count": 17,
   "metadata": {},
   "outputs": [],
   "source": [
    "driver = GraphDatabase.driver(uri, auth=(user, password))"
   ]
  },
  {
   "cell_type": "code",
   "execution_count": 18,
   "metadata": {},
   "outputs": [],
   "source": [
    "def run_query(func):    \n",
    "    with driver.session() as session:         \n",
    "        session.read_transaction(func)   "
   ]
  },
  {
   "cell_type": "code",
   "execution_count": 35,
   "metadata": {},
   "outputs": [
    {
     "name": "stdout",
     "output_type": "stream",
     "text": [
      "암호화방식의 종류에는 비대칭키암호, 해시함수, 대칭키암호 등이 있습니다.\n"
     ]
    }
   ],
   "source": [
    "def get_cypher_method(tx):\n",
    "    lst = []\n",
    "    query = \"\"\"\n",
    "               MATCH (a{명칭:'암호화방식'}) - [r:종류] -> (b)\n",
    "               RETURN b.명칭 AS 암호화방식종류\n",
    "            \"\"\"\n",
    "    result = tx.run(query)    \n",
    "    \n",
    "    for record in result:\n",
    "        lst.append(record['암호화방식종류']) \n",
    "\n",
    "    print('암호화방식의 종류에는', ', '.join(lst), '등이 있습니다.')\n",
    "    \n",
    "run_query(get_cypher_method)      "
   ]
  },
  {
   "cell_type": "markdown",
   "metadata": {},
   "source": [
    "---"
   ]
  },
  {
   "cell_type": "code",
   "execution_count": 73,
   "metadata": {},
   "outputs": [
    {
     "name": "stdout",
     "output_type": "stream",
     "text": [
      "대칭키 암호 알고리즘은 AES(키길이:128, 192, 256)ARIA(키길이:128, 192, 256)SEED(키길이:128, 256) 등이 있습니다.\n"
     ]
    }
   ],
   "source": [
    "def get_symetric_key(tx):\n",
    "    lst = []\n",
    "    query = \"\"\"\n",
    "        MATCH (a{명칭:'대칭키암호'}) - [r:종류] -> (b)\n",
    "        RETURN b.명칭 AS 명칭, b.키길이 AS 키길이\n",
    "        \"\"\"\n",
    "    result = tx.run(query)\n",
    "    for record in result:\n",
    "        lst.append('{}(키길이:{})'.format(record['명칭'], record['키길이']))\n",
    "    print('대칭키 암호 알고리즘은', ''.join(lst),'등이 있습니다.')\n",
    "run_query(get_symetric_key)"
   ]
  },
  {
   "cell_type": "markdown",
   "metadata": {},
   "source": [
    "---"
   ]
  },
  {
   "cell_type": "code",
   "execution_count": 65,
   "metadata": {},
   "outputs": [
    {
     "name": "stdout",
     "output_type": "stream",
     "text": [
      "비밀키 암호 알고리즘은 암호화에 사용되는 키(암호화 키)와 복호화에 사용되는 키(복호화 키)가 서로 동일한 암호화 알고리즘 입니다.\n",
      "비밀키 알고리즘의 종류에는 AES, ARIA, SEED 등이 있습니다.\n"
     ]
    }
   ],
   "source": [
    "def get_primary_key(tx):\n",
    "    query = \"\"\"\n",
    "        MATCH (a) - [r:유사어] -> (b{명칭 : '비밀키암호'})\n",
    "        RETURN a.설명 AS 설명\n",
    "        \"\"\"\n",
    "    result = tx.run(query)\n",
    "    for record in result:\n",
    "        print('비밀키 암호 알고리증은', record['설명'], '입니다.')\n",
    "    \n",
    "    lst = []\n",
    "    query =\"\"\"\n",
    "                MATCH (a) - [rl: 유사어] -> (b{명칭:'비밀키암호'})\n",
    "                MATCH (a) - [r2: 종류] -> (c)\n",
    "                RETURN a.명칭 AS 명칭\n",
    "            \"\"\"\n",
    "    result = tx.run(query)\n",
    "    for record in result:\n",
    "        lst.append (record['명칭'])\n",
    "    \n",
    "    print('비일키 알고리즘의 종류에는', ', '.join(lst), '등이 있습니다.')\n",
    "\n",
    "run_query(get_private_key)"
   ]
  },
  {
   "cell_type": "markdown",
   "metadata": {},
   "source": [
    "---"
   ]
  },
  {
   "cell_type": "code",
   "execution_count": 56,
   "metadata": {},
   "outputs": [],
   "source": [
    "def run_exec_query(func):    \n",
    "    with driver.session() as session:         \n",
    "        session.write_transaction(func)  "
   ]
  },
  {
   "cell_type": "code",
   "execution_count": 54,
   "metadata": {},
   "outputs": [
    {
     "name": "stdout",
     "output_type": "stream",
     "text": [
      "해시함수 종류에는 SHA 등이 있습니다.\n"
     ]
    }
   ],
   "source": [
    "def get_Hash(tx):\n",
    "    lst = []\n",
    "    query = \"\"\"\n",
    "               MATCH (a{명칭:'해시함수'}) - [r:종류] -> (b)\n",
    "               RETURN b.명칭 AS 명칭\n",
    "               ORDER BY 명칭\n",
    "            \"\"\"\n",
    "    result = tx.run(query)    \n",
    "    for record in result:\n",
    "        lst.append(record['명칭']) \n",
    "    print('해시함수 종류에는', ', '.join(lst), '등이 있습니다.')\n",
    "    ㅇ\n",
    "run_query(get_Hash) "
   ]
  },
  {
   "cell_type": "code",
   "execution_count": 57,
   "metadata": {},
   "outputs": [
    {
     "name": "stdout",
     "output_type": "stream",
     "text": [
      "해시함수 종류에는 SHA 등이 있습니다.\n",
      "해시함수 종류에는 SHA, SHA3 등이 있습니다.\n"
     ]
    }
   ],
   "source": [
    "def set_Hash(tx):\n",
    "    \n",
    "    get_Hash(tx)\n",
    "    \n",
    "    query = \"\"\"\n",
    "               CREATE (a:암호화 { 명칭 : 'SHA3', 출력길이 : '224, 256, 384, 512', \\\n",
    "               설명 : 'SHA-1과 SHA-2를 대체하기 위해 미국 국립표준기술연구소(NIST)가 2015년 8월 5일에 발표한 스펀지 구조의 암호화 해시함수' });\n",
    "            \"\"\"\n",
    "    result = tx.run(query)    \n",
    "    \n",
    "    query = \"\"\"\n",
    "               MATCH (a{명칭:'해시함수'}) \n",
    "               MATCH (b{명칭:'SHA3'}) \n",
    "               CREATE (a) - [r:종류] -> (b);\n",
    "            \"\"\"\n",
    "    result = tx.run(query)    \n",
    "\n",
    "    get_Hash(tx)\n",
    "        \n",
    "run_exec_query(set_Hash)  "
   ]
  },
  {
   "cell_type": "markdown",
   "metadata": {},
   "source": [
    "---"
   ]
  },
  {
   "cell_type": "code",
   "execution_count": null,
   "metadata": {},
   "outputs": [],
   "source": []
  }
 ],
 "metadata": {
  "kernelspec": {
   "display_name": "Python 3",
   "language": "python",
   "name": "python3"
  },
  "language_info": {
   "codemirror_mode": {
    "name": "ipython",
    "version": 3
   },
   "file_extension": ".py",
   "mimetype": "text/x-python",
   "name": "python",
   "nbconvert_exporter": "python",
   "pygments_lexer": "ipython3",
   "version": "3.7.3"
  }
 },
 "nbformat": 4,
 "nbformat_minor": 4
}
