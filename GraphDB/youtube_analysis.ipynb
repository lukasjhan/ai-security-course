{
 "cells": [
  {
   "cell_type": "markdown",
   "metadata": {
    "colab_type": "text",
    "id": "fLOx1O7oMqgk"
   },
   "source": [
    "## 1. 자막파일 텍스트만 추출"
   ]
  },
  {
   "cell_type": "code",
   "execution_count": null,
   "metadata": {
    "colab": {},
    "colab_type": "code",
    "id": "Vii-sK5AJfpJ"
   },
   "outputs": [],
   "source": [
    "import pandas as pd\n",
    "data = pd.read_csv('crawling_data_raw.csv', delimiter=';')\n",
    "\n",
    "import re\n",
    "\n",
    "def srt_to_strings(caption_strings):\n",
    "    regex_list = []\n",
    "    re_pattern = r'[0-9]+\\n[0-9]{2}:[0-9]{2}:[0-9]{2},[0-9]{3} --> [0-9]{2}:[0-9]{2}:[0-9]{2},[0-9]{3}\\n'\n",
    "    for caption_string in caption_strings:\n",
    "        if caption_string == None:\n",
    "            continue\n",
    "        sub = str(caption_string)\n",
    "        string_list = re.compile(re_pattern).split(sub)\n",
    "        regex_list.extend(string_list)\n",
    "    \n",
    "    return regex_list\n",
    "\n",
    "sentences = srt_to_strings(data['caption'])\n",
    "sentences = pd.DataFrame(sentences)\n",
    "sentences.columns = ['sentence']\n",
    "\n",
    "sentences = sentences['sentence'].str.replace(\"\\n\", \"\")\n",
    "\n",
    "\n",
    "sentences = sentences.to_frame()\n"
   ]
  },
  {
   "cell_type": "code",
   "execution_count": null,
   "metadata": {
    "colab": {},
    "colab_type": "code",
    "id": "E_j0gWw1JrER"
   },
   "outputs": [],
   "source": [
    "tmp = sentences.copy(deep=True)"
   ]
  },
  {
   "cell_type": "code",
   "execution_count": null,
   "metadata": {
    "colab": {
     "base_uri": "https://localhost:8080/",
     "height": 173
    },
    "colab_type": "code",
    "executionInfo": {
     "elapsed": 765,
     "status": "ok",
     "timestamp": 1596354988635,
     "user": {
      "displayName": "Jiwon Lee",
      "photoUrl": "",
      "userId": "12590121175757672431"
     },
     "user_tz": -540
    },
    "id": "FI64dQH3K_jm",
    "outputId": "11078792-5edc-47e9-b282-6a9427992808"
   },
   "outputs": [
    {
     "data": {
      "text/html": [
       "<div>\n",
       "<style scoped>\n",
       "    .dataframe tbody tr th:only-of-type {\n",
       "        vertical-align: middle;\n",
       "    }\n",
       "\n",
       "    .dataframe tbody tr th {\n",
       "        vertical-align: top;\n",
       "    }\n",
       "\n",
       "    .dataframe thead th {\n",
       "        text-align: right;\n",
       "    }\n",
       "</style>\n",
       "<table border=\"1\" class=\"dataframe\">\n",
       "  <thead>\n",
       "    <tr style=\"text-align: right;\">\n",
       "      <th></th>\n",
       "      <th>sentence</th>\n",
       "    </tr>\n",
       "  </thead>\n",
       "  <tbody>\n",
       "    <tr>\n",
       "      <th>count</th>\n",
       "      <td>272175</td>\n",
       "    </tr>\n",
       "    <tr>\n",
       "      <th>unique</th>\n",
       "      <td>240375</td>\n",
       "    </tr>\n",
       "    <tr>\n",
       "      <th>top</th>\n",
       "      <td>[음악]</td>\n",
       "    </tr>\n",
       "    <tr>\n",
       "      <th>freq</th>\n",
       "      <td>8467</td>\n",
       "    </tr>\n",
       "  </tbody>\n",
       "</table>\n",
       "</div>"
      ],
      "text/plain": [
       "       sentence\n",
       "count    272175\n",
       "unique   240375\n",
       "top        [음악]\n",
       "freq       8467"
      ]
     },
     "execution_count": 15,
     "metadata": {
      "tags": []
     },
     "output_type": "execute_result"
    }
   ],
   "source": [
    "tmp.describe()"
   ]
  },
  {
   "cell_type": "markdown",
   "metadata": {
    "colab_type": "text",
    "id": "LIAAQsDUMl8j"
   },
   "source": [
    "## 2. 띄어쓰기 교정 및 파일 저장"
   ]
  },
  {
   "cell_type": "code",
   "execution_count": null,
   "metadata": {
    "colab": {},
    "colab_type": "code",
    "id": "3BrsHojCJLRy"
   },
   "outputs": [],
   "source": [
    "!pip3 install git+https://github.com/haven-jeon/PyKoSpacing.git"
   ]
  },
  {
   "cell_type": "code",
   "execution_count": null,
   "metadata": {
    "colab": {},
    "colab_type": "code",
    "id": "IpIN1N03JpEE"
   },
   "outputs": [],
   "source": [
    "from pykospacing import spacing\n",
    "def spacing_func(sentence):\n",
    "    return spacing(sentence)"
   ]
  },
  {
   "cell_type": "code",
   "execution_count": null,
   "metadata": {
    "colab": {},
    "colab_type": "code",
    "id": "Vq5SU35YKCIt"
   },
   "outputs": [],
   "source": [
    "tmp['sentence'][:1000] = tmp['sentence'][:1000].apply(spacing_func)"
   ]
  },
  {
   "cell_type": "code",
   "execution_count": null,
   "metadata": {
    "colab": {},
    "colab_type": "code",
    "id": "stQKFJNbKxtu"
   },
   "outputs": [],
   "source": [
    "tmp['sentence'][1001:2000] = tmp['sentence'][1001:2000].apply(spacing_func)"
   ]
  },
  {
   "cell_type": "code",
   "execution_count": null,
   "metadata": {
    "colab": {},
    "colab_type": "code",
    "id": "CL_h5rarK6Jb"
   },
   "outputs": [],
   "source": [
    "for i in range(2001, 272000, 1000):\n",
    "  tmp['sentence'][i:i+1000] = tmp['sentence'][i:i+1000].apply(spacing_func)\n",
    "  print('%d to %d completed' % (i, i + 1000))"
   ]
  },
  {
   "cell_type": "code",
   "execution_count": null,
   "metadata": {
    "colab": {},
    "colab_type": "code",
    "id": "OEVHPjwJKpyO"
   },
   "outputs": [],
   "source": [
    "tmp['sentence'][272001:272174] = tmp['sentence'][272001:272174].apply(spacing_func)"
   ]
  },
  {
   "cell_type": "code",
   "execution_count": null,
   "metadata": {
    "colab": {},
    "colab_type": "code",
    "id": "pajug755q28p"
   },
   "outputs": [],
   "source": [
    "tmp.to_csv('pykospacing_result1.csv', sep=\";\")"
   ]
  },
  {
   "cell_type": "code",
   "execution_count": null,
   "metadata": {
    "colab": {},
    "colab_type": "code",
    "id": "sslo-RVhrFkR"
   },
   "outputs": [],
   "source": [
    "from google.colab import files\n",
    "files.download('pykospacing_result1.csv') "
   ]
  },
  {
   "cell_type": "markdown",
   "metadata": {
    "colab_type": "text",
    "id": "2rNiRFuUMawJ"
   },
   "source": [
    "## 3. 불용어 제거 및 토큰화"
   ]
  },
  {
   "cell_type": "code",
   "execution_count": null,
   "metadata": {
    "colab": {},
    "colab_type": "code",
    "id": "ZbpQEy_kM1Y6"
   },
   "outputs": [],
   "source": [
    "import pandas as pd\n",
    "import numpy as np"
   ]
  },
  {
   "cell_type": "code",
   "execution_count": null,
   "metadata": {
    "colab": {},
    "colab_type": "code",
    "id": "rINWG8SmM6mc"
   },
   "outputs": [],
   "source": [
    "captions = pd.read_csv('pykospacing_result1.csv', sep = ';')"
   ]
  },
  {
   "cell_type": "code",
   "execution_count": null,
   "metadata": {
    "colab": {
     "base_uri": "https://localhost:8080/",
     "height": 68
    },
    "colab_type": "code",
    "executionInfo": {
     "elapsed": 870,
     "status": "ok",
     "timestamp": 1596461947298,
     "user": {
      "displayName": "Jiwon Lee",
      "photoUrl": "",
      "userId": "12590121175757672431"
     },
     "user_tz": -540
    },
    "id": "QKXuy32sTjRn",
    "outputId": "f382090e-6c38-44d2-86bb-40a8d730b2dd"
   },
   "outputs": [
    {
     "name": "stdout",
     "output_type": "stream",
     "text": [
      "id             0\n",
      "sentence    2083\n",
      "dtype: int64\n"
     ]
    }
   ],
   "source": [
    "print(captions.isnull().sum())"
   ]
  },
  {
   "cell_type": "code",
   "execution_count": null,
   "metadata": {
    "colab": {},
    "colab_type": "code",
    "id": "-3u_8FuIUkp8"
   },
   "outputs": [],
   "source": [
    "captions['sentence'].replace('', np.nan, inplace=True)\n",
    "captions = captions.dropna(how='any')"
   ]
  },
  {
   "cell_type": "code",
   "execution_count": null,
   "metadata": {
    "colab": {
     "base_uri": "https://localhost:8080/",
     "height": 68
    },
    "colab_type": "code",
    "executionInfo": {
     "elapsed": 1015,
     "status": "ok",
     "timestamp": 1596461961091,
     "user": {
      "displayName": "Jiwon Lee",
      "photoUrl": "",
      "userId": "12590121175757672431"
     },
     "user_tz": -540
    },
    "id": "UMu9r_RtU_19",
    "outputId": "722b5ad2-4666-452d-e07a-f202b7e892c4"
   },
   "outputs": [
    {
     "name": "stdout",
     "output_type": "stream",
     "text": [
      "id          0\n",
      "sentence    0\n",
      "dtype: int64\n"
     ]
    }
   ],
   "source": [
    "print(captions.isnull().sum())"
   ]
  },
  {
   "cell_type": "code",
   "execution_count": null,
   "metadata": {
    "colab": {},
    "colab_type": "code",
    "id": "YM4nq5C2iZl-"
   },
   "outputs": [],
   "source": [
    "captions['sentence'] = captions['sentence'].str.replace(\"\\[\\]\", \"\")\n",
    "captions['sentence'] = captions['sentence'].str.replace(\"\\[박수\\]\", \"\")\n",
    "captions['sentence'] = captions['sentence'].str.replace(\"\\[음악\\]\", \"\")"
   ]
  },
  {
   "cell_type": "code",
   "execution_count": null,
   "metadata": {
    "colab": {
     "base_uri": "https://localhost:8080/",
     "height": 34
    },
    "colab_type": "code",
    "executionInfo": {
     "elapsed": 854,
     "status": "ok",
     "timestamp": 1596462027345,
     "user": {
      "displayName": "Jiwon Lee",
      "photoUrl": "",
      "userId": "12590121175757672431"
     },
     "user_tz": -540
    },
    "id": "Qmwg9_d4P9b6",
    "outputId": "ece1afbe-7d99-4272-f437-8162353a9906"
   },
   "outputs": [
    {
     "name": "stdout",
     "output_type": "stream",
     "text": [
      "416\n"
     ]
    }
   ],
   "source": [
    "stopword_data = pd.read_csv('stopwords_ver2.txt', sep='\\n', header=None)\n",
    "stopwords = stopword_data[0].tolist()\n",
    "print(len(stopwords))"
   ]
  },
  {
   "cell_type": "code",
   "execution_count": null,
   "metadata": {
    "colab": {},
    "colab_type": "code",
    "id": "_igy2un6SL3h"
   },
   "outputs": [],
   "source": [
    "!pip3 install konlpy"
   ]
  },
  {
   "cell_type": "code",
   "execution_count": null,
   "metadata": {
    "colab": {},
    "colab_type": "code",
    "id": "o2QcOQGDvWdu"
   },
   "outputs": [],
   "source": [
    "from konlpy.tag import Okt"
   ]
  },
  {
   "cell_type": "code",
   "execution_count": null,
   "metadata": {
    "colab": {
     "base_uri": "https://localhost:8080/",
     "height": 136
    },
    "colab_type": "code",
    "executionInfo": {
     "elapsed": 798867,
     "status": "ok",
     "timestamp": 1596465251107,
     "user": {
      "displayName": "Jiwon Lee",
      "photoUrl": "",
      "userId": "12590121175757672431"
     },
     "user_tz": -540
    },
    "id": "t1jMXSIZyzWo",
    "outputId": "cf9e86df-1341-4de7-ed8d-86739c05a722"
   },
   "outputs": [
    {
     "name": "stdout",
     "output_type": "stream",
     "text": [
      "cnt: 0\n",
      "cnt: 50000\n",
      "cnt: 100000\n",
      "cnt: 150000\n",
      "cnt: 200000\n",
      "cnt: 250000\n",
      "completed\n"
     ]
    }
   ],
   "source": [
    "okt = Okt()\n",
    "tokenized_captions = []\n",
    "cnt = 0\n",
    "LOG_UNIT = 50000\n",
    "for caption in captions['sentence']:\n",
    "  tokenized_temp = okt.morphs(caption, stem=True) # 토큰화, stem=True는 일정 수준의 정규화를 수행해준다\n",
    "  tokenized_temp = [word for word in tokenized_temp if not word in stopwords] # 불용어 제거\n",
    "  # tokenized_tuples = list(map(lambda word: okt.pos(word), tokenized_temp))\n",
    "  tokenized_captions.append(tokenized_temp)\n",
    "  if cnt % LOG_UNIT == 0:\n",
    "    print('cnt: %d' % cnt)\n",
    "  cnt += 1\n",
    "\n",
    "print('completed')"
   ]
  },
  {
   "cell_type": "code",
   "execution_count": null,
   "metadata": {
    "colab": {},
    "colab_type": "code",
    "id": "avAnohsdvmIa"
   },
   "outputs": [],
   "source": [
    "words = np.hstack(tokenized_captions)"
   ]
  },
  {
   "cell_type": "code",
   "execution_count": null,
   "metadata": {
    "colab": {},
    "colab_type": "code",
    "id": "nEGhcjGYZLkp"
   },
   "outputs": [],
   "source": [
    "from collections import Counter\n",
    "\n",
    "words_counter = Counter(words)\n",
    "words_counter = words_counter.most_common()"
   ]
  },
  {
   "cell_type": "code",
   "execution_count": null,
   "metadata": {
    "colab": {},
    "colab_type": "code",
    "id": "7EGQ2B23a9NE"
   },
   "outputs": [],
   "source": [
    "import csv\n",
    "\n",
    "with open('words_counter_ver2.csv','w') as out:\n",
    "    csv_out = csv.writer(out)\n",
    "    csv_out.writerow(['name','num'])\n",
    "    for row in words_counter:\n",
    "        csv_out.writerow(row)"
   ]
  },
  {
   "cell_type": "markdown",
   "metadata": {
    "colab_type": "text",
    "id": "TSX2JRmKC18T"
   },
   "source": [
    "## 4. 품사 태깅"
   ]
  },
  {
   "cell_type": "markdown",
   "metadata": {
    "colab_type": "text",
    "id": "QeaH7u5-vuXI"
   },
   "source": [
    "(keyword, count) 형식으로 되어있는 words_counter list에서, 각 keyword의 품사를 확인하고 keyword가 더 작은 단위로 분해될 수 있는지 확인. `Okt().pos(word)` 를 이용할 것임"
   ]
  },
  {
   "cell_type": "code",
   "execution_count": null,
   "metadata": {
    "colab": {
     "base_uri": "https://localhost:8080/",
     "height": 51
    },
    "colab_type": "code",
    "executionInfo": {
     "elapsed": 11605,
     "status": "ok",
     "timestamp": 1596465628728,
     "user": {
      "displayName": "Jiwon Lee",
      "photoUrl": "",
      "userId": "12590121175757672431"
     },
     "user_tz": -540
    },
    "id": "zVz5Cw_2wHTZ",
    "outputId": "d86edec8-a66d-4282-ebf9-04717211a170"
   },
   "outputs": [
    {
     "name": "stdout",
     "output_type": "stream",
     "text": [
      "cnt: 0\n",
      "completed\n"
     ]
    }
   ],
   "source": [
    "words_counter_pos = []\n",
    "for item in words_counter:\n",
    "  pos_tuple = (item[0], item[1], okt.pos(item[0]))\n",
    "  words_counter_pos.append(pos_tuple)"
   ]
  },
  {
   "cell_type": "code",
   "execution_count": null,
   "metadata": {
    "colab": {
     "base_uri": "https://localhost:8080/",
     "height": 102
    },
    "colab_type": "code",
    "executionInfo": {
     "elapsed": 816,
     "status": "ok",
     "timestamp": 1596465837427,
     "user": {
      "displayName": "Jiwon Lee",
      "photoUrl": "",
      "userId": "12590121175757672431"
     },
     "user_tz": -540
    },
    "id": "NakhSTx6x1x2",
    "outputId": "49783394-fa0d-4dc3-9d11-d2e6be50a47b"
   },
   "outputs": [
    {
     "data": {
      "text/plain": [
       "[('먹다', 28119, [('먹다', 'Verb')]),\n",
       " ('맛', 17926, [('맛', 'Noun')]),\n",
       " ('.', 16688, [('.', 'Punctuation')]),\n",
       " ('좋다', 13703, [('좋다', 'Adjective')]),\n",
       " ('나오다', 11128, [('나오다', 'Verb')])]"
      ]
     },
     "execution_count": 38,
     "metadata": {
      "tags": []
     },
     "output_type": "execute_result"
    }
   ],
   "source": [
    "words_counter_pos[:5]"
   ]
  },
  {
   "cell_type": "code",
   "execution_count": null,
   "metadata": {
    "colab": {},
    "colab_type": "code",
    "id": "Sa_Fg_Bwxpw3"
   },
   "outputs": [],
   "source": [
    "wcp_df = pd.DataFrame(words_counter_pos)\n",
    "wcp_df.columns = ['word', 'count', 'pos']"
   ]
  },
  {
   "cell_type": "code",
   "execution_count": null,
   "metadata": {
    "colab": {
     "base_uri": "https://localhost:8080/",
     "height": 204
    },
    "colab_type": "code",
    "executionInfo": {
     "elapsed": 806,
     "status": "ok",
     "timestamp": 1596465938659,
     "user": {
      "displayName": "Jiwon Lee",
      "photoUrl": "",
      "userId": "12590121175757672431"
     },
     "user_tz": -540
    },
    "id": "k4cd39XWyA2l",
    "outputId": "2a4927e9-546a-4330-c5f9-0285d1a21fcb"
   },
   "outputs": [
    {
     "data": {
      "text/html": [
       "<div>\n",
       "<style scoped>\n",
       "    .dataframe tbody tr th:only-of-type {\n",
       "        vertical-align: middle;\n",
       "    }\n",
       "\n",
       "    .dataframe tbody tr th {\n",
       "        vertical-align: top;\n",
       "    }\n",
       "\n",
       "    .dataframe thead th {\n",
       "        text-align: right;\n",
       "    }\n",
       "</style>\n",
       "<table border=\"1\" class=\"dataframe\">\n",
       "  <thead>\n",
       "    <tr style=\"text-align: right;\">\n",
       "      <th></th>\n",
       "      <th>word</th>\n",
       "      <th>count</th>\n",
       "      <th>pos</th>\n",
       "    </tr>\n",
       "  </thead>\n",
       "  <tbody>\n",
       "    <tr>\n",
       "      <th>0</th>\n",
       "      <td>먹다</td>\n",
       "      <td>28119</td>\n",
       "      <td>[(먹다, Verb)]</td>\n",
       "    </tr>\n",
       "    <tr>\n",
       "      <th>1</th>\n",
       "      <td>맛</td>\n",
       "      <td>17926</td>\n",
       "      <td>[(맛, Noun)]</td>\n",
       "    </tr>\n",
       "    <tr>\n",
       "      <th>2</th>\n",
       "      <td>.</td>\n",
       "      <td>16688</td>\n",
       "      <td>[(., Punctuation)]</td>\n",
       "    </tr>\n",
       "    <tr>\n",
       "      <th>3</th>\n",
       "      <td>좋다</td>\n",
       "      <td>13703</td>\n",
       "      <td>[(좋다, Adjective)]</td>\n",
       "    </tr>\n",
       "    <tr>\n",
       "      <th>4</th>\n",
       "      <td>나오다</td>\n",
       "      <td>11128</td>\n",
       "      <td>[(나오다, Verb)]</td>\n",
       "    </tr>\n",
       "  </tbody>\n",
       "</table>\n",
       "</div>"
      ],
      "text/plain": [
       "  word  count                 pos\n",
       "0   먹다  28119        [(먹다, Verb)]\n",
       "1    맛  17926         [(맛, Noun)]\n",
       "2    .  16688  [(., Punctuation)]\n",
       "3   좋다  13703   [(좋다, Adjective)]\n",
       "4  나오다  11128       [(나오다, Verb)]"
      ]
     },
     "execution_count": 44,
     "metadata": {
      "tags": []
     },
     "output_type": "execute_result"
    }
   ],
   "source": [
    "wcp_df.head()"
   ]
  },
  {
   "cell_type": "code",
   "execution_count": null,
   "metadata": {
    "colab": {
     "base_uri": "https://localhost:8080/",
     "height": 297
    },
    "colab_type": "code",
    "executionInfo": {
     "elapsed": 976,
     "status": "ok",
     "timestamp": 1596465948047,
     "user": {
      "displayName": "Jiwon Lee",
      "photoUrl": "",
      "userId": "12590121175757672431"
     },
     "user_tz": -540
    },
    "id": "SYrdGOEmyQp4",
    "outputId": "3edbac18-4ad6-41fe-88c6-5c0fd8ea8b78"
   },
   "outputs": [
    {
     "data": {
      "text/html": [
       "<div>\n",
       "<style scoped>\n",
       "    .dataframe tbody tr th:only-of-type {\n",
       "        vertical-align: middle;\n",
       "    }\n",
       "\n",
       "    .dataframe tbody tr th {\n",
       "        vertical-align: top;\n",
       "    }\n",
       "\n",
       "    .dataframe thead th {\n",
       "        text-align: right;\n",
       "    }\n",
       "</style>\n",
       "<table border=\"1\" class=\"dataframe\">\n",
       "  <thead>\n",
       "    <tr style=\"text-align: right;\">\n",
       "      <th></th>\n",
       "      <th>count</th>\n",
       "    </tr>\n",
       "  </thead>\n",
       "  <tbody>\n",
       "    <tr>\n",
       "      <th>count</th>\n",
       "      <td>36683.000000</td>\n",
       "    </tr>\n",
       "    <tr>\n",
       "      <th>mean</th>\n",
       "      <td>43.017147</td>\n",
       "    </tr>\n",
       "    <tr>\n",
       "      <th>std</th>\n",
       "      <td>350.733884</td>\n",
       "    </tr>\n",
       "    <tr>\n",
       "      <th>min</th>\n",
       "      <td>1.000000</td>\n",
       "    </tr>\n",
       "    <tr>\n",
       "      <th>25%</th>\n",
       "      <td>1.000000</td>\n",
       "    </tr>\n",
       "    <tr>\n",
       "      <th>50%</th>\n",
       "      <td>3.000000</td>\n",
       "    </tr>\n",
       "    <tr>\n",
       "      <th>75%</th>\n",
       "      <td>10.000000</td>\n",
       "    </tr>\n",
       "    <tr>\n",
       "      <th>max</th>\n",
       "      <td>28119.000000</td>\n",
       "    </tr>\n",
       "  </tbody>\n",
       "</table>\n",
       "</div>"
      ],
      "text/plain": [
       "              count\n",
       "count  36683.000000\n",
       "mean      43.017147\n",
       "std      350.733884\n",
       "min        1.000000\n",
       "25%        1.000000\n",
       "50%        3.000000\n",
       "75%       10.000000\n",
       "max    28119.000000"
      ]
     },
     "execution_count": 45,
     "metadata": {
      "tags": []
     },
     "output_type": "execute_result"
    }
   ],
   "source": [
    "wcp_df.describe()"
   ]
  },
  {
   "cell_type": "code",
   "execution_count": null,
   "metadata": {
    "colab": {
     "base_uri": "https://localhost:8080/",
     "height": 204
    },
    "colab_type": "code",
    "executionInfo": {
     "elapsed": 1044,
     "status": "ok",
     "timestamp": 1596466580881,
     "user": {
      "displayName": "Jiwon Lee",
      "photoUrl": "",
      "userId": "12590121175757672431"
     },
     "user_tz": -540
    },
    "id": "WH6OKJY-yXO8",
    "outputId": "121311f6-79fd-4bf9-a7ff-06a00fa986f2"
   },
   "outputs": [
    {
     "data": {
      "text/html": [
       "<div>\n",
       "<style scoped>\n",
       "    .dataframe tbody tr th:only-of-type {\n",
       "        vertical-align: middle;\n",
       "    }\n",
       "\n",
       "    .dataframe tbody tr th {\n",
       "        vertical-align: top;\n",
       "    }\n",
       "\n",
       "    .dataframe thead th {\n",
       "        text-align: right;\n",
       "    }\n",
       "</style>\n",
       "<table border=\"1\" class=\"dataframe\">\n",
       "  <thead>\n",
       "    <tr style=\"text-align: right;\">\n",
       "      <th></th>\n",
       "      <th>word</th>\n",
       "      <th>count</th>\n",
       "      <th>pos</th>\n",
       "    </tr>\n",
       "  </thead>\n",
       "  <tbody>\n",
       "    <tr>\n",
       "      <th>93</th>\n",
       "      <td>보이다</td>\n",
       "      <td>2579</td>\n",
       "      <td>[(보이, Noun), (다, Josa)]</td>\n",
       "    </tr>\n",
       "    <tr>\n",
       "      <th>98</th>\n",
       "      <td>올리다</td>\n",
       "      <td>2475</td>\n",
       "      <td>[(올, Modifier), (리다, Noun)]</td>\n",
       "    </tr>\n",
       "    <tr>\n",
       "      <th>208</th>\n",
       "      <td>여기다</td>\n",
       "      <td>1231</td>\n",
       "      <td>[(여기, Noun), (다, Josa)]</td>\n",
       "    </tr>\n",
       "    <tr>\n",
       "      <th>261</th>\n",
       "      <td>쉬다</td>\n",
       "      <td>1036</td>\n",
       "      <td>[(쉬, Noun), (다, Josa)]</td>\n",
       "    </tr>\n",
       "    <tr>\n",
       "      <th>316</th>\n",
       "      <td>생기다</td>\n",
       "      <td>888</td>\n",
       "      <td>[(생기, Noun), (다, Josa)]</td>\n",
       "    </tr>\n",
       "  </tbody>\n",
       "</table>\n",
       "</div>"
      ],
      "text/plain": [
       "    word  count                          pos\n",
       "93   보이다   2579      [(보이, Noun), (다, Josa)]\n",
       "98   올리다   2475  [(올, Modifier), (리다, Noun)]\n",
       "208  여기다   1231      [(여기, Noun), (다, Josa)]\n",
       "261   쉬다   1036       [(쉬, Noun), (다, Josa)]\n",
       "316  생기다    888      [(생기, Noun), (다, Josa)]"
      ]
     },
     "execution_count": 57,
     "metadata": {
      "tags": []
     },
     "output_type": "execute_result"
    }
   ],
   "source": [
    "can_be_divided = wcp_df[wcp_df['pos'].map(len) >= 2]\n",
    "can_be_divided.head()"
   ]
  },
  {
   "cell_type": "code",
   "execution_count": null,
   "metadata": {
    "colab": {
     "base_uri": "https://localhost:8080/",
     "height": 297
    },
    "colab_type": "code",
    "executionInfo": {
     "elapsed": 822,
     "status": "ok",
     "timestamp": 1596466802500,
     "user": {
      "displayName": "Jiwon Lee",
      "photoUrl": "",
      "userId": "12590121175757672431"
     },
     "user_tz": -540
    },
    "id": "B7JTeAo-0uJz",
    "outputId": "fd2a5ecf-52b8-41bc-971e-d940747c2a30"
   },
   "outputs": [
    {
     "data": {
      "text/html": [
       "<div>\n",
       "<style scoped>\n",
       "    .dataframe tbody tr th:only-of-type {\n",
       "        vertical-align: middle;\n",
       "    }\n",
       "\n",
       "    .dataframe tbody tr th {\n",
       "        vertical-align: top;\n",
       "    }\n",
       "\n",
       "    .dataframe thead th {\n",
       "        text-align: right;\n",
       "    }\n",
       "</style>\n",
       "<table border=\"1\" class=\"dataframe\">\n",
       "  <thead>\n",
       "    <tr style=\"text-align: right;\">\n",
       "      <th></th>\n",
       "      <th>count</th>\n",
       "    </tr>\n",
       "  </thead>\n",
       "  <tbody>\n",
       "    <tr>\n",
       "      <th>count</th>\n",
       "      <td>569.00000</td>\n",
       "    </tr>\n",
       "    <tr>\n",
       "      <th>mean</th>\n",
       "      <td>37.71529</td>\n",
       "    </tr>\n",
       "    <tr>\n",
       "      <th>std</th>\n",
       "      <td>186.47299</td>\n",
       "    </tr>\n",
       "    <tr>\n",
       "      <th>min</th>\n",
       "      <td>1.00000</td>\n",
       "    </tr>\n",
       "    <tr>\n",
       "      <th>25%</th>\n",
       "      <td>1.00000</td>\n",
       "    </tr>\n",
       "    <tr>\n",
       "      <th>50%</th>\n",
       "      <td>2.00000</td>\n",
       "    </tr>\n",
       "    <tr>\n",
       "      <th>75%</th>\n",
       "      <td>6.00000</td>\n",
       "    </tr>\n",
       "    <tr>\n",
       "      <th>max</th>\n",
       "      <td>2579.00000</td>\n",
       "    </tr>\n",
       "  </tbody>\n",
       "</table>\n",
       "</div>"
      ],
      "text/plain": [
       "            count\n",
       "count   569.00000\n",
       "mean     37.71529\n",
       "std     186.47299\n",
       "min       1.00000\n",
       "25%       1.00000\n",
       "50%       2.00000\n",
       "75%       6.00000\n",
       "max    2579.00000"
      ]
     },
     "execution_count": 62,
     "metadata": {
      "tags": []
     },
     "output_type": "execute_result"
    }
   ],
   "source": [
    "can_be_divided.describe()"
   ]
  },
  {
   "cell_type": "code",
   "execution_count": null,
   "metadata": {
    "colab": {},
    "colab_type": "code",
    "id": "W0xiRWRC1JFw"
   },
   "outputs": [],
   "source": [
    "can_be_divided.to_csv('can_be_divided.csv', sep=';')"
   ]
  },
  {
   "cell_type": "code",
   "execution_count": null,
   "metadata": {
    "colab": {
     "base_uri": "https://localhost:8080/",
     "height": 34
    },
    "colab_type": "code",
    "executionInfo": {
     "elapsed": 1017,
     "status": "ok",
     "timestamp": 1596467617259,
     "user": {
      "displayName": "Jiwon Lee",
      "photoUrl": "",
      "userId": "12590121175757672431"
     },
     "user_tz": -540
    },
    "id": "xSVn7KZO3bfE",
    "outputId": "680a91ff-4509-4d06-c8a1-19698836da28"
   },
   "outputs": [
    {
     "name": "stdout",
     "output_type": "stream",
     "text": [
      "여러 품사로 분해되는 단어 중, 등장 빈도수가 10 이상인 단어 비율 0.22\n"
     ]
    }
   ],
   "source": [
    "cnt_more_than_10 = len(can_be_divided[can_be_divided['count'] >= 10])\n",
    "print('여러 품사로 분해되는 단어 중, 등장 빈도수가 10 이상인 단어 비율 %.2f' % (cnt_more_than_10 / len(can_be_divided)))"
   ]
  },
  {
   "cell_type": "markdown",
   "metadata": {
    "colab_type": "text",
    "id": "FHlbCrzw3SSg"
   },
   "source": [
    "569개의 단어들을 확인한 결과, 등장 빈도수가 10 이상인 단어 비율이 0.22이고, 등장 빈도수가 높은 단어들 위주로 살펴보았을때, 추출할만한 키워드가 적었다. 따라서 아래 품사 관련 분석에서는, 품사 태깅이 한 종류로만 이루어진 단어들에 대한 분석만 진행했다.\n",
    "\n",
    "cf) 빈도수가 1000이 넘어가는 단어들은, '보이다, 올리다, 여기다, 쉬다'로 분석에 크게 필요하지 않은 단어들이었다. "
   ]
  },
  {
   "cell_type": "code",
   "execution_count": null,
   "metadata": {
    "colab": {},
    "colab_type": "code",
    "id": "9lX0q0gT08Yj"
   },
   "outputs": [],
   "source": [
    "pos_analysis_df = wcp_df[wcp_df['pos'].map(len) == 1]\n",
    "pos_analysis_df['pos'] = pos_analysis_df['pos'].apply(lambda x : x[0][1])"
   ]
  },
  {
   "cell_type": "code",
   "execution_count": null,
   "metadata": {
    "colab": {
     "base_uri": "https://localhost:8080/",
     "height": 204
    },
    "colab_type": "code",
    "executionInfo": {
     "elapsed": 1051,
     "status": "ok",
     "timestamp": 1596468506773,
     "user": {
      "displayName": "Jiwon Lee",
      "photoUrl": "",
      "userId": "12590121175757672431"
     },
     "user_tz": -540
    },
    "id": "qP_iyb0l7_nq",
    "outputId": "be7fc4ea-db0c-4e4e-ec76-6dbfb251f03e"
   },
   "outputs": [
    {
     "data": {
      "text/html": [
       "<div>\n",
       "<style scoped>\n",
       "    .dataframe tbody tr th:only-of-type {\n",
       "        vertical-align: middle;\n",
       "    }\n",
       "\n",
       "    .dataframe tbody tr th {\n",
       "        vertical-align: top;\n",
       "    }\n",
       "\n",
       "    .dataframe thead th {\n",
       "        text-align: right;\n",
       "    }\n",
       "</style>\n",
       "<table border=\"1\" class=\"dataframe\">\n",
       "  <thead>\n",
       "    <tr style=\"text-align: right;\">\n",
       "      <th></th>\n",
       "      <th>word</th>\n",
       "      <th>count</th>\n",
       "      <th>pos</th>\n",
       "    </tr>\n",
       "  </thead>\n",
       "  <tbody>\n",
       "    <tr>\n",
       "      <th>0</th>\n",
       "      <td>먹다</td>\n",
       "      <td>28119</td>\n",
       "      <td>Verb</td>\n",
       "    </tr>\n",
       "    <tr>\n",
       "      <th>1</th>\n",
       "      <td>맛</td>\n",
       "      <td>17926</td>\n",
       "      <td>Noun</td>\n",
       "    </tr>\n",
       "    <tr>\n",
       "      <th>2</th>\n",
       "      <td>.</td>\n",
       "      <td>16688</td>\n",
       "      <td>Punctuation</td>\n",
       "    </tr>\n",
       "    <tr>\n",
       "      <th>3</th>\n",
       "      <td>좋다</td>\n",
       "      <td>13703</td>\n",
       "      <td>Adjective</td>\n",
       "    </tr>\n",
       "    <tr>\n",
       "      <th>4</th>\n",
       "      <td>나오다</td>\n",
       "      <td>11128</td>\n",
       "      <td>Verb</td>\n",
       "    </tr>\n",
       "  </tbody>\n",
       "</table>\n",
       "</div>"
      ],
      "text/plain": [
       "  word  count          pos\n",
       "0   먹다  28119         Verb\n",
       "1    맛  17926         Noun\n",
       "2    .  16688  Punctuation\n",
       "3   좋다  13703    Adjective\n",
       "4  나오다  11128         Verb"
      ]
     },
     "execution_count": 85,
     "metadata": {
      "tags": []
     },
     "output_type": "execute_result"
    }
   ],
   "source": [
    "pos_analysis_df.head()"
   ]
  },
  {
   "cell_type": "code",
   "execution_count": null,
   "metadata": {
    "colab": {
     "base_uri": "https://localhost:8080/",
     "height": 357
    },
    "colab_type": "code",
    "executionInfo": {
     "elapsed": 912,
     "status": "ok",
     "timestamp": 1596468825806,
     "user": {
      "displayName": "Jiwon Lee",
      "photoUrl": "",
      "userId": "12590121175757672431"
     },
     "user_tz": -540
    },
    "id": "scMK7P-Y8JI0",
    "outputId": "b2600477-b123-4f63-e7cc-7e5e509d670b"
   },
   "outputs": [
    {
     "data": {
      "text/plain": [
       "Noun              29133\n",
       "Alpha              1824\n",
       "Number             1733\n",
       "Verb               1116\n",
       "Adjective          1036\n",
       "Adverb              407\n",
       "Punctuation         257\n",
       "Josa                171\n",
       "Eomi                108\n",
       "KoreanParticle      102\n",
       "Foreign              84\n",
       "Modifier             53\n",
       "Exclamation          51\n",
       "Conjunction          13\n",
       "Suffix                9\n",
       "PreEomi               8\n",
       "ScreenName            6\n",
       "VerbPrefix            2\n",
       "Hashtag               1\n",
       "Name: pos, dtype: int64"
      ]
     },
     "execution_count": 87,
     "metadata": {
      "tags": []
     },
     "output_type": "execute_result"
    }
   ],
   "source": [
    "pos_analysis_df['pos'].value_counts()"
   ]
  },
  {
   "cell_type": "code",
   "execution_count": null,
   "metadata": {
    "colab": {
     "base_uri": "https://localhost:8080/",
     "height": 344
    },
    "colab_type": "code",
    "executionInfo": {
     "elapsed": 853,
     "status": "ok",
     "timestamp": 1596469079025,
     "user": {
      "displayName": "Jiwon Lee",
      "photoUrl": "",
      "userId": "12590121175757672431"
     },
     "user_tz": -540
    },
    "id": "WnvnMzzk9WUy",
    "outputId": "022f4e9c-1fbd-4c17-9e74-fede22a4cd75"
   },
   "outputs": [
    {
     "data": {
      "text/plain": [
       "<matplotlib.axes._subplots.AxesSubplot at 0x7f0870438a90>"
      ]
     },
     "execution_count": 88,
     "metadata": {
      "tags": []
     },
     "output_type": "execute_result"
    },
    {
     "data": {
      "image/png": "[encoded data removed]",
      "text/plain": [
       "<Figure size 432x288 with 1 Axes>"
      ]
     },
     "metadata": {
      "needs_background": "light",
      "tags": []
     },
     "output_type": "display_data"
    }
   ],
   "source": [
    "pos_analysis_df['pos'].value_counts().plot(kind='bar')"
   ]
  },
  {
   "cell_type": "markdown",
   "metadata": {
    "colab_type": "text",
    "id": "Wx_q2nroBbv9"
   },
   "source": [
    "## 5. 각 품사로 분류된 단어들 살펴보기(감탄사, 조사 등)"
   ]
  },
  {
   "cell_type": "code",
   "execution_count": null,
   "metadata": {
    "colab": {
     "base_uri": "https://localhost:8080/",
     "height": 419
    },
    "colab_type": "code",
    "executionInfo": {
     "elapsed": 826,
     "status": "ok",
     "timestamp": 1596469771232,
     "user": {
      "displayName": "Jiwon Lee",
      "photoUrl": "",
      "userId": "12590121175757672431"
     },
     "user_tz": -540
    },
    "id": "r8LyuU13AnKK",
    "outputId": "43c6ba7e-e2e0-4d05-fc6c-d912a5df1ca2"
   },
   "outputs": [
    {
     "data": {
      "text/html": [
       "<div>\n",
       "<style scoped>\n",
       "    .dataframe tbody tr th:only-of-type {\n",
       "        vertical-align: middle;\n",
       "    }\n",
       "\n",
       "    .dataframe tbody tr th {\n",
       "        vertical-align: top;\n",
       "    }\n",
       "\n",
       "    .dataframe thead th {\n",
       "        text-align: right;\n",
       "    }\n",
       "</style>\n",
       "<table border=\"1\" class=\"dataframe\">\n",
       "  <thead>\n",
       "    <tr style=\"text-align: right;\">\n",
       "      <th></th>\n",
       "      <th>word</th>\n",
       "      <th>count</th>\n",
       "      <th>pos</th>\n",
       "    </tr>\n",
       "  </thead>\n",
       "  <tbody>\n",
       "    <tr>\n",
       "      <th>39</th>\n",
       "      <td>라고</td>\n",
       "      <td>4398</td>\n",
       "      <td>Josa</td>\n",
       "    </tr>\n",
       "    <tr>\n",
       "      <th>61</th>\n",
       "      <td>인데</td>\n",
       "      <td>3348</td>\n",
       "      <td>Josa</td>\n",
       "    </tr>\n",
       "    <tr>\n",
       "      <th>105</th>\n",
       "      <td>죠</td>\n",
       "      <td>2291</td>\n",
       "      <td>Josa</td>\n",
       "    </tr>\n",
       "    <tr>\n",
       "      <th>121</th>\n",
       "      <td>라</td>\n",
       "      <td>1969</td>\n",
       "      <td>Josa</td>\n",
       "    </tr>\n",
       "    <tr>\n",
       "      <th>148</th>\n",
       "      <td>이랑</td>\n",
       "      <td>1690</td>\n",
       "      <td>Josa</td>\n",
       "    </tr>\n",
       "    <tr>\n",
       "      <th>...</th>\n",
       "      <td>...</td>\n",
       "      <td>...</td>\n",
       "      <td>...</td>\n",
       "    </tr>\n",
       "    <tr>\n",
       "      <th>35820</th>\n",
       "      <td>는다고</td>\n",
       "      <td>1</td>\n",
       "      <td>Eomi</td>\n",
       "    </tr>\n",
       "    <tr>\n",
       "      <th>35906</th>\n",
       "      <td>려다</td>\n",
       "      <td>1</td>\n",
       "      <td>Eomi</td>\n",
       "    </tr>\n",
       "    <tr>\n",
       "      <th>36029</th>\n",
       "      <td>라니깐</td>\n",
       "      <td>1</td>\n",
       "      <td>Josa</td>\n",
       "    </tr>\n",
       "    <tr>\n",
       "      <th>36130</th>\n",
       "      <td>에서처럼</td>\n",
       "      <td>1</td>\n",
       "      <td>Josa</td>\n",
       "    </tr>\n",
       "    <tr>\n",
       "      <th>36229</th>\n",
       "      <td>으려고</td>\n",
       "      <td>1</td>\n",
       "      <td>Eomi</td>\n",
       "    </tr>\n",
       "  </tbody>\n",
       "</table>\n",
       "<p>279 rows × 3 columns</p>\n",
       "</div>"
      ],
      "text/plain": [
       "       word  count   pos\n",
       "39       라고   4398  Josa\n",
       "61       인데   3348  Josa\n",
       "105       죠   2291  Josa\n",
       "121       라   1969  Josa\n",
       "148      이랑   1690  Josa\n",
       "...     ...    ...   ...\n",
       "35820   는다고      1  Eomi\n",
       "35906    려다      1  Eomi\n",
       "36029   라니깐      1  Josa\n",
       "36130  에서처럼      1  Josa\n",
       "36229   으려고      1  Eomi\n",
       "\n",
       "[279 rows x 3 columns]"
      ]
     },
     "execution_count": 99,
     "metadata": {
      "tags": []
     },
     "output_type": "execute_result"
    }
   ],
   "source": [
    "pos_analysis_df[pos_analysis_df['pos'].map(lambda x : x in ['Josa', 'Eomi'])]"
   ]
  },
  {
   "cell_type": "code",
   "execution_count": null,
   "metadata": {
    "colab": {
     "base_uri": "https://localhost:8080/",
     "height": 204
    },
    "colab_type": "code",
    "executionInfo": {
     "elapsed": 804,
     "status": "ok",
     "timestamp": 1596469815529,
     "user": {
      "displayName": "Jiwon Lee",
      "photoUrl": "",
      "userId": "12590121175757672431"
     },
     "user_tz": -540
    },
    "id": "_PTOqSCQA8o3",
    "outputId": "8bac56b7-c98f-4444-da65-c0ebbbf97f26"
   },
   "outputs": [
    {
     "data": {
      "text/html": [
       "<div>\n",
       "<style scoped>\n",
       "    .dataframe tbody tr th:only-of-type {\n",
       "        vertical-align: middle;\n",
       "    }\n",
       "\n",
       "    .dataframe tbody tr th {\n",
       "        vertical-align: top;\n",
       "    }\n",
       "\n",
       "    .dataframe thead th {\n",
       "        text-align: right;\n",
       "    }\n",
       "</style>\n",
       "<table border=\"1\" class=\"dataframe\">\n",
       "  <thead>\n",
       "    <tr style=\"text-align: right;\">\n",
       "      <th></th>\n",
       "      <th>word</th>\n",
       "      <th>count</th>\n",
       "      <th>pos</th>\n",
       "    </tr>\n",
       "  </thead>\n",
       "  <tbody>\n",
       "    <tr>\n",
       "      <th>1303</th>\n",
       "      <td>ㅋㅋ</td>\n",
       "      <td>179</td>\n",
       "      <td>KoreanParticle</td>\n",
       "    </tr>\n",
       "    <tr>\n",
       "      <th>1589</th>\n",
       "      <td>ㅋㅋㅋ</td>\n",
       "      <td>138</td>\n",
       "      <td>KoreanParticle</td>\n",
       "    </tr>\n",
       "    <tr>\n",
       "      <th>1966</th>\n",
       "      <td>ㅇㅇ</td>\n",
       "      <td>105</td>\n",
       "      <td>KoreanParticle</td>\n",
       "    </tr>\n",
       "    <tr>\n",
       "      <th>2611</th>\n",
       "      <td>ㅠㅠ</td>\n",
       "      <td>73</td>\n",
       "      <td>KoreanParticle</td>\n",
       "    </tr>\n",
       "    <tr>\n",
       "      <th>2630</th>\n",
       "      <td>ㅋㅋㅋㅋ</td>\n",
       "      <td>73</td>\n",
       "      <td>KoreanParticle</td>\n",
       "    </tr>\n",
       "  </tbody>\n",
       "</table>\n",
       "</div>"
      ],
      "text/plain": [
       "      word  count             pos\n",
       "1303    ㅋㅋ    179  KoreanParticle\n",
       "1589   ㅋㅋㅋ    138  KoreanParticle\n",
       "1966    ㅇㅇ    105  KoreanParticle\n",
       "2611    ㅠㅠ     73  KoreanParticle\n",
       "2630  ㅋㅋㅋㅋ     73  KoreanParticle"
      ]
     },
     "execution_count": 101,
     "metadata": {
      "tags": []
     },
     "output_type": "execute_result"
    }
   ],
   "source": [
    "pos_analysis_df[pos_analysis_df['pos'].map(lambda x : x in ['KoreanParticle'])].head()"
   ]
  },
  {
   "cell_type": "code",
   "execution_count": null,
   "metadata": {
    "colab": {
     "base_uri": "https://localhost:8080/",
     "height": 514
    },
    "colab_type": "code",
    "executionInfo": {
     "elapsed": 938,
     "status": "ok",
     "timestamp": 1596469899534,
     "user": {
      "displayName": "Jiwon Lee",
      "photoUrl": "",
      "userId": "12590121175757672431"
     },
     "user_tz": -540
    },
    "id": "ndDsGH4pBEZv",
    "outputId": "b7cd8619-706f-489a-e570-6d7855090720"
   },
   "outputs": [
    {
     "data": {
      "text/html": [
       "<div>\n",
       "<style scoped>\n",
       "    .dataframe tbody tr th:only-of-type {\n",
       "        vertical-align: middle;\n",
       "    }\n",
       "\n",
       "    .dataframe tbody tr th {\n",
       "        vertical-align: top;\n",
       "    }\n",
       "\n",
       "    .dataframe thead th {\n",
       "        text-align: right;\n",
       "    }\n",
       "</style>\n",
       "<table border=\"1\" class=\"dataframe\">\n",
       "  <thead>\n",
       "    <tr style=\"text-align: right;\">\n",
       "      <th></th>\n",
       "      <th>word</th>\n",
       "      <th>count</th>\n",
       "      <th>pos</th>\n",
       "    </tr>\n",
       "  </thead>\n",
       "  <tbody>\n",
       "    <tr>\n",
       "      <th>508</th>\n",
       "      <td>동</td>\n",
       "      <td>562</td>\n",
       "      <td>Modifier</td>\n",
       "    </tr>\n",
       "    <tr>\n",
       "      <th>648</th>\n",
       "      <td>즈</td>\n",
       "      <td>436</td>\n",
       "      <td>Modifier</td>\n",
       "    </tr>\n",
       "    <tr>\n",
       "      <th>765</th>\n",
       "      <td>일이</td>\n",
       "      <td>359</td>\n",
       "      <td>Modifier</td>\n",
       "    </tr>\n",
       "    <tr>\n",
       "      <th>1038</th>\n",
       "      <td>뭔</td>\n",
       "      <td>244</td>\n",
       "      <td>Modifier</td>\n",
       "    </tr>\n",
       "    <tr>\n",
       "      <th>1162</th>\n",
       "      <td>근</td>\n",
       "      <td>207</td>\n",
       "      <td>Modifier</td>\n",
       "    </tr>\n",
       "    <tr>\n",
       "      <th>1368</th>\n",
       "      <td>한다는</td>\n",
       "      <td>166</td>\n",
       "      <td>Modifier</td>\n",
       "    </tr>\n",
       "    <tr>\n",
       "      <th>1395</th>\n",
       "      <td>극</td>\n",
       "      <td>162</td>\n",
       "      <td>Modifier</td>\n",
       "    </tr>\n",
       "    <tr>\n",
       "      <th>1654</th>\n",
       "      <td>언</td>\n",
       "      <td>131</td>\n",
       "      <td>Modifier</td>\n",
       "    </tr>\n",
       "    <tr>\n",
       "      <th>1810</th>\n",
       "      <td>뒷</td>\n",
       "      <td>116</td>\n",
       "      <td>Modifier</td>\n",
       "    </tr>\n",
       "    <tr>\n",
       "      <th>1877</th>\n",
       "      <td>♡</td>\n",
       "      <td>111</td>\n",
       "      <td>Foreign</td>\n",
       "    </tr>\n",
       "    <tr>\n",
       "      <th>1885</th>\n",
       "      <td>‘</td>\n",
       "      <td>110</td>\n",
       "      <td>Foreign</td>\n",
       "    </tr>\n",
       "    <tr>\n",
       "      <th>2656</th>\n",
       "      <td>양대</td>\n",
       "      <td>72</td>\n",
       "      <td>Modifier</td>\n",
       "    </tr>\n",
       "    <tr>\n",
       "      <th>2994</th>\n",
       "      <td>왠</td>\n",
       "      <td>60</td>\n",
       "      <td>Modifier</td>\n",
       "    </tr>\n",
       "    <tr>\n",
       "      <th>4120</th>\n",
       "      <td>♥</td>\n",
       "      <td>37</td>\n",
       "      <td>Foreign</td>\n",
       "    </tr>\n",
       "    <tr>\n",
       "      <th>4121</th>\n",
       "      <td>흔</td>\n",
       "      <td>37</td>\n",
       "      <td>Modifier</td>\n",
       "    </tr>\n",
       "  </tbody>\n",
       "</table>\n",
       "</div>"
      ],
      "text/plain": [
       "     word  count       pos\n",
       "508     동    562  Modifier\n",
       "648     즈    436  Modifier\n",
       "765    일이    359  Modifier\n",
       "1038    뭔    244  Modifier\n",
       "1162    근    207  Modifier\n",
       "1368  한다는    166  Modifier\n",
       "1395    극    162  Modifier\n",
       "1654    언    131  Modifier\n",
       "1810    뒷    116  Modifier\n",
       "1877    ♡    111   Foreign\n",
       "1885    ‘    110   Foreign\n",
       "2656   양대     72  Modifier\n",
       "2994    왠     60  Modifier\n",
       "4120    ♥     37   Foreign\n",
       "4121    흔     37  Modifier"
      ]
     },
     "execution_count": 108,
     "metadata": {
      "tags": []
     },
     "output_type": "execute_result"
    }
   ],
   "source": [
    "pos_analysis_df[pos_analysis_df['pos'].map(lambda x : x in ['Foreign','Modifier'])].head(15)"
   ]
  },
  {
   "cell_type": "code",
   "execution_count": null,
   "metadata": {
    "colab": {
     "base_uri": "https://localhost:8080/",
     "height": 204
    },
    "colab_type": "code",
    "executionInfo": {
     "elapsed": 766,
     "status": "ok",
     "timestamp": 1596470103181,
     "user": {
      "displayName": "Jiwon Lee",
      "photoUrl": "",
      "userId": "12590121175757672431"
     },
     "user_tz": -540
    },
    "id": "JZtem6M7Bqkx",
    "outputId": "1144fbd3-2ad0-4b81-cb0b-fdd2d8dff487"
   },
   "outputs": [
    {
     "data": {
      "text/html": [
       "<div>\n",
       "<style scoped>\n",
       "    .dataframe tbody tr th:only-of-type {\n",
       "        vertical-align: middle;\n",
       "    }\n",
       "\n",
       "    .dataframe tbody tr th {\n",
       "        vertical-align: top;\n",
       "    }\n",
       "\n",
       "    .dataframe thead th {\n",
       "        text-align: right;\n",
       "    }\n",
       "</style>\n",
       "<table border=\"1\" class=\"dataframe\">\n",
       "  <thead>\n",
       "    <tr style=\"text-align: right;\">\n",
       "      <th></th>\n",
       "      <th>word</th>\n",
       "      <th>count</th>\n",
       "      <th>pos</th>\n",
       "    </tr>\n",
       "  </thead>\n",
       "  <tbody>\n",
       "    <tr>\n",
       "      <th>934</th>\n",
       "      <td>그렇다고</td>\n",
       "      <td>276</td>\n",
       "      <td>Conjunction</td>\n",
       "    </tr>\n",
       "    <tr>\n",
       "      <th>942</th>\n",
       "      <td>그니까</td>\n",
       "      <td>274</td>\n",
       "      <td>Conjunction</td>\n",
       "    </tr>\n",
       "    <tr>\n",
       "      <th>1830</th>\n",
       "      <td>오오</td>\n",
       "      <td>114</td>\n",
       "      <td>Exclamation</td>\n",
       "    </tr>\n",
       "    <tr>\n",
       "      <th>2383</th>\n",
       "      <td>플</td>\n",
       "      <td>82</td>\n",
       "      <td>Exclamation</td>\n",
       "    </tr>\n",
       "    <tr>\n",
       "      <th>2470</th>\n",
       "      <td>엉</td>\n",
       "      <td>79</td>\n",
       "      <td>Exclamation</td>\n",
       "    </tr>\n",
       "  </tbody>\n",
       "</table>\n",
       "</div>"
      ],
      "text/plain": [
       "      word  count          pos\n",
       "934   그렇다고    276  Conjunction\n",
       "942    그니까    274  Conjunction\n",
       "1830    오오    114  Exclamation\n",
       "2383     플     82  Exclamation\n",
       "2470     엉     79  Exclamation"
      ]
     },
     "execution_count": 115,
     "metadata": {
      "tags": []
     },
     "output_type": "execute_result"
    }
   ],
   "source": [
    "pos_analysis_df[pos_analysis_df['pos'].map(lambda x : x in \\\n",
    "                                           ['Exclamation', 'Conjunction'])].head()"
   ]
  },
  {
   "cell_type": "code",
   "execution_count": null,
   "metadata": {
    "colab": {
     "base_uri": "https://localhost:8080/",
     "height": 359
    },
    "colab_type": "code",
    "executionInfo": {
     "elapsed": 1264,
     "status": "ok",
     "timestamp": 1596470243823,
     "user": {
      "displayName": "Jiwon Lee",
      "photoUrl": "",
      "userId": "12590121175757672431"
     },
     "user_tz": -540
    },
    "id": "yU7zqwi_CKR_",
    "outputId": "9a273bdb-50ba-425d-f16d-837ff9db5278"
   },
   "outputs": [
    {
     "data": {
      "text/html": [
       "<div>\n",
       "<style scoped>\n",
       "    .dataframe tbody tr th:only-of-type {\n",
       "        vertical-align: middle;\n",
       "    }\n",
       "\n",
       "    .dataframe tbody tr th {\n",
       "        vertical-align: top;\n",
       "    }\n",
       "\n",
       "    .dataframe thead th {\n",
       "        text-align: right;\n",
       "    }\n",
       "</style>\n",
       "<table border=\"1\" class=\"dataframe\">\n",
       "  <thead>\n",
       "    <tr style=\"text-align: right;\">\n",
       "      <th></th>\n",
       "      <th>word</th>\n",
       "      <th>count</th>\n",
       "      <th>pos</th>\n",
       "    </tr>\n",
       "  </thead>\n",
       "  <tbody>\n",
       "    <tr>\n",
       "      <th>6608</th>\n",
       "      <td>겟</td>\n",
       "      <td>17</td>\n",
       "      <td>PreEomi</td>\n",
       "    </tr>\n",
       "    <tr>\n",
       "      <th>7402</th>\n",
       "      <td>셨</td>\n",
       "      <td>14</td>\n",
       "      <td>PreEomi</td>\n",
       "    </tr>\n",
       "    <tr>\n",
       "      <th>9532</th>\n",
       "      <td>켓</td>\n",
       "      <td>9</td>\n",
       "      <td>PreEomi</td>\n",
       "    </tr>\n",
       "    <tr>\n",
       "      <th>9773</th>\n",
       "      <td>놨</td>\n",
       "      <td>9</td>\n",
       "      <td>PreEomi</td>\n",
       "    </tr>\n",
       "    <tr>\n",
       "      <th>30093</th>\n",
       "      <td>(@bawipastabar</td>\n",
       "      <td>1</td>\n",
       "      <td>ScreenName</td>\n",
       "    </tr>\n",
       "    <tr>\n",
       "      <th>31803</th>\n",
       "      <td>@you</td>\n",
       "      <td>1</td>\n",
       "      <td>ScreenName</td>\n",
       "    </tr>\n",
       "    <tr>\n",
       "      <th>32393</th>\n",
       "      <td>@liwoo3073_foodie</td>\n",
       "      <td>1</td>\n",
       "      <td>ScreenName</td>\n",
       "    </tr>\n",
       "    <tr>\n",
       "      <th>32988</th>\n",
       "      <td>@sushi_</td>\n",
       "      <td>1</td>\n",
       "      <td>ScreenName</td>\n",
       "    </tr>\n",
       "    <tr>\n",
       "      <th>32989</th>\n",
       "      <td>(@sushi_</td>\n",
       "      <td>1</td>\n",
       "      <td>ScreenName</td>\n",
       "    </tr>\n",
       "    <tr>\n",
       "      <th>33230</th>\n",
       "      <td>(@perlen_official</td>\n",
       "      <td>1</td>\n",
       "      <td>ScreenName</td>\n",
       "    </tr>\n",
       "  </tbody>\n",
       "</table>\n",
       "</div>"
      ],
      "text/plain": [
       "                    word  count         pos\n",
       "6608                   겟     17     PreEomi\n",
       "7402                   셨     14     PreEomi\n",
       "9532                   켓      9     PreEomi\n",
       "9773                   놨      9     PreEomi\n",
       "30093     (@bawipastabar      1  ScreenName\n",
       "31803               @you      1  ScreenName\n",
       "32393  @liwoo3073_foodie      1  ScreenName\n",
       "32988            @sushi_      1  ScreenName\n",
       "32989           (@sushi_      1  ScreenName\n",
       "33230  (@perlen_official      1  ScreenName"
      ]
     },
     "execution_count": 120,
     "metadata": {
      "tags": []
     },
     "output_type": "execute_result"
    }
   ],
   "source": [
    " pos_analysis_df[pos_analysis_df['pos'].map(lambda x : x in \\\n",
    "                                           ['Suffix', 'PreEomi', 'ScreenName', 'VerbPrefix'])].tail(10)"
   ]
  },
  {
   "cell_type": "markdown",
   "metadata": {
    "colab_type": "text",
    "id": "SCsVm0E4AjdX"
   },
   "source": [
    "위와 같이, Noun, verb, adjective, adverb가 아닌 품사에 해당하는 단어들은 식당 설명과 관련이 적기 때문에 **Noun, verb, adjective, adverb**에 대해서만 분석을 진행한다."
   ]
  },
  {
   "cell_type": "markdown",
   "metadata": {
    "colab_type": "text",
    "id": "se4eTe3lCtPP"
   },
   "source": []
  },
  {
   "cell_type": "markdown",
   "metadata": {
    "colab_type": "text",
    "id": "qIzNdxzmlwcC"
   },
   "source": [
    "## 6. 토큰화 & 품사태깅한 결과 분석 🌟🌟"
   ]
  },
  {
   "cell_type": "code",
   "execution_count": null,
   "metadata": {
    "colab": {},
    "colab_type": "code",
    "id": "RxDuEliGD5dR"
   },
   "outputs": [],
   "source": [
    "pos_analysis_df = pos_analysis_df[pos_analysis_df['pos'].map(lambda x : x in \\\n",
    "                                                             ['Noun', 'Verb', 'Adjective', 'Adverb'])]"
   ]
  },
  {
   "cell_type": "code",
   "execution_count": null,
   "metadata": {
    "colab": {
     "base_uri": "https://localhost:8080/",
     "height": 297
    },
    "colab_type": "code",
    "executionInfo": {
     "elapsed": 1921,
     "status": "ok",
     "timestamp": 1596470678900,
     "user": {
      "displayName": "Jiwon Lee",
      "photoUrl": "",
      "userId": "12590121175757672431"
     },
     "user_tz": -540
    },
    "id": "KNem0m5qESmT",
    "outputId": "75524e45-52b7-4149-ba23-f4db0d41864f"
   },
   "outputs": [
    {
     "data": {
      "text/html": [
       "<div>\n",
       "<style scoped>\n",
       "    .dataframe tbody tr th:only-of-type {\n",
       "        vertical-align: middle;\n",
       "    }\n",
       "\n",
       "    .dataframe tbody tr th {\n",
       "        vertical-align: top;\n",
       "    }\n",
       "\n",
       "    .dataframe thead th {\n",
       "        text-align: right;\n",
       "    }\n",
       "</style>\n",
       "<table border=\"1\" class=\"dataframe\">\n",
       "  <thead>\n",
       "    <tr style=\"text-align: right;\">\n",
       "      <th></th>\n",
       "      <th>count</th>\n",
       "    </tr>\n",
       "  </thead>\n",
       "  <tbody>\n",
       "    <tr>\n",
       "      <th>count</th>\n",
       "      <td>31692.000000</td>\n",
       "    </tr>\n",
       "    <tr>\n",
       "      <th>mean</th>\n",
       "      <td>43.746624</td>\n",
       "    </tr>\n",
       "    <tr>\n",
       "      <th>std</th>\n",
       "      <td>348.809279</td>\n",
       "    </tr>\n",
       "    <tr>\n",
       "      <th>min</th>\n",
       "      <td>1.000000</td>\n",
       "    </tr>\n",
       "    <tr>\n",
       "      <th>25%</th>\n",
       "      <td>1.000000</td>\n",
       "    </tr>\n",
       "    <tr>\n",
       "      <th>50%</th>\n",
       "      <td>3.000000</td>\n",
       "    </tr>\n",
       "    <tr>\n",
       "      <th>75%</th>\n",
       "      <td>10.000000</td>\n",
       "    </tr>\n",
       "    <tr>\n",
       "      <th>max</th>\n",
       "      <td>28119.000000</td>\n",
       "    </tr>\n",
       "  </tbody>\n",
       "</table>\n",
       "</div>"
      ],
      "text/plain": [
       "              count\n",
       "count  31692.000000\n",
       "mean      43.746624\n",
       "std      348.809279\n",
       "min        1.000000\n",
       "25%        1.000000\n",
       "50%        3.000000\n",
       "75%       10.000000\n",
       "max    28119.000000"
      ]
     },
     "execution_count": 122,
     "metadata": {
      "tags": []
     },
     "output_type": "execute_result"
    }
   ],
   "source": [
    "pos_analysis_df.describe()"
   ]
  },
  {
   "cell_type": "code",
   "execution_count": null,
   "metadata": {
    "colab": {},
    "colab_type": "code",
    "id": "VHYpH3F0VlIi"
   },
   "outputs": [],
   "source": [
    "pos_analysis_df.to_csv('pos_analysis_df.csv', sep=';')"
   ]
  },
  {
   "cell_type": "markdown",
   "metadata": {
    "colab_type": "text",
    "id": "hGSpVXsREbv7"
   },
   "source": [
    "### **[명사]**"
   ]
  },
  {
   "cell_type": "code",
   "execution_count": null,
   "metadata": {
    "colab": {
     "base_uri": "https://localhost:8080/",
     "height": 669
    },
    "colab_type": "code",
    "executionInfo": {
     "elapsed": 1007,
     "status": "ok",
     "timestamp": 1596472730572,
     "user": {
      "displayName": "Jiwon Lee",
      "photoUrl": "",
      "userId": "12590121175757672431"
     },
     "user_tz": -540
    },
    "id": "e3bSeChXEail",
    "outputId": "7d336588-29e9-4a40-b31f-b19de696a562"
   },
   "outputs": [
    {
     "data": {
      "text/html": [
       "<div>\n",
       "<style scoped>\n",
       "    .dataframe tbody tr th:only-of-type {\n",
       "        vertical-align: middle;\n",
       "    }\n",
       "\n",
       "    .dataframe tbody tr th {\n",
       "        vertical-align: top;\n",
       "    }\n",
       "\n",
       "    .dataframe thead th {\n",
       "        text-align: right;\n",
       "    }\n",
       "</style>\n",
       "<table border=\"1\" class=\"dataframe\">\n",
       "  <thead>\n",
       "    <tr style=\"text-align: right;\">\n",
       "      <th></th>\n",
       "      <th>word</th>\n",
       "      <th>count</th>\n",
       "      <th>pos</th>\n",
       "    </tr>\n",
       "  </thead>\n",
       "  <tbody>\n",
       "    <tr>\n",
       "      <th>1</th>\n",
       "      <td>맛</td>\n",
       "      <td>17926</td>\n",
       "      <td>Noun</td>\n",
       "    </tr>\n",
       "    <tr>\n",
       "      <th>8</th>\n",
       "      <td>안</td>\n",
       "      <td>9059</td>\n",
       "      <td>Noun</td>\n",
       "    </tr>\n",
       "    <tr>\n",
       "      <th>9</th>\n",
       "      <td>수</td>\n",
       "      <td>9031</td>\n",
       "      <td>Noun</td>\n",
       "    </tr>\n",
       "    <tr>\n",
       "      <th>15</th>\n",
       "      <td>저</td>\n",
       "      <td>7532</td>\n",
       "      <td>Noun</td>\n",
       "    </tr>\n",
       "    <tr>\n",
       "      <th>18</th>\n",
       "      <td>고기</td>\n",
       "      <td>6908</td>\n",
       "      <td>Noun</td>\n",
       "    </tr>\n",
       "    <tr>\n",
       "      <th>22</th>\n",
       "      <td>생각</td>\n",
       "      <td>6347</td>\n",
       "      <td>Noun</td>\n",
       "    </tr>\n",
       "    <tr>\n",
       "      <th>23</th>\n",
       "      <td>느낌</td>\n",
       "      <td>5926</td>\n",
       "      <td>Noun</td>\n",
       "    </tr>\n",
       "    <tr>\n",
       "      <th>24</th>\n",
       "      <td>인</td>\n",
       "      <td>5715</td>\n",
       "      <td>Noun</td>\n",
       "    </tr>\n",
       "    <tr>\n",
       "      <th>26</th>\n",
       "      <td>번</td>\n",
       "      <td>5435</td>\n",
       "      <td>Noun</td>\n",
       "    </tr>\n",
       "    <tr>\n",
       "      <th>28</th>\n",
       "      <td>내</td>\n",
       "      <td>5275</td>\n",
       "      <td>Noun</td>\n",
       "    </tr>\n",
       "    <tr>\n",
       "      <th>29</th>\n",
       "      <td>진짜</td>\n",
       "      <td>5143</td>\n",
       "      <td>Noun</td>\n",
       "    </tr>\n",
       "    <tr>\n",
       "      <th>31</th>\n",
       "      <td>가지</td>\n",
       "      <td>4951</td>\n",
       "      <td>Noun</td>\n",
       "    </tr>\n",
       "    <tr>\n",
       "      <th>32</th>\n",
       "      <td>곳</td>\n",
       "      <td>4811</td>\n",
       "      <td>Noun</td>\n",
       "    </tr>\n",
       "    <tr>\n",
       "      <th>33</th>\n",
       "      <td>아주</td>\n",
       "      <td>4801</td>\n",
       "      <td>Noun</td>\n",
       "    </tr>\n",
       "    <tr>\n",
       "      <th>34</th>\n",
       "      <td>소스</td>\n",
       "      <td>4791</td>\n",
       "      <td>Noun</td>\n",
       "    </tr>\n",
       "    <tr>\n",
       "      <th>36</th>\n",
       "      <td>정말</td>\n",
       "      <td>4559</td>\n",
       "      <td>Noun</td>\n",
       "    </tr>\n",
       "    <tr>\n",
       "      <th>37</th>\n",
       "      <td>조금</td>\n",
       "      <td>4494</td>\n",
       "      <td>Noun</td>\n",
       "    </tr>\n",
       "    <tr>\n",
       "      <th>38</th>\n",
       "      <td>면</td>\n",
       "      <td>4475</td>\n",
       "      <td>Noun</td>\n",
       "    </tr>\n",
       "    <tr>\n",
       "      <th>41</th>\n",
       "      <td>분</td>\n",
       "      <td>4244</td>\n",
       "      <td>Noun</td>\n",
       "    </tr>\n",
       "    <tr>\n",
       "      <th>42</th>\n",
       "      <td>향</td>\n",
       "      <td>4054</td>\n",
       "      <td>Noun</td>\n",
       "    </tr>\n",
       "  </tbody>\n",
       "</table>\n",
       "</div>"
      ],
      "text/plain": [
       "   word  count   pos\n",
       "1     맛  17926  Noun\n",
       "8     안   9059  Noun\n",
       "9     수   9031  Noun\n",
       "15    저   7532  Noun\n",
       "18   고기   6908  Noun\n",
       "22   생각   6347  Noun\n",
       "23   느낌   5926  Noun\n",
       "24    인   5715  Noun\n",
       "26    번   5435  Noun\n",
       "28    내   5275  Noun\n",
       "29   진짜   5143  Noun\n",
       "31   가지   4951  Noun\n",
       "32    곳   4811  Noun\n",
       "33   아주   4801  Noun\n",
       "34   소스   4791  Noun\n",
       "36   정말   4559  Noun\n",
       "37   조금   4494  Noun\n",
       "38    면   4475  Noun\n",
       "41    분   4244  Noun\n",
       "42    향   4054  Noun"
      ]
     },
     "execution_count": 128,
     "metadata": {
      "tags": []
     },
     "output_type": "execute_result"
    }
   ],
   "source": [
    "pos_analysis_df[pos_analysis_df['pos'] == 'Noun'].head(20)"
   ]
  },
  {
   "cell_type": "markdown",
   "metadata": {
    "colab_type": "text",
    "id": "5KGvf_wCE_23"
   },
   "source": [
    "명사로 분류된 것도, 실제 쓰임에서는 부사로 쓰이는 것들이 존재했다. 예를들어 '진짜'의 경우 '진짜로 맛있다' 로 쓰이는 경우가 많기 때문에 수집한 자막 데이터들에서는 부사로 쓰일 것이다. 이 외에도 '살짝', '조금' 도 마찬가지로  이후 처리가 필요해보인다. "
   ]
  },
  {
   "cell_type": "code",
   "execution_count": null,
   "metadata": {
    "colab": {},
    "colab_type": "code",
    "id": "wg-WBTHAE_d0"
   },
   "outputs": [],
   "source": [
    "noun_df = pos_analysis_df[pos_analysis_df['pos'] == 'Noun']\n",
    "noun_df.to_csv('noun_df.csv', sep = ';')"
   ]
  },
  {
   "cell_type": "markdown",
   "metadata": {
    "colab_type": "text",
    "id": "2QFhMsXhGejn"
   },
   "source": [
    "더 살펴본 결과, **메뉴 이름이나 재료 이름** 으로 분리된 경우가 많았다. 이후, 메뉴 이름을 추출할 때 사용할 수 있을 것으로 보인다.  \n",
    "\n",
    "또한, 등장 빈도수가 높은 단어들 위주로 해당 단어들이 자막 내에서 어떻게 쓰이고 있는지를 살펴본 뒤 각 단어들을 다음과 같이 분류하였다.   \n",
    "\n",
    "\n",
    "- **식당 관련 표현**  \n",
    "'쫄깃', '바삭', '감칠맛', '매력', '상큼', '호불호', '두툼', '정감', '힐링', '최고급', '꼬들꼬들', '최애',... *(대체적으로 주관적인 의견을 담은 표현들)*\n",
    "\n",
    "- **의견은 아니지만, 식당과 관련된 표현**  \n",
    "'한정판', '혼술', '기념일', '송년회', '점심식사', '대학생', '썸녀', '여자친구', '남자친구', '비즈니스', '미팅' ....\n",
    "\n",
    "- **식당 관련 정보가 나오는 문장임을 알 수 있게 해주는 단어**  \n",
    " '메뉴판', '분위기', '서비스', '인테리어', '내부', '접근', '접근성', '주차장', '주차', '주차공간', '발렛비', '포장', '리필' ...\n",
    "\n",
    "\n",
    "- **식당 종류 / 카테고리**  \n",
    "'선술집', '주점', '무한리필', '레스토랑', '일식집', '중식', '한식', '한정식' ..."
   ]
  },
  {
   "cell_type": "markdown",
   "metadata": {
    "colab_type": "text",
    "id": "AGLrEa1IMMeb"
   },
   "source": [
    "### **[동사]**"
   ]
  },
  {
   "cell_type": "code",
   "execution_count": null,
   "metadata": {
    "colab": {
     "base_uri": "https://localhost:8080/",
     "height": 1000
    },
    "colab_type": "code",
    "executionInfo": {
     "elapsed": 908,
     "status": "ok",
     "timestamp": 1596472845248,
     "user": {
      "displayName": "Jiwon Lee",
      "photoUrl": "",
      "userId": "12590121175757672431"
     },
     "user_tz": -540
    },
    "id": "2xWZHiEKML7W",
    "outputId": "2516afb2-8e67-4b4d-b597-855a8b66dc8c"
   },
   "outputs": [
    {
     "data": {
      "text/html": [
       "<div>\n",
       "<style scoped>\n",
       "    .dataframe tbody tr th:only-of-type {\n",
       "        vertical-align: middle;\n",
       "    }\n",
       "\n",
       "    .dataframe tbody tr th {\n",
       "        vertical-align: top;\n",
       "    }\n",
       "\n",
       "    .dataframe thead th {\n",
       "        text-align: right;\n",
       "    }\n",
       "</style>\n",
       "<table border=\"1\" class=\"dataframe\">\n",
       "  <thead>\n",
       "    <tr style=\"text-align: right;\">\n",
       "      <th></th>\n",
       "      <th>word</th>\n",
       "      <th>count</th>\n",
       "      <th>pos</th>\n",
       "    </tr>\n",
       "  </thead>\n",
       "  <tbody>\n",
       "    <tr>\n",
       "      <th>211</th>\n",
       "      <td>놓다</td>\n",
       "      <td>1223</td>\n",
       "      <td>Verb</td>\n",
       "    </tr>\n",
       "    <tr>\n",
       "      <th>221</th>\n",
       "      <td>대다</td>\n",
       "      <td>1182</td>\n",
       "      <td>Verb</td>\n",
       "    </tr>\n",
       "    <tr>\n",
       "      <th>228</th>\n",
       "      <td>서다</td>\n",
       "      <td>1148</td>\n",
       "      <td>Verb</td>\n",
       "    </tr>\n",
       "    <tr>\n",
       "      <th>231</th>\n",
       "      <td>올라가다</td>\n",
       "      <td>1139</td>\n",
       "      <td>Verb</td>\n",
       "    </tr>\n",
       "    <tr>\n",
       "      <th>237</th>\n",
       "      <td>즐기다</td>\n",
       "      <td>1118</td>\n",
       "      <td>Verb</td>\n",
       "    </tr>\n",
       "    <tr>\n",
       "      <th>246</th>\n",
       "      <td>싸다</td>\n",
       "      <td>1086</td>\n",
       "      <td>Verb</td>\n",
       "    </tr>\n",
       "    <tr>\n",
       "      <th>265</th>\n",
       "      <td>줄다</td>\n",
       "      <td>1024</td>\n",
       "      <td>Verb</td>\n",
       "    </tr>\n",
       "    <tr>\n",
       "      <th>266</th>\n",
       "      <td>이라</td>\n",
       "      <td>1023</td>\n",
       "      <td>Verb</td>\n",
       "    </tr>\n",
       "    <tr>\n",
       "      <th>267</th>\n",
       "      <td>감다</td>\n",
       "      <td>1019</td>\n",
       "      <td>Verb</td>\n",
       "    </tr>\n",
       "    <tr>\n",
       "      <th>271</th>\n",
       "      <td>타다</td>\n",
       "      <td>1009</td>\n",
       "      <td>Verb</td>\n",
       "    </tr>\n",
       "    <tr>\n",
       "      <th>276</th>\n",
       "      <td>적다</td>\n",
       "      <td>988</td>\n",
       "      <td>Verb</td>\n",
       "    </tr>\n",
       "    <tr>\n",
       "      <th>289</th>\n",
       "      <td>찾다</td>\n",
       "      <td>952</td>\n",
       "      <td>Verb</td>\n",
       "    </tr>\n",
       "    <tr>\n",
       "      <th>296</th>\n",
       "      <td>해보다</td>\n",
       "      <td>931</td>\n",
       "      <td>Verb</td>\n",
       "    </tr>\n",
       "    <tr>\n",
       "      <th>317</th>\n",
       "      <td>버리다</td>\n",
       "      <td>888</td>\n",
       "      <td>Verb</td>\n",
       "    </tr>\n",
       "    <tr>\n",
       "      <th>322</th>\n",
       "      <td>쓸다</td>\n",
       "      <td>873</td>\n",
       "      <td>Verb</td>\n",
       "    </tr>\n",
       "    <tr>\n",
       "      <th>328</th>\n",
       "      <td>씹다</td>\n",
       "      <td>869</td>\n",
       "      <td>Verb</td>\n",
       "    </tr>\n",
       "    <tr>\n",
       "      <th>340</th>\n",
       "      <td>뜨다</td>\n",
       "      <td>833</td>\n",
       "      <td>Verb</td>\n",
       "    </tr>\n",
       "    <tr>\n",
       "      <th>353</th>\n",
       "      <td>튀기다</td>\n",
       "      <td>793</td>\n",
       "      <td>Verb</td>\n",
       "    </tr>\n",
       "    <tr>\n",
       "      <th>373</th>\n",
       "      <td>얻다</td>\n",
       "      <td>751</td>\n",
       "      <td>Verb</td>\n",
       "    </tr>\n",
       "    <tr>\n",
       "      <th>374</th>\n",
       "      <td>따다</td>\n",
       "      <td>744</td>\n",
       "      <td>Verb</td>\n",
       "    </tr>\n",
       "    <tr>\n",
       "      <th>375</th>\n",
       "      <td>마시다</td>\n",
       "      <td>743</td>\n",
       "      <td>Verb</td>\n",
       "    </tr>\n",
       "    <tr>\n",
       "      <th>377</th>\n",
       "      <td>남다</td>\n",
       "      <td>737</td>\n",
       "      <td>Verb</td>\n",
       "    </tr>\n",
       "    <tr>\n",
       "      <th>380</th>\n",
       "      <td>기르다</td>\n",
       "      <td>733</td>\n",
       "      <td>Verb</td>\n",
       "    </tr>\n",
       "    <tr>\n",
       "      <th>386</th>\n",
       "      <td>거들다</td>\n",
       "      <td>719</td>\n",
       "      <td>Verb</td>\n",
       "    </tr>\n",
       "    <tr>\n",
       "      <th>388</th>\n",
       "      <td>들어오다</td>\n",
       "      <td>718</td>\n",
       "      <td>Verb</td>\n",
       "    </tr>\n",
       "    <tr>\n",
       "      <th>397</th>\n",
       "      <td>익히다</td>\n",
       "      <td>701</td>\n",
       "      <td>Verb</td>\n",
       "    </tr>\n",
       "    <tr>\n",
       "      <th>398</th>\n",
       "      <td>올라오다</td>\n",
       "      <td>698</td>\n",
       "      <td>Verb</td>\n",
       "    </tr>\n",
       "    <tr>\n",
       "      <th>399</th>\n",
       "      <td>맵다</td>\n",
       "      <td>698</td>\n",
       "      <td>Verb</td>\n",
       "    </tr>\n",
       "    <tr>\n",
       "      <th>405</th>\n",
       "      <td>붙다</td>\n",
       "      <td>688</td>\n",
       "      <td>Verb</td>\n",
       "    </tr>\n",
       "    <tr>\n",
       "      <th>406</th>\n",
       "      <td>따르다</td>\n",
       "      <td>687</td>\n",
       "      <td>Verb</td>\n",
       "    </tr>\n",
       "    <tr>\n",
       "      <th>408</th>\n",
       "      <td>대</td>\n",
       "      <td>686</td>\n",
       "      <td>Verb</td>\n",
       "    </tr>\n",
       "    <tr>\n",
       "      <th>411</th>\n",
       "      <td>들이다</td>\n",
       "      <td>681</td>\n",
       "      <td>Verb</td>\n",
       "    </tr>\n",
       "    <tr>\n",
       "      <th>414</th>\n",
       "      <td>줍다</td>\n",
       "      <td>668</td>\n",
       "      <td>Verb</td>\n",
       "    </tr>\n",
       "    <tr>\n",
       "      <th>421</th>\n",
       "      <td>맞추다</td>\n",
       "      <td>662</td>\n",
       "      <td>Verb</td>\n",
       "    </tr>\n",
       "    <tr>\n",
       "      <th>430</th>\n",
       "      <td>깔다</td>\n",
       "      <td>655</td>\n",
       "      <td>Verb</td>\n",
       "    </tr>\n",
       "  </tbody>\n",
       "</table>\n",
       "</div>"
      ],
      "text/plain": [
       "     word  count   pos\n",
       "211    놓다   1223  Verb\n",
       "221    대다   1182  Verb\n",
       "228    서다   1148  Verb\n",
       "231  올라가다   1139  Verb\n",
       "237   즐기다   1118  Verb\n",
       "246    싸다   1086  Verb\n",
       "265    줄다   1024  Verb\n",
       "266    이라   1023  Verb\n",
       "267    감다   1019  Verb\n",
       "271    타다   1009  Verb\n",
       "276    적다    988  Verb\n",
       "289    찾다    952  Verb\n",
       "296   해보다    931  Verb\n",
       "317   버리다    888  Verb\n",
       "322    쓸다    873  Verb\n",
       "328    씹다    869  Verb\n",
       "340    뜨다    833  Verb\n",
       "353   튀기다    793  Verb\n",
       "373    얻다    751  Verb\n",
       "374    따다    744  Verb\n",
       "375   마시다    743  Verb\n",
       "377    남다    737  Verb\n",
       "380   기르다    733  Verb\n",
       "386   거들다    719  Verb\n",
       "388  들어오다    718  Verb\n",
       "397   익히다    701  Verb\n",
       "398  올라오다    698  Verb\n",
       "399    맵다    698  Verb\n",
       "405    붙다    688  Verb\n",
       "406   따르다    687  Verb\n",
       "408     대    686  Verb\n",
       "411   들이다    681  Verb\n",
       "414    줍다    668  Verb\n",
       "421   맞추다    662  Verb\n",
       "430    깔다    655  Verb"
      ]
     },
     "execution_count": 132,
     "metadata": {
      "tags": []
     },
     "output_type": "execute_result"
    }
   ],
   "source": [
    "pos_analysis_df[pos_analysis_df['pos'] == 'Verb'][35:70]"
   ]
  },
  {
   "cell_type": "code",
   "execution_count": null,
   "metadata": {
    "colab": {},
    "colab_type": "code",
    "id": "KZpcJ7UmLmXb"
   },
   "outputs": [],
   "source": [
    "verb_df = pos_analysis_df[pos_analysis_df['pos'] == 'Verb']\n",
    "verb_df.to_csv('verb_df.csv', sep = ';')"
   ]
  },
  {
   "cell_type": "markdown",
   "metadata": {
    "colab_type": "text",
    "id": "6K3N1_7ROPR9"
   },
   "source": [
    "명사와 마찬가지로 동사로 분류된 단어들에 대해서 해당 단어들이 자막 내에서 어떻게 쓰이고 있는지를 살펴본 뒤 각 단어들을 다음과 같이 분류하였다.  \n",
    "\n",
    "- **조리 방식**  \n",
    "튀기다, 익히다, 맵다, 굽다, 끓이다, 삶다\n",
    "\n",
    "- **맛 관련 표현**  \n",
    "맵다, 달다, 곁들이다, 좋아지다(곁들이니 맛이 좋아진다 등등), 녹다, 어우러지다, 끌리다, 꽂히다, 빛나다, 아삭거리다, 미끌거리다, 어우르다, 차가워지다, 춤추다(입안에서 춤춘다), 푸석거리다, 맴돌다, 꽉차다, 오독거리다, 어울리다..\n",
    "\n",
    "- **분위기/서비스 관련 표현**  \n",
    "여유롭다, 대접받다..\n",
    "\n",
    "- **식당에 대한 점수를 내는 데 적합한 표현**  \n",
    "인정받다, 사랑받다, 잘나가다, 뽐내다, 간지나다, 춤추다(입안에서 춤춘다 등등), 화나다, 잘해주다, 대접받다..."
   ]
  },
  {
   "cell_type": "markdown",
   "metadata": {
    "colab_type": "text",
    "id": "s5qoMCfjRS2w"
   },
   "source": [
    "### **[형용사]**"
   ]
  },
  {
   "cell_type": "code",
   "execution_count": null,
   "metadata": {
    "colab": {
     "base_uri": "https://localhost:8080/",
     "height": 514
    },
    "colab_type": "code",
    "executionInfo": {
     "elapsed": 938,
     "status": "ok",
     "timestamp": 1596474103765,
     "user": {
      "displayName": "Jiwon Lee",
      "photoUrl": "",
      "userId": "12590121175757672431"
     },
     "user_tz": -540
    },
    "id": "fFw1-5wMRVD2",
    "outputId": "39ca0192-1545-4a40-9b6b-98df8deb97f6"
   },
   "outputs": [
    {
     "data": {
      "text/html": [
       "<div>\n",
       "<style scoped>\n",
       "    .dataframe tbody tr th:only-of-type {\n",
       "        vertical-align: middle;\n",
       "    }\n",
       "\n",
       "    .dataframe tbody tr th {\n",
       "        vertical-align: top;\n",
       "    }\n",
       "\n",
       "    .dataframe thead th {\n",
       "        text-align: right;\n",
       "    }\n",
       "</style>\n",
       "<table border=\"1\" class=\"dataframe\">\n",
       "  <thead>\n",
       "    <tr style=\"text-align: right;\">\n",
       "      <th></th>\n",
       "      <th>word</th>\n",
       "      <th>count</th>\n",
       "      <th>pos</th>\n",
       "    </tr>\n",
       "  </thead>\n",
       "  <tbody>\n",
       "    <tr>\n",
       "      <th>3</th>\n",
       "      <td>좋다</td>\n",
       "      <td>13703</td>\n",
       "      <td>Adjective</td>\n",
       "    </tr>\n",
       "    <tr>\n",
       "      <th>5</th>\n",
       "      <td>맛있다</td>\n",
       "      <td>10305</td>\n",
       "      <td>Adjective</td>\n",
       "    </tr>\n",
       "    <tr>\n",
       "      <th>11</th>\n",
       "      <td>아니다</td>\n",
       "      <td>8429</td>\n",
       "      <td>Adjective</td>\n",
       "    </tr>\n",
       "    <tr>\n",
       "      <th>12</th>\n",
       "      <td>없다</td>\n",
       "      <td>8311</td>\n",
       "      <td>Adjective</td>\n",
       "    </tr>\n",
       "    <tr>\n",
       "      <th>25</th>\n",
       "      <td>많다</td>\n",
       "      <td>5606</td>\n",
       "      <td>Adjective</td>\n",
       "    </tr>\n",
       "    <tr>\n",
       "      <th>62</th>\n",
       "      <td>굉장하다</td>\n",
       "      <td>3320</td>\n",
       "      <td>Adjective</td>\n",
       "    </tr>\n",
       "    <tr>\n",
       "      <th>67</th>\n",
       "      <td>좋아하다</td>\n",
       "      <td>3112</td>\n",
       "      <td>Adjective</td>\n",
       "    </tr>\n",
       "    <tr>\n",
       "      <th>78</th>\n",
       "      <td>부드럽다</td>\n",
       "      <td>2865</td>\n",
       "      <td>Adjective</td>\n",
       "    </tr>\n",
       "    <tr>\n",
       "      <th>82</th>\n",
       "      <td>어떻다</td>\n",
       "      <td>2788</td>\n",
       "      <td>Adjective</td>\n",
       "    </tr>\n",
       "    <tr>\n",
       "      <th>115</th>\n",
       "      <td>아깝다</td>\n",
       "      <td>2064</td>\n",
       "      <td>Adjective</td>\n",
       "    </tr>\n",
       "    <tr>\n",
       "      <th>132</th>\n",
       "      <td>괜찮다</td>\n",
       "      <td>1856</td>\n",
       "      <td>Adjective</td>\n",
       "    </tr>\n",
       "    <tr>\n",
       "      <th>134</th>\n",
       "      <td>강하다</td>\n",
       "      <td>1829</td>\n",
       "      <td>Adjective</td>\n",
       "    </tr>\n",
       "    <tr>\n",
       "      <th>139</th>\n",
       "      <td>고소하다</td>\n",
       "      <td>1730</td>\n",
       "      <td>Adjective</td>\n",
       "    </tr>\n",
       "    <tr>\n",
       "      <th>150</th>\n",
       "      <td>밉다</td>\n",
       "      <td>1682</td>\n",
       "      <td>Adjective</td>\n",
       "    </tr>\n",
       "    <tr>\n",
       "      <th>170</th>\n",
       "      <td>아쉽다</td>\n",
       "      <td>1504</td>\n",
       "      <td>Adjective</td>\n",
       "    </tr>\n",
       "  </tbody>\n",
       "</table>\n",
       "</div>"
      ],
      "text/plain": [
       "     word  count        pos\n",
       "3      좋다  13703  Adjective\n",
       "5     맛있다  10305  Adjective\n",
       "11    아니다   8429  Adjective\n",
       "12     없다   8311  Adjective\n",
       "25     많다   5606  Adjective\n",
       "62   굉장하다   3320  Adjective\n",
       "67   좋아하다   3112  Adjective\n",
       "78   부드럽다   2865  Adjective\n",
       "82    어떻다   2788  Adjective\n",
       "115   아깝다   2064  Adjective\n",
       "132   괜찮다   1856  Adjective\n",
       "134   강하다   1829  Adjective\n",
       "139  고소하다   1730  Adjective\n",
       "150    밉다   1682  Adjective\n",
       "170   아쉽다   1504  Adjective"
      ]
     },
     "execution_count": 134,
     "metadata": {
      "tags": []
     },
     "output_type": "execute_result"
    }
   ],
   "source": [
    "pos_analysis_df[pos_analysis_df['pos'] == 'Adjective'].head(15)"
   ]
  },
  {
   "cell_type": "code",
   "execution_count": null,
   "metadata": {
    "colab": {},
    "colab_type": "code",
    "id": "JQaVZSOzRcN7"
   },
   "outputs": [],
   "source": [
    "adjective_df = pos_analysis_df[pos_analysis_df['pos'] == 'Adjective']\n",
    "adjective_df.to_csv('adjective_df.csv', sep = ';')"
   ]
  },
  {
   "cell_type": "markdown",
   "metadata": {
    "colab_type": "text",
    "id": "UhDIZUrBR799"
   },
   "source": [
    "형용사로 분류된 단어들은 명사나 동사에 비해 사용 가능한 단어들이 훨씬 많았다. 형용사로 분류된 단어들에 대해서 해당 단어들이 자막 내에서 어떻게 쓰이고 있는지를 살펴본 뒤 몇 단어들을 다음과 같이 분류하였다. 어떤 문장에서 쓰이는가에 따라 카테고리가 달라지는 경우가 많았다. \n",
    "\n",
    "<br>\n",
    "\n",
    "- **맛/음식 관련 표현**  \n",
    "많다,맛있다, 부드럽다, 강하다, 고소하다, 적당하다,  쎄다(간이 쎄다), 특이하다,  깔끔하다,  다양하다, 촉촉하다, 담백하다, 충분하다, 느끼하다, 특별하다, 시원하다, 독특하다, 따뜻하다, 재밌다, 차갑다, 간단하다, 두껍다, 새롭다, 야들야들하다, 통통하다, 도톰하다, 화려하다, 애매해다, 진하다, 익숙하다, 은은하다, 부족하다, 달콤하다, 신선하다\n",
    "\n",
    "<br>\n",
    "\n",
    "- **분위기/가격/위생 관련 표현**  \n",
    " 비싸다, 높다(가격, 수준), 저렴하다, 깔끔하다, 정갈하다, 더럽다, 화려하다, 편안하다, 즐겁다, 고급스럽다, 넓다, 편하다, 빠르다, 가깝다, 친절하다\n",
    "\n",
    "<br>\n",
    "\n",
    "- **식당에 대한 점수를 내는 데 적합한 표현**  \n",
    "유명하다, 괜찮다, 좋다, 굉장하다, 좋아하다, 엄청나다, 나쁘다, 만족스럽다, 싫어하다, 완벽하다, 맛있다, 많다, 굉장하다, 상당하다, 만족하다, 멋지다,  실망하다,\n",
    "\n"
   ]
  },
  {
   "cell_type": "markdown",
   "metadata": {
    "colab_type": "text",
    "id": "NwlhPkKsVIiu"
   },
   "source": [
    "### **[부사]**"
   ]
  },
  {
   "cell_type": "code",
   "execution_count": null,
   "metadata": {
    "colab": {
     "base_uri": "https://localhost:8080/",
     "height": 514
    },
    "colab_type": "code",
    "executionInfo": {
     "elapsed": 762,
     "status": "ok",
     "timestamp": 1596475114738,
     "user": {
      "displayName": "Jiwon Lee",
      "photoUrl": "",
      "userId": "12590121175757672431"
     },
     "user_tz": -540
    },
    "id": "I61rOXFALkeW",
    "outputId": "0250e1c9-fecb-4a2f-bb5c-b57dfed7318e"
   },
   "outputs": [
    {
     "data": {
      "text/html": [
       "<div>\n",
       "<style scoped>\n",
       "    .dataframe tbody tr th:only-of-type {\n",
       "        vertical-align: middle;\n",
       "    }\n",
       "\n",
       "    .dataframe tbody tr th {\n",
       "        vertical-align: top;\n",
       "    }\n",
       "\n",
       "    .dataframe thead th {\n",
       "        text-align: right;\n",
       "    }\n",
       "</style>\n",
       "<table border=\"1\" class=\"dataframe\">\n",
       "  <thead>\n",
       "    <tr style=\"text-align: right;\">\n",
       "      <th></th>\n",
       "      <th>word</th>\n",
       "      <th>count</th>\n",
       "      <th>pos</th>\n",
       "    </tr>\n",
       "  </thead>\n",
       "  <tbody>\n",
       "    <tr>\n",
       "      <th>17</th>\n",
       "      <td>많이</td>\n",
       "      <td>6915</td>\n",
       "      <td>Adverb</td>\n",
       "    </tr>\n",
       "    <tr>\n",
       "      <th>20</th>\n",
       "      <td>너무</td>\n",
       "      <td>6709</td>\n",
       "      <td>Adverb</td>\n",
       "    </tr>\n",
       "    <tr>\n",
       "      <th>79</th>\n",
       "      <td>엄청</td>\n",
       "      <td>2862</td>\n",
       "      <td>Adverb</td>\n",
       "    </tr>\n",
       "    <tr>\n",
       "      <th>125</th>\n",
       "      <td>되게</td>\n",
       "      <td>1940</td>\n",
       "      <td>Adverb</td>\n",
       "    </tr>\n",
       "    <tr>\n",
       "      <th>183</th>\n",
       "      <td>없이</td>\n",
       "      <td>1424</td>\n",
       "      <td>Adverb</td>\n",
       "    </tr>\n",
       "    <tr>\n",
       "      <th>191</th>\n",
       "      <td>씩</td>\n",
       "      <td>1356</td>\n",
       "      <td>Adverb</td>\n",
       "    </tr>\n",
       "    <tr>\n",
       "      <th>214</th>\n",
       "      <td>따로</td>\n",
       "      <td>1213</td>\n",
       "      <td>Adverb</td>\n",
       "    </tr>\n",
       "    <tr>\n",
       "      <th>253</th>\n",
       "      <td>훨씬</td>\n",
       "      <td>1058</td>\n",
       "      <td>Adverb</td>\n",
       "    </tr>\n",
       "    <tr>\n",
       "      <th>401</th>\n",
       "      <td>우</td>\n",
       "      <td>694</td>\n",
       "      <td>Adverb</td>\n",
       "    </tr>\n",
       "    <tr>\n",
       "      <th>403</th>\n",
       "      <td>특히</td>\n",
       "      <td>693</td>\n",
       "      <td>Adverb</td>\n",
       "    </tr>\n",
       "    <tr>\n",
       "      <th>441</th>\n",
       "      <td>풍</td>\n",
       "      <td>641</td>\n",
       "      <td>Adverb</td>\n",
       "    </tr>\n",
       "    <tr>\n",
       "      <th>448</th>\n",
       "      <td>아직</td>\n",
       "      <td>633</td>\n",
       "      <td>Adverb</td>\n",
       "    </tr>\n",
       "    <tr>\n",
       "      <th>541</th>\n",
       "      <td>오랜</td>\n",
       "      <td>525</td>\n",
       "      <td>Adverb</td>\n",
       "    </tr>\n",
       "    <tr>\n",
       "      <th>548</th>\n",
       "      <td>빨리</td>\n",
       "      <td>517</td>\n",
       "      <td>Adverb</td>\n",
       "    </tr>\n",
       "    <tr>\n",
       "      <th>575</th>\n",
       "      <td>팡</td>\n",
       "      <td>495</td>\n",
       "      <td>Adverb</td>\n",
       "    </tr>\n",
       "  </tbody>\n",
       "</table>\n",
       "</div>"
      ],
      "text/plain": [
       "    word  count     pos\n",
       "17    많이   6915  Adverb\n",
       "20    너무   6709  Adverb\n",
       "79    엄청   2862  Adverb\n",
       "125   되게   1940  Adverb\n",
       "183   없이   1424  Adverb\n",
       "191    씩   1356  Adverb\n",
       "214   따로   1213  Adverb\n",
       "253   훨씬   1058  Adverb\n",
       "401    우    694  Adverb\n",
       "403   특히    693  Adverb\n",
       "441    풍    641  Adverb\n",
       "448   아직    633  Adverb\n",
       "541   오랜    525  Adverb\n",
       "548   빨리    517  Adverb\n",
       "575    팡    495  Adverb"
      ]
     },
     "execution_count": 136,
     "metadata": {
      "tags": []
     },
     "output_type": "execute_result"
    }
   ],
   "source": [
    "pos_analysis_df[pos_analysis_df['pos'] == 'Adverb'].head(15)"
   ]
  },
  {
   "cell_type": "code",
   "execution_count": null,
   "metadata": {
    "colab": {},
    "colab_type": "code",
    "id": "KKsbygJ2Vb4s"
   },
   "outputs": [],
   "source": [
    "adverb_df = pos_analysis_df[pos_analysis_df['pos'] == 'Adverb']\n",
    "adverb_df.to_csv('adverb_df.csv', sep = ';')"
   ]
  },
  {
   "cell_type": "markdown",
   "metadata": {
    "colab_type": "text",
    "id": "RWIk3WrvV8xq"
   },
   "source": [
    "부사의 경우, 맛이나 식당에 대한 평가 앞에 꾸며주는 말로 쓰기도 하지만, 습관적으로 쓰는 말들이나 식당 소개를 전개해나가는 과정에서 쓰이는 경우가 많았다. '많이', '천천히', '엄청', '훨씬' 등의 표현들은 다른 상황에서 쓰이는 경우가 많기 때문에 이러한 단어들은 사용이 어려울 것이라 판단했다.   \n",
    "\n",
    "<br> \n",
    "- 아삭아삭, 탱글탱글, 오독오독, 포슬포슬, 꾸덕꾸덕, 바삭바삭, 바사삭, 호로록, 폭신폭신, 몽글몽글, 찐득찐득, 몰캉몰캉, 수북이, 꼬독꼬독..\n",
    "\n",
    "위와 같은 단어들의 종류가 다양했으며, 주로 맛을 표현할 때 쓰이는 단어들이었다. 유튜버들마다, 영상들마다 표현들이 가지각색이라 위와 같은 단어들의 등장 빈도수는 대체적으로 낮은 편이었다.   "
   ]
  },
  {
   "cell_type": "markdown",
   "metadata": {
    "colab_type": "text",
    "id": "YMwTQlwZVaya"
   },
   "source": [
    "## 7. 요약 및 계획 🌟🌟"
   ]
  },
  {
   "cell_type": "markdown",
   "metadata": {
    "colab_type": "text",
    "id": "gHuiofYjX1kT"
   },
   "source": [
    "### 전처리\n",
    "- `soyspacing`으로 띄어쓰기 전처리를 하려 했지만, 도메인에 알맞는 학습 데이터가 존재하지 않아서 `pykospacing`을 이용하기로 함(pykospacing은 학습된 모델로, 뉴스 데이터에서 띄어쓰기를 학습. 띄어쓰기가 난장판인 경우 볼만한 문서로 바꾸는데 유용함)\n",
    "\n",
    "- `pykospacing`으로 띄어쓰기 전처리했을 때, 붙어있어야 하는 단어인데 띄어져있는 경우에는 처리하지 못함. \n",
    "\n",
    "- 특히, 자동생성자막의 경우 띄어쓰기 전처리가 어려워서 토큰화가 잘 이루어지지 않는 경우가 있음.(쫀 득쫀득, 쫀 득쫀 득, 쫄 깃쫄깃 등..)\n",
    "\n",
    "- 자동 생성 자막인 경우, 문장의 띄어쓰기를 다 없앤 다음에 `pykospacing`을 적용해서 토큰화가 잘 이루어질 수 있는지 실험해볼 계획임.\n",
    "\n",
    "- 💡 토큰화한 단어 목록을 통해, 직접 전처리할 수 있는 것들은 미리 처리할 계획. 신조어처럼 토큰화되어 나뉘어지면 안되는 단어들(갓성비..) 도 처리할 계획.    \n",
    "ex) 새 콤달콤 -> 새콤달콤/ 쫄 깃쫄깃, 깃쫄깃 -> 쫄깃쫄깃/ 베뉴 -> 메뉴, 갓 성비 -> 갓성비 / 다 성비 -> 가성비\n",
    "\n",
    "<br><br>\n",
    "\n",
    "### 토큰화\n",
    "- `konlpy` 의 `Okt` 를 사용하여 토큰화 및 품사 분석을 진행함. 현재 단계에서는, 단어를 꺼내와서 어떤 품사인지 파악하는 것으로 했지만 차후에는 문맥 내에서 어떤 품사인지 태깅하는 방식을 적용할 수 있을 것임.\n",
    "\n",
    "- 품사를 태깅해보기 전에 토큰화된 단어들 중에서 쓸 수 있을만한 단어들 1175개를 뽑아보는 작업을 진행했음. (지금은 품사 태깅을 마쳤으므로, 품사 태깅 column을 추가하면 될 것 같다!)\n",
    "\n",
    "- 명사, 동사, 형용사, 부사 별로 어떤 키워드를 뽑아낼 수 있을지 확인하는 과정.\n",
    "\n",
    "- 💡 동사, 명사, 형용사, 부사가 아닌 품사들에 대해서 제거를 진행할지 고민해볼것.\n",
    "\n",
    "- 💡 불용어사전 재정의 필요.\n",
    "\n",
    "<br><br>\n",
    "\n",
    "### 분류 🌟🌟\n",
    "- 맛에 대한 주관적인 표현들은 한정적이기 때문에, 국립 국어원 맛 표현들을 지금 단계에서 사용할 필요가 있을지?  \n",
    "\n",
    "- 💡 크게 **키워드**(사용자에게 표시할 키워드), **평가**(사용자에게 표시하지는 않지만, 리뷰 점수를 매기는 데 사용할 단어) 로 나눌 계획.  \n",
    "소분류는 최대한 자세히 나눌 것. 나중에 합치더라도 일단 세세하게 나눌것.\n",
    "\n",
    "|대분류|소분류|비고|\n",
    "|-----------|-----------|-----------|\n",
    "|키워드|맛|감칠맛, 식감, ..|\n",
    "|     |분위기|고급스러운, 데이트 ..|\n",
    "|     |가격|가성비, 저렴한, 비싼|\n",
    "|     |서비스|친절한|\n",
    "|     |청결|더러운, 깨끗한, 깔끔한|\n",
    "|     |메뉴|메뉴 이름들|\n",
    "|     |INFO|필요한 정보들인데 위에 속하지 않는 경우; 메뉴판, 주차장..|\n",
    "|     |기타|키워드로 사용할만 하지만 위에 해당 안될 경우. 모르겠는 경우|\n",
    "|평가|평가등급|훌륭하다, 만족하다, 좋다, 실망하다.. 각 단어별 점수는 차후에 매길것|\n",
    "\n",
    "<br><br>\n",
    "\n",
    "### 분류 이후 계획 🌟🌟\n",
    "- |자막시간 |자막문장 |문장토큰화결과(단어/품사/소분류카테고리)|토큰화결과직접보정(단어/품사/소분류카테고리)\n",
    "\n",
    "\n",
    "|자막시간|자막문장|문장 토큰화 결과|직접 보정|\n",
    "|-----------|-----------|-----------|--------|\n",
    "|생략|김치가 들어가 있어서 깔끔한 맛이 너무 좋았습니다|[(김치, 'Noun', ['메뉴']), (깔끔하다, 'Adj', ['맛','청결']), (좋다, 'Adj', ['평가-A'])]|[(깔끔하다, 'Adj', ['맛']), (좋다, 'Adj', ['평가-A'])]|\n",
    "\n",
    "\n",
    "\n",
    "> 깔끔하다 라는 단어가 청결, 맛에 해당될 수 있는데 이 문장에서는 맛에 해당되는 것이므로 마지막 column에 '맛'만 남겨두기. '김치'라는 단어가 식당을 표현하는 데 크게 도움이 되지 않는 정보라면 생략.\n",
    "\n",
    "\n",
    "\n",
    "- 위와 같이 토큰화한 결과가 해당 문장 안에서 올바른 카테고리인지, 필요한 키워드인지 확인하여 보정하는 작업을 진행할 예정.\n",
    "\n",
    "- 보정한 결과를 이용해 학습 데이터를 만들어서 딥러닝을 적용해볼 예정임.\n",
    "\n",
    "\n",
    "<br><br>\n",
    "\n",
    "\n"
   ]
  }
 ],
 "metadata": {
  "accelerator": "GPU",
  "colab": {
   "collapsed_sections": [
    "fLOx1O7oMqgk",
    "LIAAQsDUMl8j",
    "2rNiRFuUMawJ",
    "TSX2JRmKC18T",
    "Wx_q2nroBbv9",
    "qIzNdxzmlwcC",
    "hGSpVXsREbv7",
    "AGLrEa1IMMeb",
    "s5qoMCfjRS2w",
    "NwlhPkKsVIiu",
    "YMwTQlwZVaya",
    "gHuiofYjX1kT"
   ],
   "name": "EDA_ver1.0.ipynb",
   "provenance": [
    {
     "file_id": "1RlfmN-4ZOpUy-rKwOYl9iZDR294O4pLa",
     "timestamp": 1596479958816
    }
   ]
  },
  "kernelspec": {
   "display_name": "Python 3",
   "language": "python",
   "name": "python3"
  },
  "language_info": {
   "codemirror_mode": {
    "name": "ipython",
    "version": 3
   },
   "file_extension": ".py",
   "mimetype": "text/x-python",
   "name": "python",
   "nbconvert_exporter": "python",
   "pygments_lexer": "ipython3",
   "version": "3.7.3"
  }
 },
 "nbformat": 4,
 "nbformat_minor": 4
}
