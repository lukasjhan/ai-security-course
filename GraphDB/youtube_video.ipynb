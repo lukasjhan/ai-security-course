{
 "cells": [
  {
   "cell_type": "code",
   "execution_count": 3,
   "metadata": {},
   "outputs": [
    {
     "name": "stdout",
     "output_type": "stream",
     "text": [
      "Collecting youtube_dl\n",
      "  Downloading https://files.pythonhosted.org/packages/61/1c/a86837929eff24827b117d577584cc1a2a85dfdb5a91465d17c8b298f0d0/youtube_dl-2020.7.28-py2.py3-none-any.whl (1.8MB)\n",
      "Installing collected packages: youtube-dl\n",
      "Successfully installed youtube-dl-2020.7.28\n"
     ]
    }
   ],
   "source": [
    "# !pip install youtube_dl"
   ]
  },
  {
   "cell_type": "code",
   "execution_count": 13,
   "metadata": {},
   "outputs": [],
   "source": [
    "import os\n",
    "import youtube_dl"
   ]
  },
  {
   "cell_type": "code",
   "execution_count": 14,
   "metadata": {},
   "outputs": [],
   "source": [
    "VIDEO_DOWNLOAD_PATH = './download/'  # 다운로드 경로\n",
    "\n",
    "def download_video_and_subtitle(output_dir, youtube_video_list):\n",
    "\n",
    "    download_path = os.path.join(output_dir, '%(id)s-%(title)s.%(ext)s')\n",
    "\n",
    "    for video_url in youtube_video_list:\n",
    "\n",
    "        # youtube_dl options\n",
    "#         ydl_opts = {\n",
    "#             'format': 'bestaudio/best',  # 가장 좋은 화질로 선택(화질을 선택하여 다운로드 가능)\n",
    "#             'outtmpl': download_path, # 다운로드 경로 설정\n",
    "#             'writesubtitles': 'best', # 자막 다운로드(자막이 없는 경우 다운로드 X)\n",
    "#             'writethumbnail': 'best',  # 영상 thumbnail 다운로드\n",
    "#             'writeautomaticsub': True, # 자동 생성된 자막 다운로드\n",
    "#             'subtitleslangs': 'ko',  # 자막 언어가 영어인 경우(다른 언어로 변경 가능)\n",
    "#             'postprocessors': [{\n",
    "#                 'key': 'FFmpegExtractAudio',\n",
    "#                 'preferredcodec': 'wav',\n",
    "#                 'preferredquality': '192',\n",
    "#             }],\n",
    "#         }\n",
    "        ydl_opts = {\n",
    "            'format': 'best/best',  # 가장 좋은 화질로 선택(화질을 선택하여 다운로드 가능)\n",
    "            'outtmpl': download_path, # 다운로드 경로 설정\n",
    "            'writesubtitles': 'best', # 자막 다운로드(자막이 없는 경우 다운로드 X)\n",
    "            'writethumbnail': 'best',  # 영상 thumbnail 다운로드\n",
    "            'writeautomaticsub': True, # 자동 생성된 자막 다운로드\n",
    "            'subtitleslangs': 'ko',  # 자막 언어가 영어인 경우(다른 언어로 변경 가능)\n",
    "        }\n",
    "        try:\n",
    "            with youtube_dl.YoutubeDL(ydl_opts) as ydl:\n",
    "                ydl.download([video_url])\n",
    "        except Exception as e:\n",
    "            print('error', e)"
   ]
  },
  {
   "cell_type": "code",
   "execution_count": 15,
   "metadata": {},
   "outputs": [
    {
     "name": "stdout",
     "output_type": "stream",
     "text": [
      "[youtube] JVlVQC8iMi0: Downloading webpage\n"
     ]
    },
    {
     "name": "stderr",
     "output_type": "stream",
     "text": [
      "WARNING: video doesn't have subtitles\n"
     ]
    },
    {
     "name": "stdout",
     "output_type": "stream",
     "text": [
      "[youtube] JVlVQC8iMi0: Looking for automatic captions\n"
     ]
    },
    {
     "name": "stderr",
     "output_type": "stream",
     "text": [
      "WARNING: k subtitles not available for JVlVQC8iMi0\n",
      "WARNING: o subtitles not available for JVlVQC8iMi0\n"
     ]
    },
    {
     "name": "stdout",
     "output_type": "stream",
     "text": [
      "[youtube] JVlVQC8iMi0: Downloading thumbnail ...\n",
      "[youtube] JVlVQC8iMi0: Writing thumbnail to: download\\JVlVQC8iMi0-몰래 찾아가는 숨겨진 진짜 맛집 TOP4를 소개합니다!!!.webp\n",
      "[download] Destination: download\\JVlVQC8iMi0-몰래 찾아가는 숨겨진 진짜 맛집 TOP4를 소개합니다!!!.webm\n",
      "[download] 100% of 9.43MiB in 00:00                          \n",
      "[ffmpeg] Destination: download\\JVlVQC8iMi0-몰래 찾아가는 숨겨진 진짜 맛집 TOP4를 소개합니다!!!.wav\n",
      "Deleting original file download\\JVlVQC8iMi0-몰래 찾아가는 숨겨진 진짜 맛집 TOP4를 소개합니다!!!.webm (pass -k to keep)\n",
      "Complete download!\n"
     ]
    }
   ],
   "source": [
    "if __name__ == '__main__':\n",
    "\n",
    "    youtube_url_list = [  # 유투브에서 다운로드 하려는 영상의 주소 리스트(아래는 Sample Video 리스트)\n",
    "        \"https://www.youtube.com/watch?v=JVlVQC8iMi0\",\n",
    "#         \"https://www.youtube.com/watch?v=0EiV-ERKRRs\",\n",
    "#         \"https://www.youtube.com/watch?v=-CoApUAZFf8\",\n",
    "#         \"https://www.youtube.com/watch?v=M25AP_KPwlI\"\n",
    "    ]\n",
    "    download_video_and_subtitle(VIDEO_DOWNLOAD_PATH, youtube_url_list)\n",
    "    print('Complete download!')"
   ]
  },
  {
   "cell_type": "code",
   "execution_count": null,
   "metadata": {},
   "outputs": [],
   "source": []
  }
 ],
 "metadata": {
  "kernelspec": {
   "display_name": "env_chat",
   "language": "python",
   "name": "env_chat"
  },
  "language_info": {
   "codemirror_mode": {
    "name": "ipython",
    "version": 3
   },
   "file_extension": ".py",
   "mimetype": "text/x-python",
   "name": "python",
   "nbconvert_exporter": "python",
   "pygments_lexer": "ipython3",
   "version": "3.7.3"
  }
 },
 "nbformat": 4,
 "nbformat_minor": 4
}
