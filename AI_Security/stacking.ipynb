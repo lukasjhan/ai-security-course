{
 "cells": [
  {
   "cell_type": "code",
   "execution_count": 55,
   "metadata": {},
   "outputs": [],
   "source": [
    "import numpy as np\n",
    "from numpy import mean\n",
    "from numpy import std\n",
    "from sklearn.model_selection import cross_val_score, RepeatedStratifiedKFold\n",
    "from sklearn.linear_model import LogisticRegression\n",
    "from sklearn.neighbors import KNeighborsClassifier\n",
    "from sklearn.tree import DecisionTreeClassifier\n",
    "from sklearn.svm import SVC\n",
    "from sklearn.ensemble import StackingClassifier, RandomForestClassifier\n",
    "from matplotlib import pyplot\n",
    "from sklearn.metrics import classification_report, accuracy_score\n",
    "from sklearn.multiclass import OneVsRestClassifier\n",
    "import pandas as pd\n",
    "import warnings\n",
    "warnings.filterwarnings(action='ignore')"
   ]
  },
  {
   "cell_type": "code",
   "execution_count": 56,
   "metadata": {},
   "outputs": [],
   "source": [
    "def get_dataset():\n",
    "    x_train, x_test, y_train, y_test = pd.read_pickle('./data/forest/forest.pkl')\n",
    "    return x_train, x_test, y_train, y_test    "
   ]
  },
  {
   "cell_type": "code",
   "execution_count": 57,
   "metadata": {},
   "outputs": [],
   "source": [
    "def get_stacking():    \n",
    "    level0 = []\n",
    "    level0.append(('RF', RandomForestClassifier()))\n",
    "    level0.append(('SVM', SVC(C=10, gamma=0.1)))\n",
    "\n",
    "    level1 = LogisticRegression()\n",
    "\n",
    "    ensemble = StackingClassifier(estimators=level0, final_estimator=level1, cv=5)\n",
    "    model = OneVsRestClassifier(ensemble)\n",
    "    return model"
   ]
  },
  {
   "cell_type": "code",
   "execution_count": 58,
   "metadata": {},
   "outputs": [],
   "source": [
    "def get_models():\n",
    "    models = dict()\n",
    "    models['RF'] = RandomForestClassifier()\n",
    "    models['SVM'] = SVC(C=10, gamma=0.1)\n",
    "    models['STACKING'] = get_stacking()\n",
    "    return models"
   ]
  },
  {
   "cell_type": "code",
   "execution_count": 59,
   "metadata": {},
   "outputs": [],
   "source": [
    "def evaluate_model(model):    \n",
    "    model.fit(x_train, y_train)\n",
    "    y_pred = model.predict(x_test)\n",
    "    score = accuracy_score(y_test, y_pred) \n",
    "    print('Accuracy: {:.3f}'.format(score))"
   ]
  },
  {
   "cell_type": "code",
   "execution_count": 60,
   "metadata": {},
   "outputs": [
    {
     "name": "stdout",
     "output_type": "stream",
     "text": [
      "RF--------------------\n",
      "Accuracy: 0.893\n",
      "\n",
      "SVM--------------------\n",
      "Accuracy: 0.880\n",
      "\n",
      "STACKING--------------------\n",
      "Accuracy: 0.905\n",
      "\n"
     ]
    }
   ],
   "source": [
    "x_train, x_test, y_train, y_test = get_dataset()\n",
    "\n",
    "models = get_models()\n",
    "results, names = list(), list()\n",
    "for name, model in models.items():\n",
    "    print(name + '--' * 10 )\n",
    "    evaluate_model(model)\n",
    "    print('')"
   ]
  },
  {
   "cell_type": "code",
   "execution_count": 61,
   "metadata": {},
   "outputs": [],
   "source": [
    "# from sklearn.model_selection import GridSearchCV\n",
    "\n",
    "# x_train, x_test, y_train, y_test = get_dataset()\n",
    "# X = np.concatenate([x_train, x_test])\n",
    "# y = np.concatenate([y_train, y_test])\n",
    "\n",
    "# svm_rbf = SVC(kernel = 'rbf',random_state=100)\n",
    "# params = {'C': [0.001, 0.01, 0.1, 1, 10, 25, 50, 100],\n",
    "#              'gamma':[0.001, 0.01, 0.1, 1, 10, 25, 50, 100]}\n",
    "\n",
    "# grid_svm = GridSearchCV(svm_rbf, param_grid = params, cv = 5)\n",
    "# grid_svm.fit(X, y)\n",
    "\n",
    "# result = pd.DataFrame(grid_svm.cv_results_['params'])\n",
    "# result['mean_test_score'] = grid_svm.cv_results_['mean_test_score']\n",
    "# result.sort_values(by='mean_test_score', ascending=False)"
   ]
  },
  {
   "cell_type": "code",
   "execution_count": null,
   "metadata": {},
   "outputs": [],
   "source": []
  }
 ],
 "metadata": {
  "kernelspec": {
   "display_name": "Python 3",
   "language": "python",
   "name": "python3"
  },
  "language_info": {
   "codemirror_mode": {
    "name": "ipython",
    "version": 3
   },
   "file_extension": ".py",
   "mimetype": "text/x-python",
   "name": "python",
   "nbconvert_exporter": "python",
   "pygments_lexer": "ipython3",
   "version": "3.7.3"
  }
 },
 "nbformat": 4,
 "nbformat_minor": 4
}
