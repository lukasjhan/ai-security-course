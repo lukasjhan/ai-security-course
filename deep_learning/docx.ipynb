{
 "cells": [
  {
   "cell_type": "code",
   "execution_count": 1,
   "metadata": {},
   "outputs": [
    {
     "name": "stdout",
     "output_type": "stream",
     "text": [
      "Collecting pypandoc\n",
      "  Downloading https://files.pythonhosted.org/packages/d6/b7/5050dc1769c8a93d3ec7c4bd55be161991c94b8b235f88bf7c764449e708/pypandoc-1.5.tar.gz\n",
      "Requirement already satisfied: setuptools in c:\\users\\bjkim\\anaconda3\\lib\\site-packages (from pypandoc) (41.0.1)\n",
      "Requirement already satisfied: pip>=8.1.0 in c:\\users\\bjkim\\anaconda3\\lib\\site-packages (from pypandoc) (19.1.1)\n",
      "Requirement already satisfied: wheel>=0.25.0 in c:\\users\\bjkim\\anaconda3\\lib\\site-packages (from pypandoc) (0.33.4)\n",
      "Building wheels for collected packages: pypandoc\n",
      "  Building wheel for pypandoc (setup.py): started\n",
      "  Building wheel for pypandoc (setup.py): finished with status 'done'\n",
      "  Stored in directory: C:\\Users\\bjkim\\AppData\\Local\\pip\\Cache\\wheels\\bb\\7d\\d6\\2f9af55e800d37e42e546106bcbd36a86e24e725e303d17e04\n",
      "Successfully built pypandoc\n",
      "Installing collected packages: pypandoc\n",
      "Successfully installed pypandoc-1.5\n"
     ]
    }
   ],
   "source": [
    "!pip install pypandoc"
   ]
  },
  {
   "cell_type": "code",
   "execution_count": 3,
   "metadata": {},
   "outputs": [],
   "source": [
    "import pypandoc\n",
    "\n",
    "html = pypandoc.convert_file('test.docx', 'html')"
   ]
  },
  {
   "cell_type": "code",
   "execution_count": 4,
   "metadata": {},
   "outputs": [],
   "source": [
    "from html.parser import HTMLParser\n",
    "class MyHTMLParser(HTMLParser):\n",
    "    contents = []\n",
    "    \n",
    "    def handle_data(self, data):\n",
    "        self.contents.append(data)\n",
    "\n",
    "parser = MyHTMLParser()"
   ]
  },
  {
   "cell_type": "code",
   "execution_count": 5,
   "metadata": {},
   "outputs": [],
   "source": [
    "parser.feed(html) "
   ]
  },
  {
   "cell_type": "code",
   "execution_count": 6,
   "metadata": {},
   "outputs": [],
   "source": [
    "text = ''.join(parser.contents)"
   ]
  },
  {
   "cell_type": "code",
   "execution_count": 7,
   "metadata": {},
   "outputs": [
    {
     "data": {
      "text/plain": [
       "'\\r\\n\\r\\n\\r\\n차시명\\r\\n기본과정 Clip1\\r\\n\\r\\n\\r\\n\\r\\n\\r\\n\\r\\n\\r\\n클립명\\r\\n인공지능 개요 및 활용사례\\r\\n\\r\\n\\r\\n\\r\\n\\r\\n목표\\r\\n인공지능의 개요에 대해 설명할 수 있다.\\r\\n인공신경망에 대해 설명할 수 있다.\\r\\n인공지능과 머신러닝, 딥러닝의 차이에 대해 설명할 수 있다.\\r\\n딥러닝의 활용사례에 대해 설명할 수 있다.\\r\\n\\r\\n\\r\\n\\r\\n\\r\\n내용\\r\\n과정소개, 인공지능 개요, 인공신경망 개요, 인공지능/머신러닝/딥러닝 차이, 활용사례\\r\\n\\r\\n\\r\\n\\r\\n\\r\\n키워드\\r\\n인공지능\\r\\n머신러닝\\r\\n딥러닝\\r\\n\\r\\n\\r\\n\\r\\n■ 학습내용\\r\\n1. 과정 소개\\r\\n(촬영)\\r\\n2. 인공지능의 개념\\r\\n인공지능은 인지, 학습 등 인간의 지적 능력의 부분 또는 전체를 컴퓨터를 이용해 구현하는 기술 분야를 의미하며,\\r\\n1950년대에 컴퓨터의 등장과 함께 탄생\\r\\n미국의 전산학자이자 인지과학자이 존 매카시(John McCarthy)가 1956년에 다트머스 학회에서 처음으로 인공지능(Artificial Intelligence)이라는 용어 사용\\r\\n1950년 영국의 앨런 튜링(Alan Turing)이\\r\\n『Computing Machinery and Intelligence』 라는 논문을 통해\\r\\n컴퓨터가 인간처럼 사고하는 것이 가능하다고 함\\r\\n3. 인공지능 연구의 두가지 패러다임\\r\\nSymbolic AI : 합리주의(Rationalism)에 기초, 지식 프로그래밍을 통해 논리와 규칙 기반의 지식표현 및 추론, 1980년대 전문가시스템(expert system)\\r\\n\\r\\nConnectionist AI : 경험주의(Empiricism)에 기초, 데이터에 대한 학습을 통해 규칙 생성 및 예측, 1990년대 이후 머신러닝/딥러닝\\r\\n\\r\\n4. 인공신경망(Artificial Neural Network)\\r\\n인공신경망은 이전 뉴런의 축색돌기(axon)로 출력된 신호가 시냅스(synapse)연결을 통해 다른 뉴런의 입력 신호(W0, W1, W2..)로 전달\\r\\n인공신경망은 입력계층(input layer), 은닉계층(hidden layer) 및 출력계층(output layer)으로 구성\\r\\n입력 신호는 수상돌기(dendrite)를 거쳐 신호의 강도(weight)에 따라 신경세포체(cell body)로 전달\\r\\n신경세포체에서는 신호의 총합(summation)을 구하고 활성화 함수(activation function)를 거쳐 축색돌기(axon)를 통해 출력 신호로 출력\\r\\n인공신경망의 구조\\r\\n\\r\\n출처 : http://cs231n.stanford.edu/slides/2016/winter1516_lecture5.pdf\\r\\n심층신경망\\r\\n심층신경망은 입력층과 출력층 사이에 다수의 은닉층이 있는 인공 신경망을 심층신경망(deep neural network)이라 부르며,\\r\\n심층 신경망을 학습하기 위해 고안된 특별한 알고리즘들을 딥러닝(deep learning)이라고 함\\r\\n단순신경망과 심층신경망\\r\\n\\r\\n출처 : https://m.blog.naver.com/dibrary1004/221106360079\\r\\n5. 인공지능, 머신러닝과 딥러닝\\r\\n머신러닝은 분석가의 중간 개입을 통해 Feature Engineering(Feature 추출 + Feature 선택) 과정 필요하며,\\r\\n딥러닝은 분석가의 중간 개입이 불필요하며 Feature에 대한 학습과 분류 과정이 통합된 End-to-End 학습이 가능\\r\\n머신러닝과 딥러닝\\r\\n\\r\\n출처 : 메리츠종금증권 리서치센터\\r\\n인공지능과 머신러닝, 딥러닝이 혼용되어 그 경계가 모호하게 사용되고 있는 것이 사실이며,\\r\\n머신러닝은 인공지능의 한 축인 경험주의(Empiricism)에 기초 연결주의적 인공지능(Connectionist AI)에 포함되며,\\r\\n딥러닝은 머신러닝의 일종으로 심층 인공신경망을 사용하여 End-to-End 학습 구조를 가지는 학습 모델\\r\\n인공지능, 머신러닝, 딥러닝\\r\\n\\r\\n출처 : http://blog.nvidia.com\\r\\n6. 인공지능/딥러닝의 활용 사례\\r\\n6.1픽셀(pixel) 복원\\r\\n딥러닝을 이용하여 모자이크 처리된 사진이나 8X8의 저해상도 사진을 32X32의 고해상도 이미지\\r\\n로 복원한 사례\\r\\n딥러닝을 통해 복원된 복원된 32X32 사진은 실제사진인 ground truth와 비교해도 거의 유사\\r\\n저해상도 사진을 기반으로 몽타쥬 등을 작성하여 수사에 활용하는 수사기관에서 유용하게\\r\\n사용될 것으로 기대\\r\\n인공지능 픽셀 복원\\r\\n\\r\\n출처 : https://arxiv.org/pdf/1702.00783.pdf?xtor=AL-32280680\\r\\n6.2 객체 검출(Object Detection)\\r\\n딥러닝을 이용해 이미지 내에 존재하는 객체(Object)의 경계를 검출(Detection) 하고 해당 객체가 어떠한 객체인지를 분류(classification)하는 기술\\r\\n이미지, 동영상 및 실시간 영상 등에서 객체를 검출하여 인식하기 위한 기술\\r\\n자율주행차의 사물인식 등에 활용될 것으로 기대\\r\\n인공지능 객체 검출(Object Detection)\\r\\n\\r\\n출처 : https://pjreddie.com/darknet/yolo/\\r\\n6.3 번역(Translation)\\r\\n딥러닝을 이용해 국가간 언어를 번역해 주는 서비스를 제공이 가능하며\\r\\n기존 번역서비스에 비해 한층 정확도가 높아졌으며, 전후 문맥을 파악하여 자연스러운 번역 가능\\r\\n최근에는 딥러닝 음성인식 기술과 융합하여 통역 서비스에 활용하기도 함\\r\\n인공지능 번역(Translation)\\r\\n\\r\\n출처 : Papago, https://papago.naver.com\\r\\n6.4 의료(Medical) 진단\\r\\n국내 기업인 루닛은 전 세계 100대 AI 기업 랭킹인 ‘The AI 100’에 유일하게 국내 기업으로 선 정되어 헬스케어 관련 기업들 중 TOP 11, 의료 진단 AI 관련 기업들 중 TOP7에 오른 기업\\r\\n크기가 작거나 다른 장기에 가려져 있는 결절을 놓치는 비율 감소시키고, 비영상의학 전문의의 폐 결절 판독 정확도를 영상의학 전문의 수준으로 향상\\r\\n인공지능 의료 진단\\r\\n\\r\\n출처 : https://lunit.io/company/\\r\\n6.5 아마존 고(Amazon Go)\\r\\n아마존은 컴퓨터비전, 딥러닝, 센서퓨전 등과 저스트 워크아웃(Just Walk Out) 기술을 매장에 적용\\r\\n컴퓨터비전인식, 음성인식, 기계학습, 자율주행기술, 실시간예측 기술 등을 융합하여 고객의 표정이나 손동작 까지도 인식하여 실시간 분석이 가능한 기술\\r\\n인공지능 무인상점 아마존 고\\r\\n\\r\\n출처 : http://m.thegear.net/15668\\r\\n그 외에도 스마트 팩토리(smart factory), 금융 사기방지시스템(FDS), 지능형 정보보안 시스템 등 다양한 분야에서 인공지능/딥러닝이 활용되고 있음\\r\\n■ 평가문항\\r\\n\\r\\n\\r\\n\\r\\n문제1\\r\\n다음 중 인공신경망(Artificial Neural Network)을 구성하기 위한 계층(Layer)로 올바르지 않은 것은?\\r\\n\\r\\n\\r\\n\\r\\n\\r\\n보기\\r\\n① 입력계층(input layer)\\r\\n② 은닉계층(hidden layer)\\r\\n③ 증강계층(augment layer)\\r\\n④ 출력계층(output layer\\r\\n\\r\\n\\r\\n정답\\r\\n③\\r\\n\\r\\n\\r\\n해설\\r\\n인공신경망(Artificial Neural Network) 입력계층(input layer), 은닉계층(hidden layer) 및 출력계층(output layer)으로 구성\\r\\n\\r\\n\\r\\n\\r\\n\\r\\n\\r\\n\\r\\n문제2\\r\\n입력층과 출력층 사이에 다수의 은닉층이 있는 인공 신경망을 무엇이라 하는가?\\r\\n\\r\\n\\r\\n\\r\\n\\r\\n보기\\r\\n① Simple Neural Network\\r\\n② Multi neural Network\\r\\n③ Single Neural Network\\r\\n④ Deep Neural Network\\r\\n\\r\\n\\r\\n정답\\r\\n④\\r\\n\\r\\n\\r\\n해설\\r\\n심층신경망(deep neural network)은 입력층과 출력층 사이에 다수의 은닉층이 있는 인공 신경망\\r\\n\\r\\n\\r\\n\\r\\n'"
      ]
     },
     "execution_count": 7,
     "metadata": {},
     "output_type": "execute_result"
    }
   ],
   "source": [
    "text"
   ]
  },
  {
   "cell_type": "code",
   "execution_count": 8,
   "metadata": {},
   "outputs": [
    {
     "data": {
      "text/plain": [
       "' 차시명 기본과정 Clip1 클립명 인공지능 개요 및 활용사례 목표 인공지능의 개요에 대해 설명할 수 있다 인공신경망에 대해 설명할 수 있다 인공지능과 머신러닝  딥러닝의 차이에 대해 설명할 수 있다 딥러닝의 활용사례에 대해 설명할 수 있다 내용 과정소개  인공지능 개요  인공신경망 개요  인공지능 머신러닝 딥러닝 차이  활용사례 키워드 인공지능 머신러닝 딥러닝  학습내용 1  과정 소개 촬영 2  인공지능의 개념 인공지능은 인지  학습 등 인간의 지적 능력의 부분 또는 전체를 컴퓨터를 이용해 구현하는 기술 분야를 의미하며 1950년대에 컴퓨터의 등장과 함께 탄생 미국의 전산학자이자 인지과학자이 존 매카시 John McCarthy 가 1956년에 다트머스 학회에서 처음으로 인공지능 Artificial Intelligence 이라는 용어 사용 1950년 영국의 앨런 튜링 Alan Turing 이 Computing Machinery and Intelligence  라는 논문을 통해 컴퓨터가 인간처럼 사고하는 것이 가능하다고 함 3  인공지능 연구의 두가지 패러다임 Symbolic AI   합리주의 Rationalism 에 기초  지식 프로그래밍을 통해 논리와 규칙 기반의 지식표현 및 추론  1980년대 전문가시스템 expert system Connectionist AI   경험주의 Empiricism 에 기초  데이터에 대한 학습을 통해 규칙 생성 및 예측  1990년대 이후 머신러닝 딥러닝 4  인공신경망 Artificial Neural Network 인공신경망은 이전 뉴런의 축색돌기 axon 로 출력된 신호가 시냅스 synapse 연결을 통해 다른 뉴런의 입력 신호 W0  W1  W2 로 전달 인공신경망은 입력계층 input layer  은닉계층 hidden layer  및 출력계층 output layer 으로 구성 입력 신호는 수상돌기 dendrite 를 거쳐 신호의 강도 weight 에 따라 신경세포체 cell body 로 전달 신경세포체에서는 신호의 총합 summation 을 구하고 활성화 함수 activation function 를 거쳐 축색돌기 axon 를 통해 출력 신호로 출력 인공신경망의 구조 출처   http cs231n stanford edu slides 2016 winter1516 lecture5 pdf 심층신경망 심층신경망은 입력층과 출력층 사이에 다수의 은닉층이 있는 인공 신경망을 심층신경망 deep neural network 이라 부르며 심층 신경망을 학습하기 위해 고안된 특별한 알고리즘들을 딥러닝 deep learning 이라고 함 단순신경망과 심층신경망 출처   https m blog naver com dibrary1004 221106360079 5  인공지능  머신러닝과 딥러닝 머신러닝은 분석가의 중간 개입을 통해 Feature Engineering Feature 추출   Feature 선택  과정 필요하며 딥러닝은 분석가의 중간 개입이 불필요하며 Feature에 대한 학습과 분류 과정이 통합된 End to End 학습이 가능 머신러닝과 딥러닝 출처   메리츠종금증권 리서치센터 인공지능과 머신러닝  딥러닝이 혼용되어 그 경계가 모호하게 사용되고 있는 것이 사실이며 머신러닝은 인공지능의 한 축인 경험주의 Empiricism 에 기초 연결주의적 인공지능 Connectionist AI 에 포함되며 딥러닝은 머신러닝의 일종으로 심층 인공신경망을 사용하여 End to End 학습 구조를 가지는 학습 모델 인공지능  머신러닝  딥러닝 출처   http blog nvidia com 6  인공지능 딥러닝의 활용 사례 6 1픽셀 pixel  복원 딥러닝을 이용하여 모자이크 처리된 사진이나 8X8의 저해상도 사진을 32X32의 고해상도 이미지 로 복원한 사례 딥러닝을 통해 복원된 복원된 32X32 사진은 실제사진인 ground truth와 비교해도 거의 유사 저해상도 사진을 기반으로 몽타쥬 등을 작성하여 수사에 활용하는 수사기관에서 유용하게 사용될 것으로 기대 인공지능 픽셀 복원 출처   https arxiv org pdf 1702 00783 pdf xtor AL 32280680 6 2 객체 검출 Object Detection 딥러닝을 이용해 이미지 내에 존재하는 객체 Object 의 경계를 검출 Detection  하고 해당 객체가 어떠한 객체인지를 분류 classification 하는 기술 이미지  동영상 및 실시간 영상 등에서 객체를 검출하여 인식하기 위한 기술 자율주행차의 사물인식 등에 활용될 것으로 기대 인공지능 객체 검출 Object Detection 출처   https pjreddie com darknet yolo 6 3 번역 Translation 딥러닝을 이용해 국가간 언어를 번역해 주는 서비스를 제공이 가능하며 기존 번역서비스에 비해 한층 정확도가 높아졌으며  전후 문맥을 파악하여 자연스러운 번역 가능 최근에는 딥러닝 음성인식 기술과 융합하여 통역 서비스에 활용하기도 함 인공지능 번역 Translation 출처   Papago  https papago naver com 6 4 의료 Medical  진단 국내 기업인 루닛은 전 세계 100대 AI 기업 랭킹인  The AI 100 에 유일하게 국내 기업으로 선 정되어 헬스케어 관련 기업들 중 TOP 11  의료 진단 AI 관련 기업들 중 TOP7에 오른 기업 크기가 작거나 다른 장기에 가려져 있는 결절을 놓치는 비율 감소시키고  비영상의학 전문의의 폐 결절 판독 정확도를 영상의학 전문의 수준으로 향상 인공지능 의료 진단 출처   https lunit io company 6 5 아마존 고 Amazon Go 아마존은 컴퓨터비전  딥러닝  센서퓨전 등과 저스트 워크아웃 Just Walk Out  기술을 매장에 적용 컴퓨터비전인식  음성인식  기계학습  자율주행기술  실시간예측 기술 등을 융합하여 고객의 표정이나 손동작 까지도 인식하여 실시간 분석이 가능한 기술 인공지능 무인상점 아마존 고 출처   http m thegear net 15668 그 외에도 스마트 팩토리 smart factory  금융 사기방지시스템 FDS  지능형 정보보안 시스템 등 다양한 분야에서 인공지능 딥러닝이 활용되고 있음  평가문항 문제1 다음 중 인공신경망 Artificial Neural Network 을 구성하기 위한 계층 Layer 로 올바르지 않은 것은 보기  입력계층 input layer  은닉계층 hidden layer  증강계층 augment layer  출력계층 output layer 정답 해설 인공신경망 Artificial Neural Network  입력계층 input layer  은닉계층 hidden layer  및 출력계층 output layer 으로 구성 문제2 입력층과 출력층 사이에 다수의 은닉층이 있는 인공 신경망을 무엇이라 하는가 보기  Simple Neural Network  Multi neural Network  Single Neural Network  Deep Neural Network 정답 해설 심층신경망 deep neural network 은 입력층과 출력층 사이에 다수의 은닉층이 있는 인공 신경망 '"
      ]
     },
     "execution_count": 8,
     "metadata": {},
     "output_type": "execute_result"
    }
   ],
   "source": [
    "import re\n",
    "escape = re.compile('[^ a-zA-Z0-9\\u3131-\\u3163\\uac00-\\ud7a3]+')\n",
    "text = escape.sub(' ', text)\n",
    "text"
   ]
  },
  {
   "cell_type": "code",
   "execution_count": null,
   "metadata": {},
   "outputs": [],
   "source": [
    "+\n"
   ]
  },
  {
   "cell_type": "code",
   "execution_count": null,
   "metadata": {},
   "outputs": [],
   "source": []
  }
 ],
 "metadata": {
  "kernelspec": {
   "display_name": "tf_cpu",
   "language": "python",
   "name": "tf_cpu"
  },
  "language_info": {
   "codemirror_mode": {
    "name": "ipython",
    "version": 3
   },
   "file_extension": ".py",
   "mimetype": "text/x-python",
   "name": "python",
   "nbconvert_exporter": "python",
   "pygments_lexer": "ipython3",
   "version": "3.7.3"
  }
 },
 "nbformat": 4,
 "nbformat_minor": 4
}
