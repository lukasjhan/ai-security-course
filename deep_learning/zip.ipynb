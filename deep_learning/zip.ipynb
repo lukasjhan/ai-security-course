{
 "cells": [
  {
   "cell_type": "code",
   "execution_count": 1,
   "metadata": {},
   "outputs": [],
   "source": [
    "import os\n",
    "import zipfile\n",
    "from datetime import datetime"
   ]
  },
  {
   "cell_type": "code",
   "execution_count": 2,
   "metadata": {},
   "outputs": [],
   "source": [
    "today = datetime.now().strftime('%Y%m%d')\n",
    "src_path = r'../'\n",
    "dest_file = r'../py_notebook_bak_{}.zip'.format(today)"
   ]
  },
  {
   "cell_type": "code",
   "execution_count": 3,
   "metadata": {},
   "outputs": [],
   "source": [
    "ext = '.ipynb'\n",
    "expt_dirs = ['__pycache__', '.ipynb_checkpoints']"
   ]
  },
  {
   "cell_type": "code",
   "execution_count": 4,
   "metadata": {},
   "outputs": [],
   "source": [
    "def zip(src_path, dest_file):\n",
    "    with zipfile.ZipFile(dest_file, 'w') as zf:\n",
    "        for (path, dirs, files) in os.walk(src_path):\n",
    "            dirs[:] = [dir for dir in dirs if dir not in expt_dirs]\n",
    "            for file in files:                \n",
    "                if os.path.splitext(file)[1].lower() == ext:\n",
    "                    fullpath = os.path.join(path, file)\n",
    "                    relpath = os.path.relpath(fullpath, src_path)\n",
    "                    zf.write(fullpath, relpath, zipfile.ZIP_DEFLATED)"
   ]
  },
  {
   "cell_type": "code",
   "execution_count": 5,
   "metadata": {},
   "outputs": [],
   "source": [
    "zip(src_path, dest_file)"
   ]
  },
  {
   "cell_type": "code",
   "execution_count": null,
   "metadata": {},
   "outputs": [],
   "source": []
  }
 ],
 "metadata": {
  "kernelspec": {
   "display_name": "Python 3",
   "language": "python",
   "name": "python3"
  },
  "language_info": {
   "codemirror_mode": {
    "name": "ipython",
    "version": 3
   },
   "file_extension": ".py",
   "mimetype": "text/x-python",
   "name": "python",
   "nbconvert_exporter": "python",
   "pygments_lexer": "ipython3",
   "version": "3.7.3"
  }
 },
 "nbformat": 4,
 "nbformat_minor": 4
}
