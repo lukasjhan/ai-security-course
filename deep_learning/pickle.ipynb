{
 "cells": [
  {
   "cell_type": "markdown",
   "metadata": {},
   "source": [
    "#  pickle"
   ]
  },
  {
   "cell_type": "code",
   "execution_count": 5,
   "metadata": {},
   "outputs": [],
   "source": [
    "import pandas as pd\n",
    "import os\n",
    "import pickle"
   ]
  },
  {
   "cell_type": "code",
   "execution_count": 6,
   "metadata": {},
   "outputs": [],
   "source": [
    "경로 = './data'"
   ]
  },
  {
   "cell_type": "code",
   "execution_count": 7,
   "metadata": {},
   "outputs": [
    {
     "data": {
      "text/html": [
       "<div>\n",
       "<style scoped>\n",
       "    .dataframe tbody tr th:only-of-type {\n",
       "        vertical-align: middle;\n",
       "    }\n",
       "\n",
       "    .dataframe tbody tr th {\n",
       "        vertical-align: top;\n",
       "    }\n",
       "\n",
       "    .dataframe thead th {\n",
       "        text-align: right;\n",
       "    }\n",
       "</style>\n",
       "<table border=\"1\" class=\"dataframe\">\n",
       "  <thead>\n",
       "    <tr style=\"text-align: right;\">\n",
       "      <th></th>\n",
       "      <th>고객번호</th>\n",
       "      <th>성명</th>\n",
       "      <th>영문명</th>\n",
       "      <th>전화번호</th>\n",
       "      <th>메일주소</th>\n",
       "      <th>주소</th>\n",
       "    </tr>\n",
       "  </thead>\n",
       "  <tbody>\n",
       "    <tr>\n",
       "      <th>0</th>\n",
       "      <td>C001</td>\n",
       "      <td>제우스</td>\n",
       "      <td>Zeus</td>\n",
       "      <td>010-1111-2222</td>\n",
       "      <td>zeus@abc.com</td>\n",
       "      <td>서울시 양천구 목동 12-3</td>\n",
       "    </tr>\n",
       "    <tr>\n",
       "      <th>1</th>\n",
       "      <td>C002</td>\n",
       "      <td>헤라</td>\n",
       "      <td>Hera</td>\n",
       "      <td>010-2222-3333</td>\n",
       "      <td>hera@bcd.com</td>\n",
       "      <td>서울시 강남구 역삼동 13-4</td>\n",
       "    </tr>\n",
       "    <tr>\n",
       "      <th>2</th>\n",
       "      <td>C003</td>\n",
       "      <td>데메테르</td>\n",
       "      <td>Demeter</td>\n",
       "      <td>010-3333-4444</td>\n",
       "      <td>demeter@def.cc.com</td>\n",
       "      <td>서울시 송파구 잠실동 15-5</td>\n",
       "    </tr>\n",
       "  </tbody>\n",
       "</table>\n",
       "</div>"
      ],
      "text/plain": [
       "   고객번호    성명      영문명           전화번호                메일주소                주소\n",
       "0  C001   제우스     Zeus  010-1111-2222        zeus@abc.com   서울시 양천구 목동 12-3\n",
       "1  C002    헤라     Hera  010-2222-3333        hera@bcd.com  서울시 강남구 역삼동 13-4\n",
       "2  C003  데메테르  Demeter  010-3333-4444  demeter@def.cc.com  서울시 송파구 잠실동 15-5"
      ]
     },
     "execution_count": 7,
     "metadata": {},
     "output_type": "execute_result"
    }
   ],
   "source": [
    "주소록 = pd.read_excel(os.path.join(경로, '주소록.xlsx'))\n",
    "주소록[:3]"
   ]
  },
  {
   "cell_type": "code",
   "execution_count": 8,
   "metadata": {},
   "outputs": [],
   "source": [
    "with open(os.path.join(경로, '주소록.pkl'), 'wb') as f:\n",
    "    pickle.dump(주소록, f)"
   ]
  },
  {
   "cell_type": "code",
   "execution_count": 9,
   "metadata": {},
   "outputs": [],
   "source": [
    "with open(os.path.join(경로, '주소록.pkl'), 'rb') as f:\n",
    "    주소록_PKL = pickle.load(f)"
   ]
  },
  {
   "cell_type": "code",
   "execution_count": 10,
   "metadata": {},
   "outputs": [
    {
     "data": {
      "text/html": [
       "<div>\n",
       "<style scoped>\n",
       "    .dataframe tbody tr th:only-of-type {\n",
       "        vertical-align: middle;\n",
       "    }\n",
       "\n",
       "    .dataframe tbody tr th {\n",
       "        vertical-align: top;\n",
       "    }\n",
       "\n",
       "    .dataframe thead th {\n",
       "        text-align: right;\n",
       "    }\n",
       "</style>\n",
       "<table border=\"1\" class=\"dataframe\">\n",
       "  <thead>\n",
       "    <tr style=\"text-align: right;\">\n",
       "      <th></th>\n",
       "      <th>고객번호</th>\n",
       "      <th>성명</th>\n",
       "      <th>영문명</th>\n",
       "      <th>전화번호</th>\n",
       "      <th>메일주소</th>\n",
       "      <th>주소</th>\n",
       "    </tr>\n",
       "  </thead>\n",
       "  <tbody>\n",
       "    <tr>\n",
       "      <th>0</th>\n",
       "      <td>C001</td>\n",
       "      <td>제우스</td>\n",
       "      <td>Zeus</td>\n",
       "      <td>010-1111-2222</td>\n",
       "      <td>zeus@abc.com</td>\n",
       "      <td>서울시 양천구 목동 12-3</td>\n",
       "    </tr>\n",
       "    <tr>\n",
       "      <th>1</th>\n",
       "      <td>C002</td>\n",
       "      <td>헤라</td>\n",
       "      <td>Hera</td>\n",
       "      <td>010-2222-3333</td>\n",
       "      <td>hera@bcd.com</td>\n",
       "      <td>서울시 강남구 역삼동 13-4</td>\n",
       "    </tr>\n",
       "    <tr>\n",
       "      <th>2</th>\n",
       "      <td>C003</td>\n",
       "      <td>데메테르</td>\n",
       "      <td>Demeter</td>\n",
       "      <td>010-3333-4444</td>\n",
       "      <td>demeter@def.cc.com</td>\n",
       "      <td>서울시 송파구 잠실동 15-5</td>\n",
       "    </tr>\n",
       "    <tr>\n",
       "      <th>3</th>\n",
       "      <td>C004</td>\n",
       "      <td>디오니소스</td>\n",
       "      <td>Dionysos</td>\n",
       "      <td>010-4444-5555</td>\n",
       "      <td>dionysos@efg.com</td>\n",
       "      <td>서울시 성북구 성북동 22-1</td>\n",
       "    </tr>\n",
       "    <tr>\n",
       "      <th>4</th>\n",
       "      <td>C005</td>\n",
       "      <td>아레스</td>\n",
       "      <td>Ares</td>\n",
       "      <td>010-5555-6666</td>\n",
       "      <td>ares@fgh.com</td>\n",
       "      <td>서울시 강동구 상일동 10-3</td>\n",
       "    </tr>\n",
       "  </tbody>\n",
       "</table>\n",
       "</div>"
      ],
      "text/plain": [
       "   고객번호     성명       영문명           전화번호                메일주소                주소\n",
       "0  C001    제우스      Zeus  010-1111-2222        zeus@abc.com   서울시 양천구 목동 12-3\n",
       "1  C002     헤라      Hera  010-2222-3333        hera@bcd.com  서울시 강남구 역삼동 13-4\n",
       "2  C003   데메테르   Demeter  010-3333-4444  demeter@def.cc.com  서울시 송파구 잠실동 15-5\n",
       "3  C004  디오니소스  Dionysos  010-4444-5555    dionysos@efg.com  서울시 성북구 성북동 22-1\n",
       "4  C005    아레스      Ares  010-5555-6666        ares@fgh.com  서울시 강동구 상일동 10-3"
      ]
     },
     "execution_count": 10,
     "metadata": {},
     "output_type": "execute_result"
    }
   ],
   "source": [
    "주소록_PKL[:5]"
   ]
  },
  {
   "cell_type": "code",
   "execution_count": 11,
   "metadata": {},
   "outputs": [],
   "source": [
    "pd.to_pickle(주소록, os.path.join(경로, '주소록_pd.pkl'))"
   ]
  },
  {
   "cell_type": "code",
   "execution_count": 12,
   "metadata": {},
   "outputs": [],
   "source": [
    "주소록_PD_PKL = pd.read_pickle(os.path.join(경로, '주소록_pd.pkl'))"
   ]
  },
  {
   "cell_type": "code",
   "execution_count": 13,
   "metadata": {},
   "outputs": [
    {
     "data": {
      "text/html": [
       "<div>\n",
       "<style scoped>\n",
       "    .dataframe tbody tr th:only-of-type {\n",
       "        vertical-align: middle;\n",
       "    }\n",
       "\n",
       "    .dataframe tbody tr th {\n",
       "        vertical-align: top;\n",
       "    }\n",
       "\n",
       "    .dataframe thead th {\n",
       "        text-align: right;\n",
       "    }\n",
       "</style>\n",
       "<table border=\"1\" class=\"dataframe\">\n",
       "  <thead>\n",
       "    <tr style=\"text-align: right;\">\n",
       "      <th></th>\n",
       "      <th>고객번호</th>\n",
       "      <th>성명</th>\n",
       "      <th>영문명</th>\n",
       "      <th>전화번호</th>\n",
       "      <th>메일주소</th>\n",
       "      <th>주소</th>\n",
       "    </tr>\n",
       "  </thead>\n",
       "  <tbody>\n",
       "    <tr>\n",
       "      <th>0</th>\n",
       "      <td>C001</td>\n",
       "      <td>제우스</td>\n",
       "      <td>Zeus</td>\n",
       "      <td>010-1111-2222</td>\n",
       "      <td>zeus@abc.com</td>\n",
       "      <td>서울시 양천구 목동 12-3</td>\n",
       "    </tr>\n",
       "    <tr>\n",
       "      <th>1</th>\n",
       "      <td>C002</td>\n",
       "      <td>헤라</td>\n",
       "      <td>Hera</td>\n",
       "      <td>010-2222-3333</td>\n",
       "      <td>hera@bcd.com</td>\n",
       "      <td>서울시 강남구 역삼동 13-4</td>\n",
       "    </tr>\n",
       "    <tr>\n",
       "      <th>2</th>\n",
       "      <td>C003</td>\n",
       "      <td>데메테르</td>\n",
       "      <td>Demeter</td>\n",
       "      <td>010-3333-4444</td>\n",
       "      <td>demeter@def.cc.com</td>\n",
       "      <td>서울시 송파구 잠실동 15-5</td>\n",
       "    </tr>\n",
       "    <tr>\n",
       "      <th>3</th>\n",
       "      <td>C004</td>\n",
       "      <td>디오니소스</td>\n",
       "      <td>Dionysos</td>\n",
       "      <td>010-4444-5555</td>\n",
       "      <td>dionysos@efg.com</td>\n",
       "      <td>서울시 성북구 성북동 22-1</td>\n",
       "    </tr>\n",
       "    <tr>\n",
       "      <th>4</th>\n",
       "      <td>C005</td>\n",
       "      <td>아레스</td>\n",
       "      <td>Ares</td>\n",
       "      <td>010-5555-6666</td>\n",
       "      <td>ares@fgh.com</td>\n",
       "      <td>서울시 강동구 상일동 10-3</td>\n",
       "    </tr>\n",
       "  </tbody>\n",
       "</table>\n",
       "</div>"
      ],
      "text/plain": [
       "   고객번호     성명       영문명           전화번호                메일주소                주소\n",
       "0  C001    제우스      Zeus  010-1111-2222        zeus@abc.com   서울시 양천구 목동 12-3\n",
       "1  C002     헤라      Hera  010-2222-3333        hera@bcd.com  서울시 강남구 역삼동 13-4\n",
       "2  C003   데메테르   Demeter  010-3333-4444  demeter@def.cc.com  서울시 송파구 잠실동 15-5\n",
       "3  C004  디오니소스  Dionysos  010-4444-5555    dionysos@efg.com  서울시 성북구 성북동 22-1\n",
       "4  C005    아레스      Ares  010-5555-6666        ares@fgh.com  서울시 강동구 상일동 10-3"
      ]
     },
     "execution_count": 13,
     "metadata": {},
     "output_type": "execute_result"
    }
   ],
   "source": [
    "주소록_PD_PKL[:5]"
   ]
  },
  {
   "cell_type": "code",
   "execution_count": null,
   "metadata": {},
   "outputs": [],
   "source": []
  }
 ],
 "metadata": {
  "kernelspec": {
   "display_name": "Python 3",
   "language": "python",
   "name": "python3"
  },
  "language_info": {
   "codemirror_mode": {
    "name": "ipython",
    "version": 3
   },
   "file_extension": ".py",
   "mimetype": "text/x-python",
   "name": "python",
   "nbconvert_exporter": "python",
   "pygments_lexer": "ipython3",
   "version": "3.7.3"
  }
 },
 "nbformat": 4,
 "nbformat_minor": 4
}
