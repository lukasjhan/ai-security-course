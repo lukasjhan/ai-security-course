{
 "cells": [
  {
   "cell_type": "code",
   "execution_count": 4,
   "metadata": {},
   "outputs": [],
   "source": [
    "import os\n",
    "import json"
   ]
  },
  {
   "cell_type": "code",
   "execution_count": 5,
   "metadata": {},
   "outputs": [],
   "source": [
    "def file_processing(full_filename):   \n",
    "    with open(os.path.join(pwd, result_file), 'a', encoding='utf-8') as merge_file, open(full_filename, encoding='utf-8') as ipynb_file:\n",
    "        merge_file.write(\"\\n=====\" + full_filename  + \"==============================================================\\n\\n\")\n",
    "        try:\n",
    "            ipynb_json = json.load(ipynb_file)\n",
    "            cells = ipynb_json[\"cells\"]\n",
    "\n",
    "            for cell in cells:\n",
    "                lines = cell[\"source\"]\n",
    "                for line in lines:\n",
    "                    merge_file.write(line)\n",
    "                merge_file.write(\"\\n\")\n",
    "        except:\n",
    "            print(full_filename)\n",
    "            pass"
   ]
  },
  {
   "cell_type": "code",
   "execution_count": 6,
   "metadata": {},
   "outputs": [],
   "source": [
    "pwd = r'../..'\n",
    "result_file = \"ipynb.txt\"\n",
    "ext = '.ipynb'\n",
    "expt_dirs = ['__pycache__', '.ipynb_checkpoints']\n",
    "for path, dirs, files in os.walk(pwd):\n",
    "    dirs[:] = [dir for dir in dirs if dir not in expt_dirs]\n",
    "    for file in files:\n",
    "        if (path.find('.ipynb_checkpoints') == -1 ) & (os.path.splitext(file)[1].lower() == ext):\n",
    "            file_processing(os.path.join(path, file))"
   ]
  }
 ],
 "metadata": {
  "kernelspec": {
   "display_name": "Python 3",
   "language": "python",
   "name": "python3"
  },
  "language_info": {
   "codemirror_mode": {
    "name": "ipython",
    "version": 3
   },
   "file_extension": ".py",
   "mimetype": "text/x-python",
   "name": "python",
   "nbconvert_exporter": "python",
   "pygments_lexer": "ipython3",
   "version": "3.7.3"
  }
 },
 "nbformat": 4,
 "nbformat_minor": 4
}
