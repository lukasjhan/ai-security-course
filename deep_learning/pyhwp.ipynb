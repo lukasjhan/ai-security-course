{
 "cells": [
  {
   "cell_type": "code",
   "execution_count": 1,
   "metadata": {
    "scrolled": true
   },
   "outputs": [
    {
     "name": "stdout",
     "output_type": "stream",
     "text": [
      "Collecting pyhwp\n",
      "  Downloading https://files.pythonhosted.org/packages/ec/38/2a95e3772d9168065f3391d62012f6b34e122d8eafd2ebcccf675a3ef23d/pyhwp-0.1b15.tar.gz (218kB)\n",
      "Requirement already satisfied: cryptography in c:\\users\\bjkim\\anaconda3\\lib\\site-packages (from pyhwp) (2.7)\n",
      "Requirement already satisfied: lxml in c:\\users\\bjkim\\anaconda3\\lib\\site-packages (from pyhwp) (4.3.4)\n",
      "Requirement already satisfied: olefile>=0.43 in c:\\users\\bjkim\\anaconda3\\lib\\site-packages (from pyhwp) (0.46)\n",
      "Requirement already satisfied: six>=1.4.1 in c:\\users\\bjkim\\anaconda3\\lib\\site-packages (from cryptography->pyhwp) (1.12.0)\n",
      "Requirement already satisfied: asn1crypto>=0.21.0 in c:\\users\\bjkim\\anaconda3\\lib\\site-packages (from cryptography->pyhwp) (0.24.0)\n",
      "Requirement already satisfied: cffi!=1.11.3,>=1.8 in c:\\users\\bjkim\\anaconda3\\lib\\site-packages (from cryptography->pyhwp) (1.12.3)\n",
      "Requirement already satisfied: pycparser in c:\\users\\bjkim\\anaconda3\\lib\\site-packages (from cffi!=1.11.3,>=1.8->cryptography->pyhwp) (2.19)\n",
      "Building wheels for collected packages: pyhwp\n",
      "  Building wheel for pyhwp (setup.py): started\n",
      "  Building wheel for pyhwp (setup.py): finished with status 'done'\n",
      "  Stored in directory: C:\\Users\\bjkim\\AppData\\Local\\pip\\Cache\\wheels\\56\\d7\\7f\\050d0b98805dada5b9f8ea498352ff5dc192f2be92422b8ccd\n",
      "Successfully built pyhwp\n",
      "Installing collected packages: pyhwp\n",
      "Successfully installed pyhwp-0.1b15\n"
     ]
    }
   ],
   "source": [
    "!pip install pyhwp"
   ]
  },
  {
   "cell_type": "code",
   "execution_count": 5,
   "metadata": {},
   "outputs": [],
   "source": [
    "!hwp5html  \"test.hwp\""
   ]
  },
  {
   "cell_type": "code",
   "execution_count": 6,
   "metadata": {},
   "outputs": [],
   "source": [
    "from html.parser import HTMLParser"
   ]
  },
  {
   "cell_type": "code",
   "execution_count": 7,
   "metadata": {},
   "outputs": [],
   "source": [
    "class MyHTMLParser(HTMLParser):\n",
    "    contents = []\n",
    "    isBody = False\n",
    "    def handle_starttag(self, tag, attrs):        \n",
    "        if 'body' in tag:\n",
    "            self.isBody = True\n",
    "    \n",
    "    def handle_data(self, data):\n",
    "        if self.isBody:\n",
    "            self.contents.append(data)\n",
    "\n",
    "parser = MyHTMLParser()"
   ]
  },
  {
   "cell_type": "code",
   "execution_count": 1,
   "metadata": {},
   "outputs": [
    {
     "name": "stdout",
     "output_type": "stream",
     "text": [
      "['<?xml version=\"1.0\" encoding=\"utf-8\"?>\\n', '<!DOCTYPE html PUBLIC \"-//W3C//DTD XHTML 1.0 Transitional//EN\" \"http://www.w3.org/TR/xhtml1/DTD/xhtml1-transitional.dtd\"><html xmlns=\"http://www.w3.org/1999/xhtml\"><head><meta http-equiv=\"content-type\" content=\"text/html; charset=utf-8\" /><title></title><link rel=\"stylesheet\" href=\"styles.css\" type=\"text/css\" /><style type=\"text/css\">\\n', '.Section-0 {\\n', '  width: 210mm;\\n', '}\\n', '.Section-0 .HeaderPageFooter {\\n', '  position: relative;\\n', '  margin-top: 20mm;\\n', '  margin-right: 30mm;\\n', '  margin-bottom: 15mm;\\n', '  margin-left: 30mm;\\n', '}\\n', '.Section-0 .Page {\\n', '  padding-top: 10mm;\\n', '  padding-bottom: 15mm;\\n', '}\\n', '</style></head><body><div class=\"Section Section-0 Paper\"><div class=\"HeaderPageFooter\"><div class=\"Page\"><p class=\"Normal parashape-19\"><span class=\"lang-other charshape-7\">▪</span><span class=\"lang-ko charshape-7\">머신러닝</span>&#13;</p><p class=\"Normal parashape-19\"></p><p class=\"Normal parashape-19\"><span class=\"TableControl\" style=\"  display: inline-block;&#10;\"><table class=\"borderfill-3\" cellspacing=\"0\" style=\"  width: 149.06mm;&#10;  border-collapse: collapse;&#10;\"><caption class=\"TableCaption\" style=\"  caption-side: top;&#10;  margin-bottom: 3mm;&#10;  width: 30mm;&#10;\"><p class=\"Normal\"><span class=\"lang-ko\">표 </span><span class=\"autonumbering autonumbering-table\">1</span><span class=\"lang-ko\">. 머신러닝 커리큘럼</span>&#13;</p></caption><tr><td class=\"borderfill-6\" style=\"  width: 10.04mm;&#10;  height: 9.51mm;&#10;  padding: 0.5mm 1.8mm 0.5mm 1.8mm;&#10;\" rowspan=\"1\" colspan=\"1\"><p class=\"Normal parashape-21\"><span class=\"lang-en\">no</span>&#13;</p></td><td class=\"borderfill-7\" style=\"  width: 23.02mm;&#10;  height: 9.51mm;&#10;  padding: 0.5mm 1.8mm 0.5mm 1.8mm;&#10;\" rowspan=\"1\" colspan=\"1\"><p class=\"Normal parashape-21\"><span class=\"lang-ko\">주요내용</span>&#13;</p></td><td class=\"borderfill-7\" style=\"  width: 84.92mm;&#10;  height: 9.51mm;&#10;  padding: 0.5mm 1.8mm 0.5mm 1.8mm;&#10;\" rowspan=\"1\" colspan=\"1\"><p class=\"Normal parashape-21\"><span class=\"lang-ko\">세부내용</span>&#13;</p></td><td class=\"borderfill-7\" style=\"  width: 13.04mm;&#10;  height: 9.51mm;&#10;  padding: 0.5mm 1.8mm 0.5mm 1.8mm;&#10;\" rowspan=\"1\" colspan=\"1\"><p class=\"Normal parashape-21\"><span class=\"lang-ko\">소요</span><span class=\"lang-ko\">시간</span>&#13;</p></td><td class=\"borderfill-8\" style=\"  width: 18.03mm;&#10;  height: 9.51mm;&#10;  padding: 0.5mm 1.8mm 0.5mm 1.8mm;&#10;\" rowspan=\"1\" colspan=\"1\"><p class=\"Normal parashape-21\"><span class=\"lang-ko\">누적</span>&#13;</p><p class=\"Normal parashape-21\"><span class=\"lang-ko\">소요시간</span>&#13;</p></td></tr><tr><td class=\"borderfill-4\" style=\"  width: 10.04mm;&#10;  height: 48.56mm;&#10;  padding: 0.5mm 1.8mm 0.5mm 1.8mm;&#10;\" rowspan=\"2\" colspan=\"1\"><p class=\"Normal parashape-21\"><span class=\"lang-ko\">1</span>&#13;</p></td><td class=\"borderfill-3\" style=\"  width: 23.02mm;&#10;  height: 48.56mm;&#10;  padding: 0.5mm 1.8mm 0.5mm 1.8mm;&#10;\" rowspan=\"2\" colspan=\"1\"><p class=\"Normal parashape-21\"><span class=\"lang-ko\">머신러닝의 </span><span class=\"lang-ko\">개념과 종류</span>&#13;</p></td><td class=\"borderfill-3\" style=\"  width: 84.92mm;&#10;  height: 5.52mm;&#10;  padding: 0.5mm 1.8mm 0.5mm 1.8mm;&#10;\" rowspan=\"1\" colspan=\"1\"><p class=\"Normal\"><span class=\"lang-ko\">머신러닝의 개요와 기초지식</span>&#13;</p><p class=\"Normal parashape-20 Bullet-1\"><span class=\"lang-ko\">왜 머신러닝인가?</span>&#13;</p><p class=\"Normal parashape-20 Bullet-1\"><span class=\"lang-en\">scikit-learn </span><span class=\"lang-ko\">라이브러리 소개</span>&#13;</p><p class=\"Normal parashape-20 Bullet-1\"><span class=\"lang-ko\">문제와 데이터 이해하기</span>&#13;</p></td><td class=\"borderfill-3\" style=\"  width: 13.04mm;&#10;  height: 21.46mm;&#10;  padding: 0.5mm 1.8mm 0.5mm 1.8mm;&#10;\" rowspan=\"1\" colspan=\"1\"><p class=\"Normal parashape-21\"><span class=\"lang-ko\">1</span>&#13;</p></td><td class=\"borderfill-5\" style=\"  width: 18.03mm;&#10;  height: 21.46mm;&#10;  padding: 0.5mm 1.8mm 0.5mm 1.8mm;&#10;\" rowspan=\"1\" colspan=\"1\"><p class=\"Normal parashape-21\"><span class=\"lang-ko\">1</span>&#13;</p></td></tr><tr><td class=\"borderfill-3\" style=\"  width: 84.92mm;&#10;  height: 13.57mm;&#10;  padding: 0.5mm 1.8mm 0.5mm 1.8mm;&#10;\" rowspan=\"1\" colspan=\"1\"><p class=\"Normal\"><span class=\"lang-ko\">머신러닝의 종류</span>&#13;</p><p class=\"Normal\"><span class=\"lang-ko\">- 지도학습과 비지도학습</span>&#13;</p><p class=\"Normal parashape-20 Bullet-1\"><span class=\"lang-ko\">머신러닝의 활용사례</span>&#13;</p><p class=\"Normal parashape-20 Bullet-1\"><span class=\"lang-ko\">전반적인 머신러닝 알고리즘 실습절차를 익혀봅</span><span class=\"lang-ko\">니다</span>&#13;</p></td><td class=\"borderfill-3\" style=\"  width: 13.04mm;&#10;  height: 27.1mm;&#10;  padding: 0.5mm 1.8mm 0.5mm 1.8mm;&#10;\" rowspan=\"1\" colspan=\"1\"><p class=\"Normal parashape-21\"><span class=\"lang-ko\">1</span>&#13;</p></td><td class=\"borderfill-5\" style=\"  width: 18.03mm;&#10;  height: 27.1mm;&#10;  padding: 0.5mm 1.8mm 0.5mm 1.8mm;&#10;\" rowspan=\"1\" colspan=\"1\"><p class=\"Normal parashape-21\"><span class=\"lang-ko\">2</span>&#13;</p></td></tr><tr><td class=\"borderfill-4\" style=\"  width: 10.04mm;&#10;  height: 100.94mm;&#10;  padding: 0.5mm 1.8mm 0.5mm 1.8mm;&#10;\" rowspan=\"5\" colspan=\"1\"><p class=\"Normal parashape-21\"><span class=\"lang-ko\">2</span>&#13;</p></td><td class=\"borderfill-3\" style=\"  width: 23.02mm;&#10;  height: 100.94mm;&#10;  padding: 0.5mm 1.8mm 0.5mm 1.8mm;&#10;\" rowspan=\"5\" colspan=\"1\"><p class=\"Normal parashape-21\"><span class=\"lang-en\">Supervised</span>&#13;</p><p class=\"Normal parashape-21\"><span class=\"lang-en\">Learning</span>&#13;</p></td><td class=\"borderfill-3\" style=\"  width: 84.92mm;&#10;  height: 9.050000000000001mm;&#10;  padding: 0.5mm 1.8mm 0.5mm 1.8mm;&#10;\" rowspan=\"1\" colspan=\"1\"><p class=\"Normal\"><span class=\"lang-ko\">- 분류와 회귀</span>&#13;</p><p class=\"Normal\"><span class=\"lang-ko\">- 일반화, 과대적합, 과소적합</span>&#13;</p></td><td class=\"borderfill-3\" style=\"  width: 13.04mm;&#10;  height: 10.17mm;&#10;  padding: 0.5mm 1.8mm 0.5mm 1.8mm;&#10;\" rowspan=\"1\" colspan=\"1\"><p class=\"Normal parashape-21\"><span class=\"lang-ko\">1</span>&#13;</p></td><td class=\"borderfill-5\" style=\"  width: 18.03mm;&#10;  height: 10.17mm;&#10;  padding: 0.5mm 1.8mm 0.5mm 1.8mm;&#10;\" rowspan=\"1\" colspan=\"1\"><p class=\"Normal parashape-21\"><span class=\"lang-ko\">3</span>&#13;</p></td></tr><tr><td class=\"borderfill-3\" style=\"  width: 84.92mm;&#10;  height: -7.89mm;&#10;  padding: 0.5mm 1.8mm 0.5mm 1.8mm;&#10;\" rowspan=\"1\" colspan=\"1\"><p class=\"Normal\"><span class=\"lang-en\">naive Bayes classifier</span>&#13;</p><p class=\"Normal\"><span class=\"lang-en\">- naive Bayes classifier </span><span class=\"lang-ko\">정의</span>&#13;</p><p class=\"Normal\"><span class=\"lang-en\">- naive Bayes </span><span class=\"lang-ko\">종류 및 이해</span>&#13;</p><p class=\"Normal\"><span class=\"lang-en\">- naive Bayes </span><span class=\"lang-ko\">알고리즘 실습</span>&#13;</p></td><td class=\"borderfill-3\" style=\"  width: 13.04mm;&#10;  height: 21.46mm;&#10;  padding: 0.5mm 1.8mm 0.5mm 1.8mm;&#10;\" rowspan=\"1\" colspan=\"1\"><p class=\"Normal parashape-21\"><span class=\"lang-ko\">3</span>&#13;</p></td><td class=\"borderfill-5\" style=\"  width: 18.03mm;&#10;  height: 21.46mm;&#10;  padding: 0.5mm 1.8mm 0.5mm 1.8mm;&#10;\" rowspan=\"1\" colspan=\"1\"><p class=\"Normal parashape-21\"><span class=\"lang-ko\">6</span>&#13;</p></td></tr><tr><td class=\"borderfill-3\" style=\"  width: 84.92mm;&#10;  height: 4.52mm;&#10;  padding: 0.5mm 1.8mm 0.5mm 1.8mm;&#10;\" rowspan=\"1\" colspan=\"1\"><p class=\"Normal\"><span class=\"lang-en\">K-Nearest Neighbor(KNN) </span><span class=\"lang-ko\">배경</span>&#13;</p><p class=\"Normal\"><span class=\"lang-en\">- KNN </span><span class=\"lang-ko\">모델 정의 및 이해</span>&#13;</p><p class=\"Normal\"><span class=\"lang-en\">- KNN </span><span class=\"lang-ko\">알고리즘 실습</span>&#13;</p><p class=\"Normal\"><span class=\"lang-en\">- Cross-validation</span><span class=\"lang-ko\">을 활용한 최적의 </span><span class=\"lang-en\">k</span><span class=\"lang-ko\">찾기</span>&#13;</p></td><td class=\"borderfill-3\" style=\"  width: 13.04mm;&#10;  height: 21.46mm;&#10;  padding: 0.5mm 1.8mm 0.5mm 1.8mm;&#10;\" rowspan=\"1\" colspan=\"1\"><p class=\"Normal parashape-21\"><span class=\"lang-ko\">4</span>&#13;</p></td><td class=\"borderfill-5\" style=\"  width: 18.03mm;&#10;  height: 21.46mm;&#10;  padding: 0.5mm 1.8mm 0.5mm 1.8mm;&#10;\" rowspan=\"1\" colspan=\"1\"><p class=\"Normal parashape-21\"><span class=\"lang-ko\">10</span>&#13;</p></td></tr><tr><td class=\"borderfill-3\" style=\"  width: 84.92mm;&#10;  height: 4.52mm;&#10;  padding: 0.5mm 1.8mm 0.5mm 1.8mm;&#10;\" rowspan=\"1\" colspan=\"1\"><p class=\"Normal\"><span class=\"lang-en\">decision tree</span>&#13;</p><p class=\"Normal\"><span class=\"lang-en\">- Training/Test data set </span>&#13;</p><p class=\"Normal\"><span class=\"lang-en\">- Classification tree</span><span class=\"lang-ko\">의 정의 및 이해</span>&#13;</p><p class=\"Normal\"><span class=\"lang-en\">- decision tree </span><span class=\"lang-ko\">알고리즘 실습</span>&#13;</p><p class=\"Normal parashape-20 Bullet-1\"><span class=\"lang-en\">Confusion matrix </span><span class=\"lang-ko\">및 평가지표 설명</span>&#13;</p></td><td class=\"borderfill-3\" style=\"  width: 13.04mm;&#10;  height: 27.1mm;&#10;  padding: 0.5mm 1.8mm 0.5mm 1.8mm;&#10;\" rowspan=\"1\" colspan=\"1\"><p class=\"Normal parashape-21\"><span class=\"lang-ko\">6</span>&#13;</p></td><td class=\"borderfill-5\" style=\"  width: 18.03mm;&#10;  height: 27.1mm;&#10;  padding: 0.5mm 1.8mm 0.5mm 1.8mm;&#10;\" rowspan=\"1\" colspan=\"1\"><p class=\"Normal parashape-21\"><span class=\"lang-ko\">16</span>&#13;</p></td></tr><tr><td class=\"borderfill-3\" style=\"  width: 84.92mm;&#10;  height: 21.46mm;&#10;  padding: 0.5mm 1.8mm 0.5mm 1.8mm;&#10;\" rowspan=\"1\" colspan=\"1\"><p class=\"Normal\"><span class=\"lang-en\">Support Vector Machine(SVM)</span>&#13;</p><p class=\"Normal parashape-20 Bullet-1\"><span class=\"lang-en\">SVM</span><span class=\"lang-ko\">의 배경 및 수학적 개념 이해(</span><span class=\"lang-en\">Lagrange </span><span class=\"lang-en\">multiplier)</span>&#13;</p><p class=\"Normal\"><span class=\"lang-en\">- SVM </span><span class=\"lang-ko\">알고리즘 실습</span>&#13;</p><p class=\"Normal parashape-20 Bullet-1\"><span class=\"lang-ko\">교차검증 그리드 서치</span>&#13;</p></td><td class=\"borderfill-3\" style=\"  width: 13.04mm;&#10;  height: 20.76mm;&#10;  padding: 0.5mm 1.8mm 0.5mm 1.8mm;&#10;\" rowspan=\"1\" colspan=\"1\"><p class=\"Normal parashape-21\"><span class=\"lang-ko\">4</span>&#13;</p></td><td class=\"borderfill-5\" style=\"  width: 18.03mm;&#10;  height: 20.76mm;&#10;  padding: 0.5mm 1.8mm 0.5mm 1.8mm;&#10;\" rowspan=\"1\" colspan=\"1\"><p class=\"Normal parashape-21\"><span class=\"lang-ko\">20</span>&#13;</p></td></tr><tr><td class=\"borderfill-9\" style=\"  width: 10.04mm;&#10;  height: 43.79mm;&#10;  padding: 0.5mm 1.8mm 0.5mm 1.8mm;&#10;\" rowspan=\"3\" colspan=\"1\"><p class=\"Normal parashape-21\"><span class=\"lang-ko\">3</span>&#13;</p></td><td class=\"borderfill-10\" style=\"  width: 23.02mm;&#10;  height: 43.79mm;&#10;  padding: 0.5mm 1.8mm 0.5mm 1.8mm;&#10;\" rowspan=\"3\" colspan=\"1\"><p class=\"Normal parashape-21\"><span class=\"lang-en\">Ensemble</span>&#13;</p><p class=\"Normal parashape-21\"><span class=\"lang-en\">Learning</span>&#13;</p></td><td class=\"borderfill-3\" style=\"  width: 84.92mm;&#10;  height: 6.52mm;&#10;  padding: 0.5mm 1.8mm 0.5mm 1.8mm;&#10;\" rowspan=\"1\" colspan=\"1\"><p class=\"Normal\"><span class=\"lang-en\">Ensemble</span><span class=\"lang-ko\">의 개념 및 종류</span>&#13;</p></td><td class=\"borderfill-3\" style=\"  width: 13.04mm;&#10;  height: 6.52mm;&#10;  padding: 0.5mm 1.8mm 0.5mm 1.8mm;&#10;\" rowspan=\"1\" colspan=\"1\"><p class=\"Normal parashape-21\"><span class=\"lang-ko\">1</span>&#13;</p></td><td class=\"borderfill-5\" style=\"  width: 18.03mm;&#10;  height: 6.52mm;&#10;  padding: 0.5mm 1.8mm 0.5mm 1.8mm;&#10;\" rowspan=\"1\" colspan=\"1\"><p class=\"Normal parashape-21\"><span class=\"lang-ko\">21</span>&#13;</p></td></tr><tr><td class=\"borderfill-3\" style=\"  width: 84.92mm;&#10;  height: 4.52mm;&#10;  padding: 0.5mm 1.8mm 0.5mm 1.8mm;&#10;\" rowspan=\"1\" colspan=\"1\"><p class=\"Normal\"><span class=\"lang-en\">Bagging</span>&#13;</p><p class=\"Normal parashape-20 Bullet-1\"><span class=\"lang-en\">for</span><span class=\"lang-ko\">문을 이용하여 </span><span class=\"lang-en\">bagging </span><span class=\"lang-ko\">알고리즘 작성</span>&#13;</p><p class=\"Normal parashape-20 Bullet-1\"><span class=\"lang-ko\">패키지를 이용한 </span><span class=\"lang-en\">bagging </span><span class=\"lang-ko\">실습</span>&#13;</p><p class=\"Normal parashape-20 Bullet-1\"><span class=\"lang-en\">bagging</span><span class=\"lang-ko\">의 장단점</span>&#13;</p></td><td class=\"borderfill-3\" style=\"  width: 13.04mm;&#10;  height: 4.52mm;&#10;  padding: 0.5mm 1.8mm 0.5mm 1.8mm;&#10;\" rowspan=\"1\" colspan=\"1\"><p class=\"Normal parashape-21\"><span class=\"lang-ko\">3</span>&#13;</p></td><td class=\"borderfill-5\" style=\"  width: 18.03mm;&#10;  height: 4.52mm;&#10;  padding: 0.5mm 1.8mm 0.5mm 1.8mm;&#10;\" rowspan=\"1\" colspan=\"1\"><p class=\"Normal parashape-21\"><span class=\"lang-ko\">24</span>&#13;</p></td></tr><tr><td class=\"borderfill-10\" style=\"  width: 84.92mm;&#10;  height: 4.52mm;&#10;  padding: 0.5mm 1.8mm 0.5mm 1.8mm;&#10;\" rowspan=\"1\" colspan=\"1\"><p class=\"Normal\"><span class=\"lang-en\">Random Forest</span>&#13;</p><p class=\"Normal\"><span class=\"lang-en\">- Random Forest </span><span class=\"lang-ko\">개념 이해</span>&#13;</p><p class=\"Normal\"><span class=\"lang-en\">- Random Forest </span><span class=\"lang-ko\">알고리즘 실습</span>&#13;</p><p class=\"Normal parashape-20 Bullet-1\"><span class=\"lang-ko\">특성선택</span>&#13;</p></td><td class=\"borderfill-10\" style=\"  width: 13.04mm;&#10;  height: 4.52mm;&#10;  padding: 0.5mm 1.8mm 0.5mm 1.8mm;&#10;\" rowspan=\"1\" colspan=\"1\"><p class=\"Normal parashape-21\"><span class=\"lang-ko\">4</span>&#13;</p></td><td class=\"borderfill-11\" style=\"  width: 18.03mm;&#10;  height: 4.52mm;&#10;  padding: 0.5mm 1.8mm 0.5mm 1.8mm;&#10;\" rowspan=\"1\" colspan=\"1\"><p class=\"Normal parashape-21\"><span class=\"lang-ko\">28</span>&#13;</p></td></tr></table></span>&#13;</p><p class=\"Normal parashape-19\"><span class=\"TableControl\" style=\"  display: inline-block;&#10;\"><table class=\"borderfill-3\" cellspacing=\"0\" style=\"  width: 149.06mm;&#10;  border-collapse: collapse;&#10;\"><caption class=\"TableCaption\" style=\"  caption-side: top;&#10;  margin-bottom: 3mm;&#10;  width: 30mm;&#10;\"><p class=\"Normal\"><span class=\"lang-ko\">표 1 - 계속. 머신러닝 커리큘럼</span>&#13;</p></caption><tr><td class=\"borderfill-6\" style=\"  width: 10.04mm;&#10;  height: 9.51mm;&#10;  padding: 0.5mm 1.8mm 0.5mm 1.8mm;&#10;\" rowspan=\"1\" colspan=\"1\"><p class=\"Normal parashape-21\"><span class=\"lang-en\">no</span>&#13;</p></td><td class=\"borderfill-7\" style=\"  width: 27.02mm;&#10;  height: 9.51mm;&#10;  padding: 0.5mm 1.8mm 0.5mm 1.8mm;&#10;\" rowspan=\"1\" colspan=\"1\"><p class=\"Normal parashape-21\"><span class=\"lang-ko\">주요내용</span>&#13;</p></td><td class=\"borderfill-7\" style=\"  width: 80.93mm;&#10;  height: 9.51mm;&#10;  padding: 0.5mm 1.8mm 0.5mm 1.8mm;&#10;\" rowspan=\"1\" colspan=\"1\"><p class=\"Normal parashape-21\"><span class=\"lang-ko\">세부내용</span>&#13;</p></td><td class=\"borderfill-7\" style=\"  width: 13.04mm;&#10;  height: 9.51mm;&#10;  padding: 0.5mm 1.8mm 0.5mm 1.8mm;&#10;\" rowspan=\"1\" colspan=\"1\"><p class=\"Normal parashape-21\"><span class=\"lang-ko\">소요</span><span class=\"lang-ko\">시간</span>&#13;</p></td><td class=\"borderfill-8\" style=\"  width: 18.03mm;&#10;  height: 9.51mm;&#10;  padding: 0.5mm 1.8mm 0.5mm 1.8mm;&#10;\" rowspan=\"1\" colspan=\"1\"><p class=\"Normal parashape-21\"><span class=\"lang-ko\">누적</span>&#13;</p><p class=\"Normal parashape-21\"><span class=\"lang-ko\">소요시간</span>&#13;</p></td></tr><tr><td class=\"borderfill-9\" style=\"  width: 10.04mm;&#10;  height: 62mm;&#10;  padding: 0.5mm 1.8mm 0.5mm 1.8mm;&#10;\" rowspan=\"6\" colspan=\"1\"><p class=\"Normal parashape-21\"><span class=\"lang-ko\">4</span>&#13;</p></td><td class=\"borderfill-3\" style=\"  width: 27.02mm;&#10;  height: 19.11mm;&#10;  padding: 0.5mm 1.8mm 0.5mm 1.8mm;&#10;\" rowspan=\"3\" colspan=\"1\"><p class=\"Normal parashape-21\"><span class=\"lang-en\">Unsupervised</span>&#13;</p><p class=\"Normal parashape-21\"><span class=\"lang-en\">Learning</span>&#13;</p></td><td class=\"borderfill-3\" style=\"  width: 80.93mm;&#10;  height: 4.52mm;&#10;  padding: 0.5mm 1.8mm 0.5mm 1.8mm;&#10;\" rowspan=\"1\" colspan=\"1\"><p class=\"Normal\"><span class=\"lang-en\">Kmeans</span>&#13;</p><p class=\"Normal\"><span class=\"lang-en\">- Kmeans </span><span class=\"lang-ko\">개념 이해</span>&#13;</p><p class=\"Normal\"><span class=\"lang-en\">- Kmeans </span><span class=\"lang-ko\">알고리즘 실습</span>&#13;</p></td><td class=\"borderfill-3\" style=\"  width: 13.04mm;&#10;  height: 10.17mm;&#10;  padding: 0.5mm 1.8mm 0.5mm 1.8mm;&#10;\" rowspan=\"1\" colspan=\"1\"><p class=\"Normal parashape-21\"><span class=\"lang-ko\">1</span>&#13;</p></td><td class=\"borderfill-5\" style=\"  width: 18.03mm;&#10;  height: 10.17mm;&#10;  padding: 0.5mm 1.8mm 0.5mm 1.8mm;&#10;\" rowspan=\"1\" colspan=\"1\"><p class=\"Normal parashape-21\"><span class=\"lang-ko\">29</span>&#13;</p></td></tr><tr><td class=\"borderfill-3\" style=\"  width: 80.93mm;&#10;  height: 4.52mm;&#10;  padding: 0.5mm 1.8mm 0.5mm 1.8mm;&#10;\" rowspan=\"1\" colspan=\"1\"><p class=\"Normal\"><span class=\"lang-en\">Hierachical Clusterring</span>&#13;</p><p class=\"Normal\"><span class=\"lang-en\">- Hierachical Clusterring </span><span class=\"lang-ko\">개념 이해</span>&#13;</p><p class=\"Normal\"><span class=\"lang-en\">- Hierachical Clusterring </span><span class=\"lang-ko\">실습</span>&#13;</p></td><td class=\"borderfill-3\" style=\"  width: 13.04mm;&#10;  height: 4.52mm;&#10;  padding: 0.5mm 1.8mm 0.5mm 1.8mm;&#10;\" rowspan=\"1\" colspan=\"1\"><p class=\"Normal parashape-21\"><span class=\"lang-ko\">1</span>&#13;</p></td><td class=\"borderfill-5\" style=\"  width: 18.03mm;&#10;  height: 4.52mm;&#10;  padding: 0.5mm 1.8mm 0.5mm 1.8mm;&#10;\" rowspan=\"1\" colspan=\"1\"><p class=\"Normal parashape-21\"><span class=\"lang-ko\">30</span>&#13;</p></td></tr><tr><td class=\"borderfill-3\" style=\"  width: 80.93mm;&#10;  height: 4.52mm;&#10;  padding: 0.5mm 1.8mm 0.5mm 1.8mm;&#10;\" rowspan=\"1\" colspan=\"1\"><p class=\"Normal\"><span class=\"lang-en\">DBSCAN</span>&#13;</p><p class=\"Normal\"><span class=\"lang-en\">- DBSCAN </span><span class=\"lang-ko\">개념 이해</span>&#13;</p><p class=\"Normal\"><span class=\"lang-en\">- DBSCAN </span><span class=\"lang-ko\">알고리즘 실습</span>&#13;</p></td><td class=\"borderfill-3\" style=\"  width: 13.04mm;&#10;  height: 4.52mm;&#10;  padding: 0.5mm 1.8mm 0.5mm 1.8mm;&#10;\" rowspan=\"1\" colspan=\"1\"><p class=\"Normal parashape-21\"><span class=\"lang-ko\">1</span>&#13;</p></td><td class=\"borderfill-5\" style=\"  width: 18.03mm;&#10;  height: 4.52mm;&#10;  padding: 0.5mm 1.8mm 0.5mm 1.8mm;&#10;\" rowspan=\"1\" colspan=\"1\"><p class=\"Normal parashape-21\"><span class=\"lang-ko\">31</span>&#13;</p></td></tr><tr><td class=\"borderfill-10\" style=\"  width: 27.02mm;&#10;  height: 14.57mm;&#10;  padding: 0.5mm 1.8mm 0.5mm 1.8mm;&#10;\" rowspan=\"3\" colspan=\"1\"><p class=\"Normal parashape-21\"><span class=\"lang-en\">Imbalanced </span>&#13;</p><p class=\"Normal parashape-21\"><span class=\"lang-en\">data</span>&#13;</p></td><td class=\"borderfill-3\" style=\"  width: 80.93mm;&#10;  height: 5.52mm;&#10;  padding: 0.5mm 1.8mm 0.5mm 1.8mm;&#10;\" rowspan=\"1\" colspan=\"1\"><p class=\"Normal\"><span class=\"lang-en\">- Class imbalanced data </span><span class=\"lang-ko\">문제 정의</span>&#13;</p><p class=\"Normal\"><span class=\"lang-en\">- Class imbalanced data </span><span class=\"lang-ko\">문제를 해결하기 위</span>&#13;</p><p class=\"Normal\"><span class=\"lang-ko\">  한 기법 소개</span>&#13;</p></td><td class=\"borderfill-3\" style=\"  width: 13.04mm;&#10;  height: 5.52mm;&#10;  padding: 0.5mm 1.8mm 0.5mm 1.8mm;&#10;\" rowspan=\"1\" colspan=\"1\"><p class=\"Normal parashape-21\"><span class=\"lang-ko\">1</span>&#13;</p></td><td class=\"borderfill-5\" style=\"  width: 18.03mm;&#10;  height: 5.52mm;&#10;  padding: 0.5mm 1.8mm 0.5mm 1.8mm;&#10;\" rowspan=\"1\" colspan=\"1\"><p class=\"Normal parashape-21\"><span class=\"lang-ko\">32</span>&#13;</p></td></tr><tr><td class=\"borderfill-3\" style=\"  width: 80.93mm;&#10;  height: 4.52mm;&#10;  padding: 0.5mm 1.8mm 0.5mm 1.8mm;&#10;\" rowspan=\"1\" colspan=\"1\"><p class=\"Normal\"><span class=\"lang-en\">- oversampling </span><span class=\"lang-ko\">기법과 </span><span class=\"lang-en\">SMOTE </span><span class=\"lang-ko\">소개 및 실습</span>&#13;</p></td><td class=\"borderfill-3\" style=\"  width: 13.04mm;&#10;  height: 4.52mm;&#10;  padding: 0.5mm 1.8mm 0.5mm 1.8mm;&#10;\" rowspan=\"1\" colspan=\"1\"><p class=\"Normal parashape-21\"><span class=\"lang-ko\">2</span>&#13;</p></td><td class=\"borderfill-5\" style=\"  width: 18.03mm;&#10;  height: 4.52mm;&#10;  padding: 0.5mm 1.8mm 0.5mm 1.8mm;&#10;\" rowspan=\"1\" colspan=\"1\"><p class=\"Normal parashape-21\"><span class=\"lang-ko\">34</span>&#13;</p></td></tr><tr><td class=\"borderfill-10\" style=\"  width: 80.93mm;&#10;  height: 1.12mm;&#10;  padding: 0.5mm 1.8mm 0.5mm 1.8mm;&#10;\" rowspan=\"1\" colspan=\"1\"><p class=\"Normal parashape-20 Bullet-1\"><span class=\"lang-en\">Undersampling </span><span class=\"lang-ko\">기법과 실습</span>&#13;</p></td><td class=\"borderfill-10\" style=\"  width: 13.04mm;&#10;  height: 4.52mm;&#10;  padding: 0.5mm 1.8mm 0.5mm 1.8mm;&#10;\" rowspan=\"1\" colspan=\"1\"><p class=\"Normal parashape-21\"><span class=\"lang-ko\">1</span>&#13;</p></td><td class=\"borderfill-11\" style=\"  width: 18.03mm;&#10;  height: 4.52mm;&#10;  padding: 0.5mm 1.8mm 0.5mm 1.8mm;&#10;\" rowspan=\"1\" colspan=\"1\"><p class=\"Normal parashape-21\"><span class=\"lang-ko\">35</span>&#13;</p></td></tr></table></span>&#13;</p><p class=\"Normal parashape-19\"></p><p class=\"Normal parashape-19\"></p><p class=\"Normal parashape-19\"></p><p class=\"Normal parashape-19\"></p><p class=\"Normal parashape-19\"></p><p class=\"Normal parashape-19\"></p><p class=\"Normal parashape-19\"></p><p class=\"Normal parashape-19\"></p></div></div></div></body></html>']\n"
     ]
    },
    {
     "ename": "NameError",
     "evalue": "name 'parser' is not defined",
     "output_type": "error",
     "traceback": [
      "\u001b[1;31m---------------------------------------------------------------------------\u001b[0m",
      "\u001b[1;31mNameError\u001b[0m                                 Traceback (most recent call last)",
      "\u001b[1;32m<ipython-input-1-623fa4aafea9>\u001b[0m in \u001b[0;36m<module>\u001b[1;34m\u001b[0m\n\u001b[0;32m      1\u001b[0m \u001b[1;32mwith\u001b[0m \u001b[0mopen\u001b[0m\u001b[1;33m(\u001b[0m\u001b[1;34m'./test/index.xhtml'\u001b[0m\u001b[1;33m,\u001b[0m \u001b[0mencoding\u001b[0m\u001b[1;33m=\u001b[0m\u001b[1;34m'utf8'\u001b[0m\u001b[1;33m)\u001b[0m \u001b[1;32mas\u001b[0m \u001b[0mxhtml\u001b[0m\u001b[1;33m:\u001b[0m\u001b[1;33m\u001b[0m\u001b[1;33m\u001b[0m\u001b[0m\n\u001b[0;32m      2\u001b[0m     \u001b[0mprint\u001b[0m\u001b[1;33m(\u001b[0m\u001b[0mxhtml\u001b[0m\u001b[1;33m.\u001b[0m\u001b[0mreadlines\u001b[0m\u001b[1;33m(\u001b[0m\u001b[1;33m)\u001b[0m\u001b[1;33m)\u001b[0m\u001b[1;33m\u001b[0m\u001b[1;33m\u001b[0m\u001b[0m\n\u001b[1;32m----> 3\u001b[1;33m     \u001b[0mparser\u001b[0m\u001b[1;33m.\u001b[0m\u001b[0mfeed\u001b[0m\u001b[1;33m(\u001b[0m\u001b[1;34m''\u001b[0m\u001b[1;33m.\u001b[0m\u001b[0mjoin\u001b[0m\u001b[1;33m(\u001b[0m\u001b[0mxhtml\u001b[0m\u001b[1;33m.\u001b[0m\u001b[0mreadlines\u001b[0m\u001b[1;33m(\u001b[0m\u001b[1;33m)\u001b[0m\u001b[1;33m)\u001b[0m\u001b[1;33m)\u001b[0m\u001b[1;33m\u001b[0m\u001b[1;33m\u001b[0m\u001b[0m\n\u001b[0m",
      "\u001b[1;31mNameError\u001b[0m: name 'parser' is not defined"
     ]
    }
   ],
   "source": [
    "with open('./test/index.xhtml', encoding='utf8') as xhtml:\n",
    "    parser.feed(''.join(xhtml.readlines()))    "
   ]
  },
  {
   "cell_type": "code",
   "execution_count": 10,
   "metadata": {},
   "outputs": [
    {
     "data": {
      "text/plain": [
       "'▪머신러닝\\r표 1. 머신러닝 커리큘럼\\rno\\r주요내용\\r세부내용\\r소요시간\\r누적\\r소요시간\\r1\\r머신러닝의 개념과 종류\\r머신러닝의 개요와 기초지식\\r왜 머신러닝인가?\\rscikit-learn 라이브러리 소개\\r문제와 데이터 이해하기\\r1\\r1\\r머신러닝의 종류\\r- 지도학습과 비지도학습\\r머신러닝의 활용사례\\r전반적인 머신러닝 알고리즘 실습절차를 익혀봅니다\\r1\\r2\\r2\\rSupervised\\rLearning\\r- 분류와 회귀\\r- 일반화, 과대적합, 과소적합\\r1\\r3\\rnaive Bayes classifier\\r- naive Bayes classifier 정의\\r- naive Bayes 종류 및 이해\\r- naive Bayes 알고리즘 실습\\r3\\r6\\rK-Nearest Neighbor(KNN) 배경\\r- KNN 모델 정의 및 이해\\r- KNN 알고리즘 실습\\r- Cross-validation을 활용한 최적의 k찾기\\r4\\r10\\rdecision tree\\r- Training/Test data set \\r- Classification tree의 정의 및 이해\\r- decision tree 알고리즘 실습\\rConfusion matrix 및 평가지표 설명\\r6\\r16\\rSupport Vector Machine(SVM)\\rSVM의 배경 및 수학적 개념 이해(Lagrange multiplier)\\r- SVM 알고리즘 실습\\r교차검증 그리드 서치\\r4\\r20\\r3\\rEnsemble\\rLearning\\rEnsemble의 개념 및 종류\\r1\\r21\\rBagging\\rfor문을 이용하여 bagging 알고리즘 작성\\r패키지를 이용한 bagging 실습\\rbagging의 장단점\\r3\\r24\\rRandom Forest\\r- Random Forest 개념 이해\\r- Random Forest 알고리즘 실습\\r특성선택\\r4\\r28\\r\\r표 1 - 계속. 머신러닝 커리큘럼\\rno\\r주요내용\\r세부내용\\r소요시간\\r누적\\r소요시간\\r4\\rUnsupervised\\rLearning\\rKmeans\\r- Kmeans 개념 이해\\r- Kmeans 알고리즘 실습\\r1\\r29\\rHierachical Clusterring\\r- Hierachical Clusterring 개념 이해\\r- Hierachical Clusterring 실습\\r1\\r30\\rDBSCAN\\r- DBSCAN 개념 이해\\r- DBSCAN 알고리즘 실습\\r1\\r31\\rImbalanced \\rdata\\r- Class imbalanced data 문제 정의\\r- Class imbalanced data 문제를 해결하기 위\\r  한 기법 소개\\r1\\r32\\r- oversampling 기법과 SMOTE 소개 및 실습\\r2\\r34\\rUndersampling 기법과 실습\\r1\\r35\\r\\r'"
      ]
     },
     "execution_count": 10,
     "metadata": {},
     "output_type": "execute_result"
    }
   ],
   "source": [
    "text = ''.join(parser.contents)\n",
    "text"
   ]
  },
  {
   "cell_type": "code",
   "execution_count": 11,
   "metadata": {},
   "outputs": [
    {
     "data": {
      "text/plain": [
       "' 머신러닝 표 1  머신러닝 커리큘럼 no 주요내용 세부내용 소요시간 누적 소요시간 1 머신러닝의 개념과 종류 머신러닝의 개요와 기초지식 왜 머신러닝인가 scikit learn 라이브러리 소개 문제와 데이터 이해하기 1 1 머신러닝의 종류  지도학습과 비지도학습 머신러닝의 활용사례 전반적인 머신러닝 알고리즘 실습절차를 익혀봅니다 1 2 2 Supervised Learning  분류와 회귀  일반화  과대적합  과소적합 1 3 naive Bayes classifier  naive Bayes classifier 정의  naive Bayes 종류 및 이해  naive Bayes 알고리즘 실습 3 6 K Nearest Neighbor KNN  배경  KNN 모델 정의 및 이해  KNN 알고리즘 실습  Cross validation을 활용한 최적의 k찾기 4 10 decision tree  Training Test data set   Classification tree의 정의 및 이해  decision tree 알고리즘 실습 Confusion matrix 및 평가지표 설명 6 16 Support Vector Machine SVM SVM의 배경 및 수학적 개념 이해 Lagrange multiplier  SVM 알고리즘 실습 교차검증 그리드 서치 4 20 3 Ensemble Learning Ensemble의 개념 및 종류 1 21 Bagging for문을 이용하여 bagging 알고리즘 작성 패키지를 이용한 bagging 실습 bagging의 장단점 3 24 Random Forest  Random Forest 개념 이해  Random Forest 알고리즘 실습 특성선택 4 28 표 1   계속  머신러닝 커리큘럼 no 주요내용 세부내용 소요시간 누적 소요시간 4 Unsupervised Learning Kmeans  Kmeans 개념 이해  Kmeans 알고리즘 실습 1 29 Hierachical Clusterring  Hierachical Clusterring 개념 이해  Hierachical Clusterring 실습 1 30 DBSCAN  DBSCAN 개념 이해  DBSCAN 알고리즘 실습 1 31 Imbalanced  data  Class imbalanced data 문제 정의  Class imbalanced data 문제를 해결하기 위   한 기법 소개 1 32  oversampling 기법과 SMOTE 소개 및 실습 2 34 Undersampling 기법과 실습 1 35 '"
      ]
     },
     "execution_count": 11,
     "metadata": {},
     "output_type": "execute_result"
    }
   ],
   "source": [
    "import re\n",
    "escape = re.compile('[^ a-zA-Z0-9\\u3131-\\u3163\\uac00-\\ud7a3]+')\n",
    "text = escape.sub(' ', text)\n",
    "text"
   ]
  },
  {
   "cell_type": "code",
   "execution_count": null,
   "metadata": {},
   "outputs": [],
   "source": []
  }
 ],
 "metadata": {
  "kernelspec": {
   "display_name": "Python 3",
   "language": "python",
   "name": "python3"
  },
  "language_info": {
   "codemirror_mode": {
    "name": "ipython",
    "version": 3
   },
   "file_extension": ".py",
   "mimetype": "text/x-python",
   "name": "python",
   "nbconvert_exporter": "python",
   "pygments_lexer": "ipython3",
   "version": "3.7.3"
  }
 },
 "nbformat": 4,
 "nbformat_minor": 4
}
