{
 "cells": [
  {
   "cell_type": "markdown",
   "metadata": {},
   "source": [
    "## 데이터 로드"
   ]
  },
  {
   "cell_type": "code",
   "execution_count": 51,
   "metadata": {},
   "outputs": [],
   "source": [
    "import warnings\n",
    "warnings.filterwarnings('ignore')"
   ]
  },
  {
   "cell_type": "code",
   "execution_count": 52,
   "metadata": {},
   "outputs": [],
   "source": [
    "from keras.datasets import mnist\n",
    "from keras.utils import to_categorical"
   ]
  },
  {
   "cell_type": "code",
   "execution_count": 53,
   "metadata": {},
   "outputs": [],
   "source": [
    "(train_images, train_labels), (test_images, test_labels) = mnist.load_data()"
   ]
  },
  {
   "cell_type": "code",
   "execution_count": 54,
   "metadata": {},
   "outputs": [],
   "source": [
    "val_images = train_images[50000:]\n",
    "val_labels = train_labels[50000:]\n",
    "train_images = train_images[:50000]\n",
    "train_labels = train_labels[:50000]"
   ]
  },
  {
   "cell_type": "code",
   "execution_count": 55,
   "metadata": {},
   "outputs": [],
   "source": [
    "train_images = train_images.reshape(50000, 784).astype('float32') / 255.0\n",
    "val_images = val_images.reshape(10000, 784).astype('float32') / 255.0\n",
    "test_images = test_images.reshape(10000, 784).astype('float32') / 255.0"
   ]
  },
  {
   "cell_type": "code",
   "execution_count": 56,
   "metadata": {},
   "outputs": [],
   "source": [
    "train_labels = to_categorical(train_labels)\n",
    "val_labels = to_categorical(val_labels)\n",
    "test_labels = to_categorical(test_labels)"
   ]
  },
  {
   "cell_type": "markdown",
   "metadata": {},
   "source": [
    "## 네트워크 모델 설계"
   ]
  },
  {
   "cell_type": "code",
   "execution_count": 57,
   "metadata": {},
   "outputs": [],
   "source": [
    "from keras import models\n",
    "from keras import layers"
   ]
  },
  {
   "cell_type": "code",
   "execution_count": 58,
   "metadata": {},
   "outputs": [],
   "source": [
    "model = models.Sequential()\n",
    "model.add(layers.Dense(64, activation='relu', input_shape=(28 * 28,)))\n",
    "model.add(layers.Dense(10, activation='softmax'))"
   ]
  },
  {
   "cell_type": "code",
   "execution_count": 59,
   "metadata": {},
   "outputs": [],
   "source": [
    "model.compile(optimizer='rmsprop',\n",
    "              loss='categorical_crossentropy',\n",
    "              metrics=['accuracy'])"
   ]
  },
  {
   "cell_type": "code",
   "execution_count": 60,
   "metadata": {},
   "outputs": [
    {
     "name": "stdout",
     "output_type": "stream",
     "text": [
      "Model: \"sequential_5\"\n",
      "_________________________________________________________________\n",
      "Layer (type)                 Output Shape              Param #   \n",
      "=================================================================\n",
      "dense_9 (Dense)              (None, 64)                50240     \n",
      "_________________________________________________________________\n",
      "dense_10 (Dense)             (None, 10)                650       \n",
      "=================================================================\n",
      "Total params: 50,890\n",
      "Trainable params: 50,890\n",
      "Non-trainable params: 0\n",
      "_________________________________________________________________\n"
     ]
    }
   ],
   "source": [
    "model.summary()"
   ]
  },
  {
   "cell_type": "code",
   "execution_count": 61,
   "metadata": {},
   "outputs": [],
   "source": [
    "from keras.callbacks import TensorBoard \n",
    "tensorboard = TensorBoard(log_dir=\"d:/temp/logs\")"
   ]
  },
  {
   "cell_type": "markdown",
   "metadata": {},
   "source": [
    "## 모델 훈련(training)"
   ]
  },
  {
   "cell_type": "markdown",
   "metadata": {},
   "source": [
    "### Early Stopping 미적용"
   ]
  },
  {
   "cell_type": "markdown",
   "metadata": {},
   "source": [
    "### Early Stopping 적용 / patience 미적용"
   ]
  },
  {
   "cell_type": "code",
   "execution_count": null,
   "metadata": {},
   "outputs": [],
   "source": [
    "from keras.callbacks import EarlyStopping\n",
    "early_stopping = EarlyStopping(patience=10)"
   ]
  },
  {
   "cell_type": "code",
   "execution_count": 62,
   "metadata": {},
   "outputs": [
    {
     "name": "stdout",
     "output_type": "stream",
     "text": [
      "Train on 40000 samples, validate on 10000 samples\n",
      "Epoch 1/100\n",
      "40000/40000 [==============================] - 2s 38us/step - loss: 0.3878 - accuracy: 0.8943 - val_loss: 0.2610 - val_accuracy: 0.9249\n",
      "Epoch 2/100\n",
      "40000/40000 [==============================] - 2s 40us/step - loss: 0.2011 - accuracy: 0.9416 - val_loss: 0.2083 - val_accuracy: 0.9397\n",
      "Epoch 3/100\n",
      "40000/40000 [==============================] - 2s 38us/step - loss: 0.1554 - accuracy: 0.9555 - val_loss: 0.1830 - val_accuracy: 0.9469\n",
      "Epoch 4/100\n",
      "40000/40000 [==============================] - 2s 39us/step - loss: 0.1268 - accuracy: 0.9636 - val_loss: 0.1652 - val_accuracy: 0.9515\n",
      "Epoch 5/100\n",
      "40000/40000 [==============================] - 2s 39us/step - loss: 0.1078 - accuracy: 0.9691 - val_loss: 0.1632 - val_accuracy: 0.9529\n",
      "Epoch 6/100\n",
      "40000/40000 [==============================] - 1s 37us/step - loss: 0.0941 - accuracy: 0.9722 - val_loss: 0.1473 - val_accuracy: 0.9567\n",
      "Epoch 7/100\n",
      "40000/40000 [==============================] - 2s 39us/step - loss: 0.0821 - accuracy: 0.9758 - val_loss: 0.1505 - val_accuracy: 0.9576\n",
      "Epoch 8/100\n",
      "40000/40000 [==============================] - 2s 40us/step - loss: 0.0735 - accuracy: 0.9784 - val_loss: 0.1412 - val_accuracy: 0.9597\n",
      "Epoch 9/100\n",
      "40000/40000 [==============================] - 2s 40us/step - loss: 0.0655 - accuracy: 0.9809 - val_loss: 0.1403 - val_accuracy: 0.9596\n",
      "Epoch 10/100\n",
      "40000/40000 [==============================] - 2s 40us/step - loss: 0.0592 - accuracy: 0.9826 - val_loss: 0.1390 - val_accuracy: 0.9607\n",
      "Epoch 11/100\n",
      "40000/40000 [==============================] - 2s 38us/step - loss: 0.0527 - accuracy: 0.9845 - val_loss: 0.1385 - val_accuracy: 0.9613\n",
      "Epoch 12/100\n",
      "40000/40000 [==============================] - 1s 37us/step - loss: 0.0484 - accuracy: 0.9863 - val_loss: 0.1388 - val_accuracy: 0.9615\n",
      "Epoch 13/100\n",
      "40000/40000 [==============================] - 1s 37us/step - loss: 0.0441 - accuracy: 0.9878 - val_loss: 0.1406 - val_accuracy: 0.9612\n",
      "Epoch 14/100\n",
      "40000/40000 [==============================] - 2s 38us/step - loss: 0.0402 - accuracy: 0.9887 - val_loss: 0.1391 - val_accuracy: 0.9618\n",
      "Epoch 15/100\n",
      "40000/40000 [==============================] - 2s 43us/step - loss: 0.0363 - accuracy: 0.9899 - val_loss: 0.1461 - val_accuracy: 0.9617\n",
      "Epoch 16/100\n",
      "40000/40000 [==============================] - 2s 38us/step - loss: 0.0330 - accuracy: 0.9909 - val_loss: 0.1453 - val_accuracy: 0.9608\n",
      "Epoch 17/100\n",
      "40000/40000 [==============================] - 2s 38us/step - loss: 0.0301 - accuracy: 0.9916 - val_loss: 0.1494 - val_accuracy: 0.9608\n",
      "Epoch 18/100\n",
      "40000/40000 [==============================] - 2s 39us/step - loss: 0.0276 - accuracy: 0.9927 - val_loss: 0.1523 - val_accuracy: 0.9614\n",
      "Epoch 19/100\n",
      "40000/40000 [==============================] - 1s 37us/step - loss: 0.0252 - accuracy: 0.9934 - val_loss: 0.1581 - val_accuracy: 0.9608\n",
      "Epoch 20/100\n",
      "40000/40000 [==============================] - 1s 37us/step - loss: 0.0230 - accuracy: 0.9940 - val_loss: 0.1548 - val_accuracy: 0.9619\n",
      "Epoch 21/100\n",
      "40000/40000 [==============================] - 2s 39us/step - loss: 0.0211 - accuracy: 0.9949 - val_loss: 0.1586 - val_accuracy: 0.9618\n"
     ]
    },
    {
     "data": {
      "text/plain": [
       "<keras.callbacks.callbacks.History at 0x298e5e44688>"
      ]
     },
     "execution_count": 62,
     "metadata": {},
     "output_type": "execute_result"
    }
   ],
   "source": [
    "model.fit(train_images, train_labels, epochs=100, batch_size=64, \n",
    "          validation_split=0.2,\n",
    "          callbacks=[tensorboard, early_stopping]) "
   ]
  },
  {
   "cell_type": "markdown",
   "metadata": {},
   "source": [
    "## 모델 평가"
   ]
  },
  {
   "cell_type": "code",
   "execution_count": 63,
   "metadata": {},
   "outputs": [
    {
     "name": "stdout",
     "output_type": "stream",
     "text": [
      "10000/10000 [==============================] - 0s 36us/step\n"
     ]
    }
   ],
   "source": [
    "test_loss, test_acc = model.evaluate(test_images, test_labels)"
   ]
  },
  {
   "cell_type": "code",
   "execution_count": 64,
   "metadata": {},
   "outputs": [
    {
     "name": "stdout",
     "output_type": "stream",
     "text": [
      "test_acc: 0.9708999991416931\n"
     ]
    }
   ],
   "source": [
    "print('test_acc:', test_acc)"
   ]
  },
  {
   "cell_type": "markdown",
   "metadata": {},
   "source": [
    "## 모델 save"
   ]
  },
  {
   "cell_type": "code",
   "execution_count": 65,
   "metadata": {},
   "outputs": [],
   "source": [
    "import os\n",
    "\n",
    "if not os.path.exists('./model'):\n",
    "    os.makedir('model')"
   ]
  },
  {
   "cell_type": "code",
   "execution_count": 66,
   "metadata": {},
   "outputs": [],
   "source": [
    "model.save('model/model.h5')"
   ]
  },
  {
   "cell_type": "code",
   "execution_count": null,
   "metadata": {},
   "outputs": [],
   "source": []
  }
 ],
 "metadata": {
  "kernelspec": {
   "display_name": "tf_env",
   "language": "python",
   "name": "tf_env"
  },
  "language_info": {
   "codemirror_mode": {
    "name": "ipython",
    "version": 3
   },
   "file_extension": ".py",
   "mimetype": "text/x-python",
   "name": "python",
   "nbconvert_exporter": "python",
   "pygments_lexer": "ipython3",
   "version": "3.7.4"
  }
 },
 "nbformat": 4,
 "nbformat_minor": 2
}
